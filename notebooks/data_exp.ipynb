{
 "cells": [
  {
   "cell_type": "code",
   "execution_count": 1,
   "metadata": {
    "collapsed": true
   },
   "outputs": [],
   "source": [
    "import json"
   ]
  },
  {
   "cell_type": "code",
   "execution_count": 2,
   "metadata": {
    "collapsed": true
   },
   "outputs": [],
   "source": [
    "import numpy as np\n",
    "np.random.seed(369)\n",
    "import scipy.stats as scs\n",
    "import matplotlib.pyplot as plt\n",
    "import pandas as pd\n",
    "%matplotlib inline\n",
    "from IPython.core.interactiveshell import InteractiveShell\n",
    "InteractiveShell.ast_node_interactivity = 'all'"
   ]
  },
  {
   "cell_type": "code",
   "execution_count": 49,
   "metadata": {},
   "outputs": [],
   "source": [
    "from sklearn.ensemble import RandomForestClassifier, GradientBoostingClassifier\n",
    "from sklearn.grid_search import GridSearchCV\n",
    "from sklearn.linear_model import LogisticRegression\n",
    "from sklearn.model_selection import train_test_split, cross_val_score\n",
    "from sklearn.pipeline import Pipeline, FeatureUnion\n",
    "from sklearn.preprocessing import LabelBinarizer, StandardScaler\n",
    "from sklearn.base import TransformerMixin, BaseEstimator\n",
    "from sklearn.externals import joblib"
   ]
  },
  {
   "cell_type": "code",
   "execution_count": 42,
   "metadata": {
    "collapsed": true
   },
   "outputs": [],
   "source": [
    "from frag_tools import (EquipmentScaler,\n",
    "                        TargetBinarizer,\n",
    "                        NameChanger,\n",
    "                        MakeDummies,\n",
    "                        DropColumns)\n",
    "from sklearn.metrics import precision_recall_fscore_support, roc_auc_score, precision_recall_curve, average_precision_score"
   ]
  },
  {
   "cell_type": "code",
   "execution_count": 5,
   "metadata": {
    "collapsed": true
   },
   "outputs": [],
   "source": [
    "raw_df = pd.read_csv('../static/data/machine_failures.csv')"
   ]
  },
  {
   "cell_type": "code",
   "execution_count": 6,
   "metadata": {},
   "outputs": [
    {
     "name": "stderr",
     "output_type": "stream",
     "text": [
      "/home/kurtrm/anaconda/lib/python3.6/site-packages/sklearn/utils/validation.py:475: DataConversionWarning: Data with input dtype int64 was converted to float64 by StandardScaler.\n",
      "  warnings.warn(msg, DataConversionWarning)\n"
     ]
    }
   ],
   "source": [
    "scaled_pipe = Pipeline([\n",
    "('name_changer', NameChanger()),\n",
    "('scaler', EquipmentScaler(['temp', 'humidity', 'Measure1', 'Measure2', 'Measure3', 'Measure4', 'Measure5', 'Measure6', 'Measure7', 'Measure8', 'Measure9', 'Measure10', 'Measure11', 'Measure12', 'Measure13', 'Measure14', 'Measure15', 'hours_since_prev_fail'])),\n",
    "('get_dummies', MakeDummies(['Operator', 'day-of-week'])),\n",
    "('scale_y', TargetBinarizer('failure')),\n",
    "('drop_cols', DropColumns(['date', 'year', 'month', 'day-of-month', 'hour', 'minute', 'second',\n",
    "                         'Monday', 'Tuesday', 'Wednesday', 'Thursday', 'Friday',\n",
    "                         'Saturday', 'Sunday']))\n",
    "])\n",
    "scaled_data = scaled_pipe.fit_transform(raw_df)"
   ]
  },
  {
   "cell_type": "code",
   "execution_count": 7,
   "metadata": {
    "collapsed": true
   },
   "outputs": [],
   "source": [
    "const_pipe = Pipeline([\n",
    "('name_changer', NameChanger()),\n",
    "('get_dummies', MakeDummies(['Operator', 'day-of-week'])),\n",
    "('scale_y', TargetBinarizer('failure')),\n",
    "('drop_cols', DropColumns(['date', 'year', 'month', 'day-of-month', 'hour', 'minute', 'second',\n",
    "                         'Monday', 'Tuesday', 'Wednesday', 'Thursday', 'Friday',\n",
    "                         'Saturday', 'Sunday']))\n",
    "])\n",
    "const_data = const_pipe.fit_transform(raw_df)"
   ]
  },
  {
   "cell_type": "code",
   "execution_count": 8,
   "metadata": {},
   "outputs": [
    {
     "data": {
      "text/html": [
       "<div>\n",
       "<style>\n",
       "    .dataframe thead tr:only-child th {\n",
       "        text-align: right;\n",
       "    }\n",
       "\n",
       "    .dataframe thead th {\n",
       "        text-align: left;\n",
       "    }\n",
       "\n",
       "    .dataframe tbody tr th {\n",
       "        vertical-align: top;\n",
       "    }\n",
       "</style>\n",
       "<table border=\"1\" class=\"dataframe\">\n",
       "  <thead>\n",
       "    <tr style=\"text-align: right;\">\n",
       "      <th></th>\n",
       "      <th>temp</th>\n",
       "      <th>humidity</th>\n",
       "      <th>Measure1</th>\n",
       "      <th>Measure2</th>\n",
       "      <th>Measure3</th>\n",
       "      <th>Measure4</th>\n",
       "      <th>Measure5</th>\n",
       "      <th>Measure6</th>\n",
       "      <th>Measure7</th>\n",
       "      <th>Measure8</th>\n",
       "      <th>...</th>\n",
       "      <th>hours_since_prev_fail</th>\n",
       "      <th>failure</th>\n",
       "      <th>Operator1</th>\n",
       "      <th>Operator2</th>\n",
       "      <th>Operator3</th>\n",
       "      <th>Operator4</th>\n",
       "      <th>Operator5</th>\n",
       "      <th>Operator6</th>\n",
       "      <th>Operator7</th>\n",
       "      <th>Operator8</th>\n",
       "    </tr>\n",
       "  </thead>\n",
       "  <tbody>\n",
       "    <tr>\n",
       "      <th>count</th>\n",
       "      <td>8.784000e+03</td>\n",
       "      <td>8.784000e+03</td>\n",
       "      <td>8.784000e+03</td>\n",
       "      <td>8.784000e+03</td>\n",
       "      <td>8.784000e+03</td>\n",
       "      <td>8.784000e+03</td>\n",
       "      <td>8.784000e+03</td>\n",
       "      <td>8.784000e+03</td>\n",
       "      <td>8.784000e+03</td>\n",
       "      <td>8.784000e+03</td>\n",
       "      <td>...</td>\n",
       "      <td>8.784000e+03</td>\n",
       "      <td>8784.000000</td>\n",
       "      <td>8784.000000</td>\n",
       "      <td>8784.000000</td>\n",
       "      <td>8784.000000</td>\n",
       "      <td>8784.000000</td>\n",
       "      <td>8784.000000</td>\n",
       "      <td>8784.000000</td>\n",
       "      <td>8784.000000</td>\n",
       "      <td>8784.000000</td>\n",
       "    </tr>\n",
       "    <tr>\n",
       "      <th>mean</th>\n",
       "      <td>1.298218e-15</td>\n",
       "      <td>7.780977e-15</td>\n",
       "      <td>-7.975304e-17</td>\n",
       "      <td>-8.316561e-18</td>\n",
       "      <td>-3.999703e-17</td>\n",
       "      <td>-5.389334e-17</td>\n",
       "      <td>4.036945e-17</td>\n",
       "      <td>-1.517330e-16</td>\n",
       "      <td>9.689173e-17</td>\n",
       "      <td>1.412046e-16</td>\n",
       "      <td>...</td>\n",
       "      <td>9.244275e-17</td>\n",
       "      <td>0.009221</td>\n",
       "      <td>0.111111</td>\n",
       "      <td>0.222222</td>\n",
       "      <td>0.111111</td>\n",
       "      <td>0.111111</td>\n",
       "      <td>0.111111</td>\n",
       "      <td>0.111111</td>\n",
       "      <td>0.111111</td>\n",
       "      <td>0.111111</td>\n",
       "    </tr>\n",
       "    <tr>\n",
       "      <th>std</th>\n",
       "      <td>1.000057e+00</td>\n",
       "      <td>1.000057e+00</td>\n",
       "      <td>1.000057e+00</td>\n",
       "      <td>1.000057e+00</td>\n",
       "      <td>1.000057e+00</td>\n",
       "      <td>1.000057e+00</td>\n",
       "      <td>1.000057e+00</td>\n",
       "      <td>1.000057e+00</td>\n",
       "      <td>1.000057e+00</td>\n",
       "      <td>1.000057e+00</td>\n",
       "      <td>...</td>\n",
       "      <td>1.000057e+00</td>\n",
       "      <td>0.095589</td>\n",
       "      <td>0.314288</td>\n",
       "      <td>0.415763</td>\n",
       "      <td>0.314288</td>\n",
       "      <td>0.314288</td>\n",
       "      <td>0.314288</td>\n",
       "      <td>0.314288</td>\n",
       "      <td>0.314288</td>\n",
       "      <td>0.314288</td>\n",
       "    </tr>\n",
       "    <tr>\n",
       "      <th>min</th>\n",
       "      <td>-2.057623e+01</td>\n",
       "      <td>-3.791804e+00</td>\n",
       "      <td>-1.742613e+00</td>\n",
       "      <td>-1.335556e+00</td>\n",
       "      <td>-1.223874e+00</td>\n",
       "      <td>-1.708575e+00</td>\n",
       "      <td>-1.727206e+00</td>\n",
       "      <td>-1.724846e+00</td>\n",
       "      <td>-1.731621e+00</td>\n",
       "      <td>-1.716960e+00</td>\n",
       "      <td>...</td>\n",
       "      <td>-1.425711e+00</td>\n",
       "      <td>0.000000</td>\n",
       "      <td>0.000000</td>\n",
       "      <td>0.000000</td>\n",
       "      <td>0.000000</td>\n",
       "      <td>0.000000</td>\n",
       "      <td>0.000000</td>\n",
       "      <td>0.000000</td>\n",
       "      <td>0.000000</td>\n",
       "      <td>0.000000</td>\n",
       "    </tr>\n",
       "    <tr>\n",
       "      <th>25%</th>\n",
       "      <td>-7.063942e-01</td>\n",
       "      <td>-6.900544e-01</td>\n",
       "      <td>-8.600421e-01</td>\n",
       "      <td>-1.335556e+00</td>\n",
       "      <td>-1.223874e+00</td>\n",
       "      <td>-8.627965e-01</td>\n",
       "      <td>-8.812564e-01</td>\n",
       "      <td>-8.483996e-01</td>\n",
       "      <td>-8.657150e-01</td>\n",
       "      <td>-8.661846e-01</td>\n",
       "      <td>...</td>\n",
       "      <td>-8.391938e-01</td>\n",
       "      <td>0.000000</td>\n",
       "      <td>0.000000</td>\n",
       "      <td>0.000000</td>\n",
       "      <td>0.000000</td>\n",
       "      <td>0.000000</td>\n",
       "      <td>0.000000</td>\n",
       "      <td>0.000000</td>\n",
       "      <td>0.000000</td>\n",
       "      <td>0.000000</td>\n",
       "    </tr>\n",
       "    <tr>\n",
       "      <th>50%</th>\n",
       "      <td>-9.206936e-03</td>\n",
       "      <td>-6.970461e-02</td>\n",
       "      <td>9.495298e-03</td>\n",
       "      <td>-4.391302e-01</td>\n",
       "      <td>9.760872e-04</td>\n",
       "      <td>-2.540578e-02</td>\n",
       "      <td>2.207986e-03</td>\n",
       "      <td>-7.535552e-03</td>\n",
       "      <td>3.907568e-03</td>\n",
       "      <td>-6.101024e-03</td>\n",
       "      <td>...</td>\n",
       "      <td>-1.472348e-01</td>\n",
       "      <td>0.000000</td>\n",
       "      <td>0.000000</td>\n",
       "      <td>0.000000</td>\n",
       "      <td>0.000000</td>\n",
       "      <td>0.000000</td>\n",
       "      <td>0.000000</td>\n",
       "      <td>0.000000</td>\n",
       "      <td>0.000000</td>\n",
       "      <td>0.000000</td>\n",
       "    </tr>\n",
       "    <tr>\n",
       "      <th>75%</th>\n",
       "      <td>6.879803e-01</td>\n",
       "      <td>7.574285e-01</td>\n",
       "      <td>8.641370e-01</td>\n",
       "      <td>4.572955e-01</td>\n",
       "      <td>1.225826e+00</td>\n",
       "      <td>8.599823e-01</td>\n",
       "      <td>8.725423e-01</td>\n",
       "      <td>8.632924e-01</td>\n",
       "      <td>8.753883e-01</td>\n",
       "      <td>8.632908e-01</td>\n",
       "      <td>...</td>\n",
       "      <td>7.028861e-01</td>\n",
       "      <td>0.000000</td>\n",
       "      <td>0.000000</td>\n",
       "      <td>0.000000</td>\n",
       "      <td>0.000000</td>\n",
       "      <td>0.000000</td>\n",
       "      <td>0.000000</td>\n",
       "      <td>0.000000</td>\n",
       "      <td>0.000000</td>\n",
       "      <td>0.000000</td>\n",
       "    </tr>\n",
       "    <tr>\n",
       "      <th>max</th>\n",
       "      <td>4.871104e+00</td>\n",
       "      <td>7.994843e+00</td>\n",
       "      <td>1.713193e+00</td>\n",
       "      <td>1.353721e+00</td>\n",
       "      <td>1.225826e+00</td>\n",
       "      <td>1.750962e+00</td>\n",
       "      <td>1.754131e+00</td>\n",
       "      <td>1.750975e+00</td>\n",
       "      <td>1.717138e+00</td>\n",
       "      <td>1.738268e+00</td>\n",
       "      <td>...</td>\n",
       "      <td>2.956695e+00</td>\n",
       "      <td>1.000000</td>\n",
       "      <td>1.000000</td>\n",
       "      <td>1.000000</td>\n",
       "      <td>1.000000</td>\n",
       "      <td>1.000000</td>\n",
       "      <td>1.000000</td>\n",
       "      <td>1.000000</td>\n",
       "      <td>1.000000</td>\n",
       "      <td>1.000000</td>\n",
       "    </tr>\n",
       "  </tbody>\n",
       "</table>\n",
       "<p>8 rows × 27 columns</p>\n",
       "</div>"
      ],
      "text/plain": [
       "               temp      humidity      Measure1      Measure2      Measure3  \\\n",
       "count  8.784000e+03  8.784000e+03  8.784000e+03  8.784000e+03  8.784000e+03   \n",
       "mean   1.298218e-15  7.780977e-15 -7.975304e-17 -8.316561e-18 -3.999703e-17   \n",
       "std    1.000057e+00  1.000057e+00  1.000057e+00  1.000057e+00  1.000057e+00   \n",
       "min   -2.057623e+01 -3.791804e+00 -1.742613e+00 -1.335556e+00 -1.223874e+00   \n",
       "25%   -7.063942e-01 -6.900544e-01 -8.600421e-01 -1.335556e+00 -1.223874e+00   \n",
       "50%   -9.206936e-03 -6.970461e-02  9.495298e-03 -4.391302e-01  9.760872e-04   \n",
       "75%    6.879803e-01  7.574285e-01  8.641370e-01  4.572955e-01  1.225826e+00   \n",
       "max    4.871104e+00  7.994843e+00  1.713193e+00  1.353721e+00  1.225826e+00   \n",
       "\n",
       "           Measure4      Measure5      Measure6      Measure7      Measure8  \\\n",
       "count  8.784000e+03  8.784000e+03  8.784000e+03  8.784000e+03  8.784000e+03   \n",
       "mean  -5.389334e-17  4.036945e-17 -1.517330e-16  9.689173e-17  1.412046e-16   \n",
       "std    1.000057e+00  1.000057e+00  1.000057e+00  1.000057e+00  1.000057e+00   \n",
       "min   -1.708575e+00 -1.727206e+00 -1.724846e+00 -1.731621e+00 -1.716960e+00   \n",
       "25%   -8.627965e-01 -8.812564e-01 -8.483996e-01 -8.657150e-01 -8.661846e-01   \n",
       "50%   -2.540578e-02  2.207986e-03 -7.535552e-03  3.907568e-03 -6.101024e-03   \n",
       "75%    8.599823e-01  8.725423e-01  8.632924e-01  8.753883e-01  8.632908e-01   \n",
       "max    1.750962e+00  1.754131e+00  1.750975e+00  1.717138e+00  1.738268e+00   \n",
       "\n",
       "          ...       hours_since_prev_fail      failure    Operator1  \\\n",
       "count     ...                8.784000e+03  8784.000000  8784.000000   \n",
       "mean      ...                9.244275e-17     0.009221     0.111111   \n",
       "std       ...                1.000057e+00     0.095589     0.314288   \n",
       "min       ...               -1.425711e+00     0.000000     0.000000   \n",
       "25%       ...               -8.391938e-01     0.000000     0.000000   \n",
       "50%       ...               -1.472348e-01     0.000000     0.000000   \n",
       "75%       ...                7.028861e-01     0.000000     0.000000   \n",
       "max       ...                2.956695e+00     1.000000     1.000000   \n",
       "\n",
       "         Operator2    Operator3    Operator4    Operator5    Operator6  \\\n",
       "count  8784.000000  8784.000000  8784.000000  8784.000000  8784.000000   \n",
       "mean      0.222222     0.111111     0.111111     0.111111     0.111111   \n",
       "std       0.415763     0.314288     0.314288     0.314288     0.314288   \n",
       "min       0.000000     0.000000     0.000000     0.000000     0.000000   \n",
       "25%       0.000000     0.000000     0.000000     0.000000     0.000000   \n",
       "50%       0.000000     0.000000     0.000000     0.000000     0.000000   \n",
       "75%       0.000000     0.000000     0.000000     0.000000     0.000000   \n",
       "max       1.000000     1.000000     1.000000     1.000000     1.000000   \n",
       "\n",
       "         Operator7    Operator8  \n",
       "count  8784.000000  8784.000000  \n",
       "mean      0.111111     0.111111  \n",
       "std       0.314288     0.314288  \n",
       "min       0.000000     0.000000  \n",
       "25%       0.000000     0.000000  \n",
       "50%       0.000000     0.000000  \n",
       "75%       0.000000     0.000000  \n",
       "max       1.000000     1.000000  \n",
       "\n",
       "[8 rows x 27 columns]"
      ]
     },
     "execution_count": 8,
     "metadata": {},
     "output_type": "execute_result"
    }
   ],
   "source": [
    "scaled_data.describe()"
   ]
  },
  {
   "cell_type": "code",
   "execution_count": 9,
   "metadata": {},
   "outputs": [
    {
     "data": {
      "text/plain": [
       "<matplotlib.axes._subplots.AxesSubplot at 0x7f964961cd30>"
      ]
     },
     "execution_count": 9,
     "metadata": {},
     "output_type": "execute_result"
    },
    {
     "data": {
      "image/png": "[encoded data removed]",
      "text/plain": [
       "<matplotlib.figure.Figure at 0x7f964973feb8>"
      ]
     },
     "metadata": {},
     "output_type": "display_data"
    }
   ],
   "source": [
    "raw_df['Operator'][scaled_data['failure'] == 1].hist(figsize=(12, 6))"
   ]
  },
  {
   "cell_type": "code",
   "execution_count": 10,
   "metadata": {},
   "outputs": [
    {
     "data": {
      "text/plain": [
       "Operator2    1952\n",
       "Operator7     976\n",
       "Operator5     976\n",
       "Operator3     976\n",
       "Operator6     976\n",
       "Operator4     976\n",
       "Operator8     976\n",
       "Operator1     976\n",
       "Name: Operator, dtype: int64"
      ]
     },
     "execution_count": 10,
     "metadata": {},
     "output_type": "execute_result"
    }
   ],
   "source": [
    "raw_df['Operator'].value_counts()"
   ]
  },
  {
   "cell_type": "markdown",
   "metadata": {},
   "source": [
    "Operator2 is the available operator during most of the failures, but they are also available twice as often as the rest of the operators."
   ]
  },
  {
   "cell_type": "code",
   "execution_count": 11,
   "metadata": {
    "collapsed": true
   },
   "outputs": [],
   "source": [
    "sensor_readings = raw_df[[f'Measure{i}' for i in range(1, 16)]]"
   ]
  },
  {
   "cell_type": "code",
   "execution_count": 12,
   "metadata": {},
   "outputs": [
    {
     "data": {
      "text/html": [
       "<div>\n",
       "<style>\n",
       "    .dataframe thead tr:only-child th {\n",
       "        text-align: right;\n",
       "    }\n",
       "\n",
       "    .dataframe thead th {\n",
       "        text-align: left;\n",
       "    }\n",
       "\n",
       "    .dataframe tbody tr th {\n",
       "        vertical-align: top;\n",
       "    }\n",
       "</style>\n",
       "<table border=\"1\" class=\"dataframe\">\n",
       "  <thead>\n",
       "    <tr style=\"text-align: right;\">\n",
       "      <th></th>\n",
       "      <th>Measure1</th>\n",
       "      <th>Measure2</th>\n",
       "      <th>Measure3</th>\n",
       "      <th>Measure4</th>\n",
       "      <th>Measure5</th>\n",
       "      <th>Measure6</th>\n",
       "      <th>Measure7</th>\n",
       "      <th>Measure8</th>\n",
       "      <th>Measure9</th>\n",
       "      <th>Measure10</th>\n",
       "      <th>Measure11</th>\n",
       "      <th>Measure12</th>\n",
       "      <th>Measure13</th>\n",
       "      <th>Measure14</th>\n",
       "      <th>Measure15</th>\n",
       "    </tr>\n",
       "  </thead>\n",
       "  <tbody>\n",
       "    <tr>\n",
       "      <th>count</th>\n",
       "      <td>8703.000000</td>\n",
       "      <td>8703.000000</td>\n",
       "      <td>8703.000000</td>\n",
       "      <td>8703.000000</td>\n",
       "      <td>8703.000000</td>\n",
       "      <td>8703.000000</td>\n",
       "      <td>8703.000000</td>\n",
       "      <td>8703.000000</td>\n",
       "      <td>8703.000000</td>\n",
       "      <td>8703.000000</td>\n",
       "      <td>8703.000000</td>\n",
       "      <td>8703.000000</td>\n",
       "      <td>8703.000000</td>\n",
       "      <td>8703.000000</td>\n",
       "      <td>8703.000000</td>\n",
       "    </tr>\n",
       "    <tr>\n",
       "      <th>mean</th>\n",
       "      <td>1091.280018</td>\n",
       "      <td>1.490865</td>\n",
       "      <td>0.999081</td>\n",
       "      <td>1072.045846</td>\n",
       "      <td>1075.206481</td>\n",
       "      <td>1075.846605</td>\n",
       "      <td>1086.252212</td>\n",
       "      <td>1078.296909</td>\n",
       "      <td>1082.743422</td>\n",
       "      <td>1081.428588</td>\n",
       "      <td>1089.439733</td>\n",
       "      <td>1088.137539</td>\n",
       "      <td>1076.169252</td>\n",
       "      <td>1087.757670</td>\n",
       "      <td>1082.125704</td>\n",
       "    </tr>\n",
       "    <tr>\n",
       "      <th>std</th>\n",
       "      <td>537.331586</td>\n",
       "      <td>1.115128</td>\n",
       "      <td>0.816824</td>\n",
       "      <td>536.569867</td>\n",
       "      <td>532.990545</td>\n",
       "      <td>533.678537</td>\n",
       "      <td>538.492961</td>\n",
       "      <td>537.179775</td>\n",
       "      <td>533.113779</td>\n",
       "      <td>537.363433</td>\n",
       "      <td>535.027400</td>\n",
       "      <td>533.655995</td>\n",
       "      <td>535.326365</td>\n",
       "      <td>537.180277</td>\n",
       "      <td>537.498390</td>\n",
       "    </tr>\n",
       "    <tr>\n",
       "      <th>min</th>\n",
       "      <td>155.000000</td>\n",
       "      <td>0.000000</td>\n",
       "      <td>0.000000</td>\n",
       "      <td>155.000000</td>\n",
       "      <td>155.000000</td>\n",
       "      <td>155.000000</td>\n",
       "      <td>155.000000</td>\n",
       "      <td>155.000000</td>\n",
       "      <td>155.000000</td>\n",
       "      <td>155.000000</td>\n",
       "      <td>155.000000</td>\n",
       "      <td>155.000000</td>\n",
       "      <td>155.000000</td>\n",
       "      <td>155.000000</td>\n",
       "      <td>155.000000</td>\n",
       "    </tr>\n",
       "    <tr>\n",
       "      <th>25%</th>\n",
       "      <td>628.500000</td>\n",
       "      <td>0.000000</td>\n",
       "      <td>0.000000</td>\n",
       "      <td>609.000000</td>\n",
       "      <td>605.000000</td>\n",
       "      <td>623.500000</td>\n",
       "      <td>620.000000</td>\n",
       "      <td>614.000000</td>\n",
       "      <td>632.500000</td>\n",
       "      <td>618.500000</td>\n",
       "      <td>628.000000</td>\n",
       "      <td>627.000000</td>\n",
       "      <td>609.000000</td>\n",
       "      <td>616.500000</td>\n",
       "      <td>614.500000</td>\n",
       "    </tr>\n",
       "    <tr>\n",
       "      <th>50%</th>\n",
       "      <td>1097.000000</td>\n",
       "      <td>1.000000</td>\n",
       "      <td>1.000000</td>\n",
       "      <td>1058.000000</td>\n",
       "      <td>1076.000000</td>\n",
       "      <td>1072.000000</td>\n",
       "      <td>1089.000000</td>\n",
       "      <td>1075.000000</td>\n",
       "      <td>1079.000000</td>\n",
       "      <td>1077.000000</td>\n",
       "      <td>1094.000000</td>\n",
       "      <td>1082.000000</td>\n",
       "      <td>1067.000000</td>\n",
       "      <td>1088.000000</td>\n",
       "      <td>1076.000000</td>\n",
       "    </tr>\n",
       "    <tr>\n",
       "      <th>75%</th>\n",
       "      <td>1555.000000</td>\n",
       "      <td>2.000000</td>\n",
       "      <td>2.000000</td>\n",
       "      <td>1533.000000</td>\n",
       "      <td>1540.000000</td>\n",
       "      <td>1537.000000</td>\n",
       "      <td>1558.000000</td>\n",
       "      <td>1542.500000</td>\n",
       "      <td>1532.500000</td>\n",
       "      <td>1546.000000</td>\n",
       "      <td>1550.000000</td>\n",
       "      <td>1552.000000</td>\n",
       "      <td>1539.000000</td>\n",
       "      <td>1559.000000</td>\n",
       "      <td>1550.000000</td>\n",
       "    </tr>\n",
       "    <tr>\n",
       "      <th>max</th>\n",
       "      <td>2011.000000</td>\n",
       "      <td>3.000000</td>\n",
       "      <td>2.000000</td>\n",
       "      <td>2011.000000</td>\n",
       "      <td>2011.000000</td>\n",
       "      <td>2011.000000</td>\n",
       "      <td>2011.000000</td>\n",
       "      <td>2011.000000</td>\n",
       "      <td>2011.000000</td>\n",
       "      <td>2011.000000</td>\n",
       "      <td>2011.000000</td>\n",
       "      <td>2011.000000</td>\n",
       "      <td>2011.000000</td>\n",
       "      <td>2011.000000</td>\n",
       "      <td>2011.000000</td>\n",
       "    </tr>\n",
       "  </tbody>\n",
       "</table>\n",
       "</div>"
      ],
      "text/plain": [
       "          Measure1     Measure2     Measure3     Measure4     Measure5  \\\n",
       "count  8703.000000  8703.000000  8703.000000  8703.000000  8703.000000   \n",
       "mean   1091.280018     1.490865     0.999081  1072.045846  1075.206481   \n",
       "std     537.331586     1.115128     0.816824   536.569867   532.990545   \n",
       "min     155.000000     0.000000     0.000000   155.000000   155.000000   \n",
       "25%     628.500000     0.000000     0.000000   609.000000   605.000000   \n",
       "50%    1097.000000     1.000000     1.000000  1058.000000  1076.000000   \n",
       "75%    1555.000000     2.000000     2.000000  1533.000000  1540.000000   \n",
       "max    2011.000000     3.000000     2.000000  2011.000000  2011.000000   \n",
       "\n",
       "          Measure6     Measure7     Measure8     Measure9    Measure10  \\\n",
       "count  8703.000000  8703.000000  8703.000000  8703.000000  8703.000000   \n",
       "mean   1075.846605  1086.252212  1078.296909  1082.743422  1081.428588   \n",
       "std     533.678537   538.492961   537.179775   533.113779   537.363433   \n",
       "min     155.000000   155.000000   155.000000   155.000000   155.000000   \n",
       "25%     623.500000   620.000000   614.000000   632.500000   618.500000   \n",
       "50%    1072.000000  1089.000000  1075.000000  1079.000000  1077.000000   \n",
       "75%    1537.000000  1558.000000  1542.500000  1532.500000  1546.000000   \n",
       "max    2011.000000  2011.000000  2011.000000  2011.000000  2011.000000   \n",
       "\n",
       "         Measure11    Measure12    Measure13    Measure14    Measure15  \n",
       "count  8703.000000  8703.000000  8703.000000  8703.000000  8703.000000  \n",
       "mean   1089.439733  1088.137539  1076.169252  1087.757670  1082.125704  \n",
       "std     535.027400   533.655995   535.326365   537.180277   537.498390  \n",
       "min     155.000000   155.000000   155.000000   155.000000   155.000000  \n",
       "25%     628.000000   627.000000   609.000000   616.500000   614.500000  \n",
       "50%    1094.000000  1082.000000  1067.000000  1088.000000  1076.000000  \n",
       "75%    1550.000000  1552.000000  1539.000000  1559.000000  1550.000000  \n",
       "max    2011.000000  2011.000000  2011.000000  2011.000000  2011.000000  "
      ]
     },
     "execution_count": 12,
     "metadata": {},
     "output_type": "execute_result"
    }
   ],
   "source": [
    "sensor_readings[scaled_data['failure'] == 0].describe()"
   ]
  },
  {
   "cell_type": "code",
   "execution_count": 13,
   "metadata": {},
   "outputs": [
    {
     "data": {
      "text/html": [
       "<div>\n",
       "<style>\n",
       "    .dataframe thead tr:only-child th {\n",
       "        text-align: right;\n",
       "    }\n",
       "\n",
       "    .dataframe thead th {\n",
       "        text-align: left;\n",
       "    }\n",
       "\n",
       "    .dataframe tbody tr th {\n",
       "        vertical-align: top;\n",
       "    }\n",
       "</style>\n",
       "<table border=\"1\" class=\"dataframe\">\n",
       "  <thead>\n",
       "    <tr style=\"text-align: right;\">\n",
       "      <th></th>\n",
       "      <th>Measure1</th>\n",
       "      <th>Measure2</th>\n",
       "      <th>Measure3</th>\n",
       "      <th>Measure4</th>\n",
       "      <th>Measure5</th>\n",
       "      <th>Measure6</th>\n",
       "      <th>Measure7</th>\n",
       "      <th>Measure8</th>\n",
       "      <th>Measure9</th>\n",
       "      <th>Measure10</th>\n",
       "      <th>Measure11</th>\n",
       "      <th>Measure12</th>\n",
       "      <th>Measure13</th>\n",
       "      <th>Measure14</th>\n",
       "      <th>Measure15</th>\n",
       "    </tr>\n",
       "  </thead>\n",
       "  <tbody>\n",
       "    <tr>\n",
       "      <th>count</th>\n",
       "      <td>81.000000</td>\n",
       "      <td>81.000000</td>\n",
       "      <td>81.000000</td>\n",
       "      <td>81.000000</td>\n",
       "      <td>81.000000</td>\n",
       "      <td>81.000000</td>\n",
       "      <td>81.000000</td>\n",
       "      <td>81.000000</td>\n",
       "      <td>81.000000</td>\n",
       "      <td>81.000000</td>\n",
       "      <td>81.000000</td>\n",
       "      <td>81.000000</td>\n",
       "      <td>81.000000</td>\n",
       "      <td>81.00000</td>\n",
       "      <td>81.000000</td>\n",
       "    </tr>\n",
       "    <tr>\n",
       "      <th>mean</th>\n",
       "      <td>1050.111111</td>\n",
       "      <td>1.382716</td>\n",
       "      <td>1.012346</td>\n",
       "      <td>1026.938272</td>\n",
       "      <td>1142.049383</td>\n",
       "      <td>1095.061728</td>\n",
       "      <td>1156.185185</td>\n",
       "      <td>967.716049</td>\n",
       "      <td>1003.703704</td>\n",
       "      <td>1187.098765</td>\n",
       "      <td>1011.296296</td>\n",
       "      <td>1108.938272</td>\n",
       "      <td>1139.777778</td>\n",
       "      <td>1147.37037</td>\n",
       "      <td>1111.037037</td>\n",
       "    </tr>\n",
       "    <tr>\n",
       "      <th>std</th>\n",
       "      <td>512.887146</td>\n",
       "      <td>1.167989</td>\n",
       "      <td>0.782525</td>\n",
       "      <td>532.362009</td>\n",
       "      <td>550.313658</td>\n",
       "      <td>571.196996</td>\n",
       "      <td>503.478577</td>\n",
       "      <td>529.937478</td>\n",
       "      <td>515.948143</td>\n",
       "      <td>554.129579</td>\n",
       "      <td>529.166407</td>\n",
       "      <td>496.138775</td>\n",
       "      <td>510.714451</td>\n",
       "      <td>546.42544</td>\n",
       "      <td>543.254371</td>\n",
       "    </tr>\n",
       "    <tr>\n",
       "      <th>min</th>\n",
       "      <td>166.000000</td>\n",
       "      <td>0.000000</td>\n",
       "      <td>0.000000</td>\n",
       "      <td>174.000000</td>\n",
       "      <td>160.000000</td>\n",
       "      <td>165.000000</td>\n",
       "      <td>173.000000</td>\n",
       "      <td>166.000000</td>\n",
       "      <td>160.000000</td>\n",
       "      <td>170.000000</td>\n",
       "      <td>174.000000</td>\n",
       "      <td>174.000000</td>\n",
       "      <td>258.000000</td>\n",
       "      <td>157.00000</td>\n",
       "      <td>244.000000</td>\n",
       "    </tr>\n",
       "    <tr>\n",
       "      <th>25%</th>\n",
       "      <td>725.000000</td>\n",
       "      <td>0.000000</td>\n",
       "      <td>0.000000</td>\n",
       "      <td>466.000000</td>\n",
       "      <td>695.000000</td>\n",
       "      <td>586.000000</td>\n",
       "      <td>772.000000</td>\n",
       "      <td>493.000000</td>\n",
       "      <td>551.000000</td>\n",
       "      <td>698.000000</td>\n",
       "      <td>554.000000</td>\n",
       "      <td>678.000000</td>\n",
       "      <td>664.000000</td>\n",
       "      <td>666.00000</td>\n",
       "      <td>579.000000</td>\n",
       "    </tr>\n",
       "    <tr>\n",
       "      <th>50%</th>\n",
       "      <td>970.000000</td>\n",
       "      <td>1.000000</td>\n",
       "      <td>1.000000</td>\n",
       "      <td>1074.000000</td>\n",
       "      <td>1201.000000</td>\n",
       "      <td>1094.000000</td>\n",
       "      <td>1098.000000</td>\n",
       "      <td>938.000000</td>\n",
       "      <td>992.000000</td>\n",
       "      <td>1273.000000</td>\n",
       "      <td>952.000000</td>\n",
       "      <td>1077.000000</td>\n",
       "      <td>1154.000000</td>\n",
       "      <td>1103.00000</td>\n",
       "      <td>1066.000000</td>\n",
       "    </tr>\n",
       "    <tr>\n",
       "      <th>75%</th>\n",
       "      <td>1484.000000</td>\n",
       "      <td>2.000000</td>\n",
       "      <td>2.000000</td>\n",
       "      <td>1457.000000</td>\n",
       "      <td>1645.000000</td>\n",
       "      <td>1536.000000</td>\n",
       "      <td>1542.000000</td>\n",
       "      <td>1394.000000</td>\n",
       "      <td>1401.000000</td>\n",
       "      <td>1641.000000</td>\n",
       "      <td>1505.000000</td>\n",
       "      <td>1546.000000</td>\n",
       "      <td>1595.000000</td>\n",
       "      <td>1655.00000</td>\n",
       "      <td>1603.000000</td>\n",
       "    </tr>\n",
       "    <tr>\n",
       "      <th>max</th>\n",
       "      <td>1975.000000</td>\n",
       "      <td>3.000000</td>\n",
       "      <td>2.000000</td>\n",
       "      <td>1959.000000</td>\n",
       "      <td>1984.000000</td>\n",
       "      <td>1993.000000</td>\n",
       "      <td>2007.000000</td>\n",
       "      <td>2004.000000</td>\n",
       "      <td>2001.000000</td>\n",
       "      <td>1985.000000</td>\n",
       "      <td>1927.000000</td>\n",
       "      <td>2005.000000</td>\n",
       "      <td>1972.000000</td>\n",
       "      <td>1998.00000</td>\n",
       "      <td>1973.000000</td>\n",
       "    </tr>\n",
       "  </tbody>\n",
       "</table>\n",
       "</div>"
      ],
      "text/plain": [
       "          Measure1   Measure2   Measure3     Measure4     Measure5  \\\n",
       "count    81.000000  81.000000  81.000000    81.000000    81.000000   \n",
       "mean   1050.111111   1.382716   1.012346  1026.938272  1142.049383   \n",
       "std     512.887146   1.167989   0.782525   532.362009   550.313658   \n",
       "min     166.000000   0.000000   0.000000   174.000000   160.000000   \n",
       "25%     725.000000   0.000000   0.000000   466.000000   695.000000   \n",
       "50%     970.000000   1.000000   1.000000  1074.000000  1201.000000   \n",
       "75%    1484.000000   2.000000   2.000000  1457.000000  1645.000000   \n",
       "max    1975.000000   3.000000   2.000000  1959.000000  1984.000000   \n",
       "\n",
       "          Measure6     Measure7     Measure8     Measure9    Measure10  \\\n",
       "count    81.000000    81.000000    81.000000    81.000000    81.000000   \n",
       "mean   1095.061728  1156.185185   967.716049  1003.703704  1187.098765   \n",
       "std     571.196996   503.478577   529.937478   515.948143   554.129579   \n",
       "min     165.000000   173.000000   166.000000   160.000000   170.000000   \n",
       "25%     586.000000   772.000000   493.000000   551.000000   698.000000   \n",
       "50%    1094.000000  1098.000000   938.000000   992.000000  1273.000000   \n",
       "75%    1536.000000  1542.000000  1394.000000  1401.000000  1641.000000   \n",
       "max    1993.000000  2007.000000  2004.000000  2001.000000  1985.000000   \n",
       "\n",
       "         Measure11    Measure12    Measure13   Measure14    Measure15  \n",
       "count    81.000000    81.000000    81.000000    81.00000    81.000000  \n",
       "mean   1011.296296  1108.938272  1139.777778  1147.37037  1111.037037  \n",
       "std     529.166407   496.138775   510.714451   546.42544   543.254371  \n",
       "min     174.000000   174.000000   258.000000   157.00000   244.000000  \n",
       "25%     554.000000   678.000000   664.000000   666.00000   579.000000  \n",
       "50%     952.000000  1077.000000  1154.000000  1103.00000  1066.000000  \n",
       "75%    1505.000000  1546.000000  1595.000000  1655.00000  1603.000000  \n",
       "max    1927.000000  2005.000000  1972.000000  1998.00000  1973.000000  "
      ]
     },
     "execution_count": 13,
     "metadata": {},
     "output_type": "execute_result"
    }
   ],
   "source": [
    "sensor_readings[scaled_data['failure'] == 1].describe()"
   ]
  },
  {
   "cell_type": "code",
   "execution_count": 14,
   "metadata": {},
   "outputs": [
    {
     "data": {
      "text/html": [
       "<div>\n",
       "<style>\n",
       "    .dataframe thead tr:only-child th {\n",
       "        text-align: right;\n",
       "    }\n",
       "\n",
       "    .dataframe thead th {\n",
       "        text-align: left;\n",
       "    }\n",
       "\n",
       "    .dataframe tbody tr th {\n",
       "        vertical-align: top;\n",
       "    }\n",
       "</style>\n",
       "<table border=\"1\" class=\"dataframe\">\n",
       "  <thead>\n",
       "    <tr style=\"text-align: right;\">\n",
       "      <th></th>\n",
       "      <th>Measure1</th>\n",
       "      <th>Measure2</th>\n",
       "      <th>Measure3</th>\n",
       "      <th>Measure4</th>\n",
       "      <th>Measure5</th>\n",
       "      <th>Measure6</th>\n",
       "      <th>Measure7</th>\n",
       "      <th>Measure8</th>\n",
       "      <th>Measure9</th>\n",
       "      <th>Measure10</th>\n",
       "      <th>Measure11</th>\n",
       "      <th>Measure12</th>\n",
       "      <th>Measure13</th>\n",
       "      <th>Measure14</th>\n",
       "      <th>Measure15</th>\n",
       "    </tr>\n",
       "  </thead>\n",
       "  <tbody>\n",
       "    <tr>\n",
       "      <th>count</th>\n",
       "      <td>8622.000000</td>\n",
       "      <td>8622.000000</td>\n",
       "      <td>8622.000000</td>\n",
       "      <td>8622.000000</td>\n",
       "      <td>8622.000000</td>\n",
       "      <td>8622.000000</td>\n",
       "      <td>8622.000000</td>\n",
       "      <td>8622.000000</td>\n",
       "      <td>8622.000000</td>\n",
       "      <td>8622.000000</td>\n",
       "      <td>8622.000000</td>\n",
       "      <td>8622.000000</td>\n",
       "      <td>8622.000000</td>\n",
       "      <td>8622.000000</td>\n",
       "      <td>8622.000000</td>\n",
       "    </tr>\n",
       "    <tr>\n",
       "      <th>mean</th>\n",
       "      <td>41.168907</td>\n",
       "      <td>0.108149</td>\n",
       "      <td>-0.013265</td>\n",
       "      <td>45.107575</td>\n",
       "      <td>-66.842902</td>\n",
       "      <td>-19.215124</td>\n",
       "      <td>-69.932973</td>\n",
       "      <td>110.580860</td>\n",
       "      <td>79.039718</td>\n",
       "      <td>-105.670178</td>\n",
       "      <td>78.143437</td>\n",
       "      <td>-20.800733</td>\n",
       "      <td>-63.608526</td>\n",
       "      <td>-59.612701</td>\n",
       "      <td>-28.911333</td>\n",
       "    </tr>\n",
       "    <tr>\n",
       "      <th>std</th>\n",
       "      <td>24.444440</td>\n",
       "      <td>-0.052861</td>\n",
       "      <td>0.034299</td>\n",
       "      <td>4.207858</td>\n",
       "      <td>-17.323113</td>\n",
       "      <td>-37.518460</td>\n",
       "      <td>35.014383</td>\n",
       "      <td>7.242296</td>\n",
       "      <td>17.165636</td>\n",
       "      <td>-16.766146</td>\n",
       "      <td>5.860993</td>\n",
       "      <td>37.517221</td>\n",
       "      <td>24.611915</td>\n",
       "      <td>-9.245163</td>\n",
       "      <td>-5.755981</td>\n",
       "    </tr>\n",
       "    <tr>\n",
       "      <th>min</th>\n",
       "      <td>-11.000000</td>\n",
       "      <td>0.000000</td>\n",
       "      <td>0.000000</td>\n",
       "      <td>-19.000000</td>\n",
       "      <td>-5.000000</td>\n",
       "      <td>-10.000000</td>\n",
       "      <td>-18.000000</td>\n",
       "      <td>-11.000000</td>\n",
       "      <td>-5.000000</td>\n",
       "      <td>-15.000000</td>\n",
       "      <td>-19.000000</td>\n",
       "      <td>-19.000000</td>\n",
       "      <td>-103.000000</td>\n",
       "      <td>-2.000000</td>\n",
       "      <td>-89.000000</td>\n",
       "    </tr>\n",
       "    <tr>\n",
       "      <th>25%</th>\n",
       "      <td>-96.500000</td>\n",
       "      <td>0.000000</td>\n",
       "      <td>0.000000</td>\n",
       "      <td>143.000000</td>\n",
       "      <td>-90.000000</td>\n",
       "      <td>37.500000</td>\n",
       "      <td>-152.000000</td>\n",
       "      <td>121.000000</td>\n",
       "      <td>81.500000</td>\n",
       "      <td>-79.500000</td>\n",
       "      <td>74.000000</td>\n",
       "      <td>-51.000000</td>\n",
       "      <td>-55.000000</td>\n",
       "      <td>-49.500000</td>\n",
       "      <td>35.500000</td>\n",
       "    </tr>\n",
       "    <tr>\n",
       "      <th>50%</th>\n",
       "      <td>127.000000</td>\n",
       "      <td>0.000000</td>\n",
       "      <td>0.000000</td>\n",
       "      <td>-16.000000</td>\n",
       "      <td>-125.000000</td>\n",
       "      <td>-22.000000</td>\n",
       "      <td>-9.000000</td>\n",
       "      <td>137.000000</td>\n",
       "      <td>87.000000</td>\n",
       "      <td>-196.000000</td>\n",
       "      <td>142.000000</td>\n",
       "      <td>5.000000</td>\n",
       "      <td>-87.000000</td>\n",
       "      <td>-15.000000</td>\n",
       "      <td>10.000000</td>\n",
       "    </tr>\n",
       "    <tr>\n",
       "      <th>75%</th>\n",
       "      <td>71.000000</td>\n",
       "      <td>0.000000</td>\n",
       "      <td>0.000000</td>\n",
       "      <td>76.000000</td>\n",
       "      <td>-105.000000</td>\n",
       "      <td>1.000000</td>\n",
       "      <td>16.000000</td>\n",
       "      <td>148.500000</td>\n",
       "      <td>131.500000</td>\n",
       "      <td>-95.000000</td>\n",
       "      <td>45.000000</td>\n",
       "      <td>6.000000</td>\n",
       "      <td>-56.000000</td>\n",
       "      <td>-96.000000</td>\n",
       "      <td>-53.000000</td>\n",
       "    </tr>\n",
       "    <tr>\n",
       "      <th>max</th>\n",
       "      <td>36.000000</td>\n",
       "      <td>0.000000</td>\n",
       "      <td>0.000000</td>\n",
       "      <td>52.000000</td>\n",
       "      <td>27.000000</td>\n",
       "      <td>18.000000</td>\n",
       "      <td>4.000000</td>\n",
       "      <td>7.000000</td>\n",
       "      <td>10.000000</td>\n",
       "      <td>26.000000</td>\n",
       "      <td>84.000000</td>\n",
       "      <td>6.000000</td>\n",
       "      <td>39.000000</td>\n",
       "      <td>13.000000</td>\n",
       "      <td>38.000000</td>\n",
       "    </tr>\n",
       "  </tbody>\n",
       "</table>\n",
       "</div>"
      ],
      "text/plain": [
       "          Measure1     Measure2     Measure3     Measure4     Measure5  \\\n",
       "count  8622.000000  8622.000000  8622.000000  8622.000000  8622.000000   \n",
       "mean     41.168907     0.108149    -0.013265    45.107575   -66.842902   \n",
       "std      24.444440    -0.052861     0.034299     4.207858   -17.323113   \n",
       "min     -11.000000     0.000000     0.000000   -19.000000    -5.000000   \n",
       "25%     -96.500000     0.000000     0.000000   143.000000   -90.000000   \n",
       "50%     127.000000     0.000000     0.000000   -16.000000  -125.000000   \n",
       "75%      71.000000     0.000000     0.000000    76.000000  -105.000000   \n",
       "max      36.000000     0.000000     0.000000    52.000000    27.000000   \n",
       "\n",
       "          Measure6     Measure7     Measure8     Measure9    Measure10  \\\n",
       "count  8622.000000  8622.000000  8622.000000  8622.000000  8622.000000   \n",
       "mean    -19.215124   -69.932973   110.580860    79.039718  -105.670178   \n",
       "std     -37.518460    35.014383     7.242296    17.165636   -16.766146   \n",
       "min     -10.000000   -18.000000   -11.000000    -5.000000   -15.000000   \n",
       "25%      37.500000  -152.000000   121.000000    81.500000   -79.500000   \n",
       "50%     -22.000000    -9.000000   137.000000    87.000000  -196.000000   \n",
       "75%       1.000000    16.000000   148.500000   131.500000   -95.000000   \n",
       "max      18.000000     4.000000     7.000000    10.000000    26.000000   \n",
       "\n",
       "         Measure11    Measure12    Measure13    Measure14    Measure15  \n",
       "count  8622.000000  8622.000000  8622.000000  8622.000000  8622.000000  \n",
       "mean     78.143437   -20.800733   -63.608526   -59.612701   -28.911333  \n",
       "std       5.860993    37.517221    24.611915    -9.245163    -5.755981  \n",
       "min     -19.000000   -19.000000  -103.000000    -2.000000   -89.000000  \n",
       "25%      74.000000   -51.000000   -55.000000   -49.500000    35.500000  \n",
       "50%     142.000000     5.000000   -87.000000   -15.000000    10.000000  \n",
       "75%      45.000000     6.000000   -56.000000   -96.000000   -53.000000  \n",
       "max      84.000000     6.000000    39.000000    13.000000    38.000000  "
      ]
     },
     "execution_count": 14,
     "metadata": {},
     "output_type": "execute_result"
    }
   ],
   "source": [
    "sensor_readings[scaled_data['failure'] == 0].describe() - sensor_readings[scaled_data['failure'] == 1].describe()"
   ]
  },
  {
   "cell_type": "markdown",
   "metadata": {},
   "source": [
    "Means of sensor readings at failure are not abnormal, all within one standard deviation.\n",
    "\n",
    "The minimums and maximums for all measures are the same, which is kind of weird."
   ]
  },
  {
   "cell_type": "code",
   "execution_count": 15,
   "metadata": {
    "scrolled": true
   },
   "outputs": [
    {
     "data": {
      "text/plain": [
       "<matplotlib.image.AxesImage at 0x7f964911ef98>"
      ]
     },
     "execution_count": 15,
     "metadata": {},
     "output_type": "execute_result"
    },
    {
     "data": {
      "image/png": "[encoded data removed]",
      "text/plain": [
       "<matplotlib.figure.Figure at 0x7f96491c8ac8>"
      ]
     },
     "metadata": {},
     "output_type": "display_data"
    }
   ],
   "source": [
    "plt.matshow(scaled_data.corr())"
   ]
  },
  {
   "cell_type": "code",
   "execution_count": 16,
   "metadata": {
    "collapsed": true
   },
   "outputs": [],
   "source": [
    "scaled_train, scaled_test = train_test_split(scaled_data, test_size=.2)\n",
    "const_train, const_test = train_test_split(const_data, test_size=.2)"
   ]
  },
  {
   "cell_type": "code",
   "execution_count": 17,
   "metadata": {
    "collapsed": true
   },
   "outputs": [],
   "source": [
    "scaled_X_train, scaled_X_test, scaled_y_train, scaled_y_test = train_test_split(scaled_train.drop('failure', axis=1).values, scaled_train['failure'].values, test_size=.2)\n",
    "const_X_train, const_X_test, const_y_train, const_y_test = train_test_split(const_train.drop('failure', axis=1).values, const_train['failure'].values, test_size=.2)"
   ]
  },
  {
   "cell_type": "code",
   "execution_count": 18,
   "metadata": {
    "scrolled": true
   },
   "outputs": [
    {
     "data": {
      "text/plain": [
       "<matplotlib.axes._subplots.AxesSubplot at 0x7f96491c8fd0>"
      ]
     },
     "execution_count": 18,
     "metadata": {},
     "output_type": "execute_result"
    },
    {
     "data": {
      "image/png": "[encoded data removed]",
      "text/plain": [
       "<matplotlib.figure.Figure at 0x7f9678e912b0>"
      ]
     },
     "metadata": {},
     "output_type": "display_data"
    }
   ],
   "source": [
    "(const_data['failure'] == 1).plot()"
   ]
  },
  {
   "cell_type": "code",
   "execution_count": 19,
   "metadata": {},
   "outputs": [],
   "source": [
    "scaled_rfc = RandomForestClassifier(50)\n",
    "scaled_log_reg = LogisticRegression()\n",
    "scaled_gb = GradientBoostingClassifier(learning_rate=.005, subsample=.5, n_estimators=250)\n",
    "const_rfc = RandomForestClassifier(50)\n",
    "const_log_reg = LogisticRegression()\n",
    "const_gb = GradientBoostingClassifier(learning_rate=.005, subsample=.5, n_estimators=250)\n",
    "scaled_rfc.fit(scaled_X_train, scaled_y_train)\n",
    "scaled_log_reg.fit(scaled_X_train, scaled_y_train)\n",
    "scaled_gb.fit(scaled_X_train, scaled_y_train)\n",
    "const_rfc.fit(const_X_train, const_y_train)\n",
    "const_log_reg.fit(const_X_train, const_y_train)\n",
    "const_gb.fit(const_X_train, const_y_train);"
   ]
  },
  {
   "cell_type": "code",
   "execution_count": 20,
   "metadata": {
    "collapsed": true
   },
   "outputs": [],
   "source": [
    "def print_model_metrics(model, X_test, y_test):\n",
    "    \"\"\"\n",
    "    Print precision, recall, f1, support, and auc of a given\n",
    "    model.\n",
    "    \"\"\"\n",
    "    y_pred = model.predict(X_test)\n",
    "    precision, recall, f1, support = precision_recall_fscore_support(y_test, y_pred)\n",
    "    auc = roc_auc_score(y_test, y_pred)\n",
    "    print(model.__class__.__name__, \"Metrics\")\n",
    "    print(\"Classes: \", f'    {model.classes_[0]}       ', f'{model.classes_[1]}')\n",
    "    print(\"--\" * 10)\n",
    "    print('Precision: ', f' {precision[0]:.3f}   ', f'{precision[1]:.3f}')\n",
    "    print('Recall: ', f'    {recall[0]:.3f}   ', f'{recall[1]:.3f}')\n",
    "    print('f1: ', f'        {f1[0]:.3f}   ', f'{f1[1]:.3f}')\n",
    "    print(f'AUC:           {auc:.3f}')\n",
    "    print('Recall: ', f'    {support[0]}    ', f'{support[1]}\\n')"
   ]
  },
  {
   "cell_type": "code",
   "execution_count": 21,
   "metadata": {},
   "outputs": [
    {
     "name": "stdout",
     "output_type": "stream",
     "text": [
      "Scaled data: \n",
      "RandomForestClassifier Metrics\n",
      "Classes:      0        1\n",
      "--------------------\n",
      "Precision:   0.999    0.909\n",
      "Recall:      0.999    0.833\n",
      "f1:          0.999    0.870\n",
      "AUC:           0.916\n",
      "Recall:      1394     12\n",
      "\n",
      "Scaled data: \n",
      "LogisticRegression Metrics\n",
      "Classes:      0        1\n",
      "--------------------\n",
      "Precision:   0.997    1.000\n",
      "Recall:      1.000    0.667\n",
      "f1:          0.999    0.800\n",
      "AUC:           0.833\n",
      "Recall:      1394     12\n",
      "\n",
      "Scaled data: \n",
      "GradientBoostingClassifier Metrics\n",
      "Classes:      0        1\n",
      "--------------------\n",
      "Precision:   0.998    1.000\n",
      "Recall:      1.000    0.750\n",
      "f1:          0.999    0.857\n",
      "AUC:           0.875\n",
      "Recall:      1394     12\n",
      "\n",
      "Unscaled data: \n",
      "RandomForestClassifier Metrics\n",
      "Classes:      0        1\n",
      "--------------------\n",
      "Precision:   0.998    1.000\n",
      "Recall:      1.000    0.700\n",
      "f1:          0.999    0.824\n",
      "AUC:           0.850\n",
      "Recall:      1396     10\n",
      "\n",
      "Unscaled data: \n",
      "LogisticRegression Metrics\n",
      "Classes:      0        1\n",
      "--------------------\n",
      "Precision:   0.997    1.000\n",
      "Recall:      1.000    0.600\n",
      "f1:          0.999    0.750\n",
      "AUC:           0.800\n",
      "Recall:      1396     10\n",
      "\n",
      "Unscaled data: \n",
      "GradientBoostingClassifier Metrics\n",
      "Classes:      0        1\n",
      "--------------------\n",
      "Precision:   0.998    1.000\n",
      "Recall:      1.000    0.700\n",
      "f1:          0.999    0.824\n",
      "AUC:           0.850\n",
      "Recall:      1396     10\n",
      "\n"
     ]
    }
   ],
   "source": [
    "for scaled_mod in [scaled_rfc, scaled_log_reg, scaled_gb]:\n",
    "    print(\"Scaled data: \")\n",
    "    print_model_metrics(scaled_mod, scaled_X_test, scaled_y_test)\n",
    "for const_mod in [const_rfc, const_log_reg, const_gb]:\n",
    "    print(\"Unscaled data: \")\n",
    "    print_model_metrics(const_mod, const_X_test, const_y_test)"
   ]
  },
  {
   "cell_type": "markdown",
   "metadata": {},
   "source": [
    "## Note\n",
    "Later I realized that all of these scores assume a threshold of .5. Additionally, since my labels are 1 or 0, it was interpreting these as probabilities, causing a reduction in the AUC score. It turns out my AUCs are unusually high."
   ]
  },
  {
   "cell_type": "markdown",
   "metadata": {},
   "source": [
    "I'll explore getting logistic regression on track later, but for the time being I'll save these models for later use (perhaps)."
   ]
  },
  {
   "cell_type": "code",
   "execution_count": 22,
   "metadata": {},
   "outputs": [
    {
     "data": {
      "text/plain": [
       "['../static/models/grad_boost.pkl']"
      ]
     },
     "execution_count": 22,
     "metadata": {},
     "output_type": "execute_result"
    },
    {
     "data": {
      "text/plain": [
       "['../static/models/rand_forest.pkl']"
      ]
     },
     "execution_count": 22,
     "metadata": {},
     "output_type": "execute_result"
    }
   ],
   "source": [
    "joblib.dump(scaled_rfc, '../static/models/grad_boost.pkl')\n",
    "joblib.dump(scaled_gb, '../static/models/rand_forest.pkl')"
   ]
  },
  {
   "cell_type": "code",
   "execution_count": 23,
   "metadata": {
    "collapsed": true
   },
   "outputs": [],
   "source": [
    "def roc(model, X_test, y_test):\n",
    "    \"\"\"\n",
    "    Compute TPRs and FPRs for ROC curve.\n",
    "    \n",
    "    \"\"\"\n",
    "    probs = model.predict_proba(X_test)[:, 1]\n",
    "    sorted_probs = np.sort(probs)\n",
    "    actual_pos = len(y_test[y_test == 1])\n",
    "    actual_neg = len(y_test) - actual_pos\n",
    "    fprs = np.empty(len(y_test))\n",
    "    tprs = np.empty(len(y_test))\n",
    "    for i, prob in enumerate(np.linspace(0, 1, len(sorted_probs))):\n",
    "        partition = y_test[probs > prob]\n",
    "        true_positives = len(partition[partition == 1])\n",
    "        false_positives = len(partition[partition == 0])\n",
    "        true_pos_rate = true_positives / actual_pos\n",
    "        false_pos_rate = false_positives / actual_neg\n",
    "        tprs[i] = true_pos_rate\n",
    "        fprs[i] = false_pos_rate\n",
    "    \n",
    "    return tprs, fprs"
   ]
  },
  {
   "cell_type": "code",
   "execution_count": 24,
   "metadata": {},
   "outputs": [],
   "source": [
    "def plot_roc(model, X_test, y_test, ax=None):\n",
    "    \"\"\"\n",
    "    Compute ROC and AUC and graph.\n",
    "    \"\"\"\n",
    "    if ax is None:\n",
    "        fig, ax = plt.subplots()\n",
    "    tprs, fprs = roc(model, X_test, y_test)\n",
    "    ax.plot(fprs, tprs)\n",
    "    ax.set_title('ROC Curve')\n",
    "    ax.set_ylabel('True Positive Rate')\n",
    "    ax.set_xlabel('False Positive Rate')"
   ]
  },
  {
   "cell_type": "code",
   "execution_count": 48,
   "metadata": {},
   "outputs": [
    {
     "data": {
      "image/png": "[encoded data removed]",
      "text/plain": [
       "<matplotlib.figure.Figure at 0x7f9640b19eb8>"
      ]
     },
     "metadata": {},
     "output_type": "display_data"
    }
   ],
   "source": [
    "fig, ax = plt.subplots(figsize=(12, 8))\n",
    "legend = []\n",
    "for model in [const_rfc, const_log_reg, const_gb]:\n",
    "    plot_roc(model, const_X_test, const_y_test, ax)\n",
    "    auc_score = roc_auc_score(const_y_test, model.predict_proba(const_X_test)[:, 1])\n",
    "    legend_data = '{} AUC: {}'.format(model.__class__.__name__, auc_score)\n",
    "    legend.append(legend_data)\n",
    "ax.legend(legend)\n",
    "dashed_line = np.linspace(0, 1, 100)\n",
    "ax.plot(dashed_line, dashed_line, '--');"
   ]
  },
  {
   "cell_type": "markdown",
   "metadata": {},
   "source": [
    "Hmmm, not sure what to make of these models, but there's still some work to do."
   ]
  },
  {
   "cell_type": "code",
   "execution_count": 26,
   "metadata": {},
   "outputs": [
    {
     "data": {
      "text/plain": [
       "0.99871060171919779"
      ]
     },
     "execution_count": 26,
     "metadata": {},
     "output_type": "execute_result"
    },
    {
     "data": {
      "text/plain": [
       "0.84999999999999998"
      ]
     },
     "execution_count": 26,
     "metadata": {},
     "output_type": "execute_result"
    }
   ],
   "source": [
    "roc_auc_score(const_y_test, const_rfc.predict_proba(const_X_test)[:, 1])\n",
    "roc_auc_score(const_y_test, const_rfc.predict(const_X_test))"
   ]
  },
  {
   "cell_type": "code",
   "execution_count": 29,
   "metadata": {},
   "outputs": [
    {
     "data": {
      "text/plain": [
       "10"
      ]
     },
     "execution_count": 29,
     "metadata": {},
     "output_type": "execute_result"
    }
   ],
   "source": [
    "const_y_test.sum()"
   ]
  },
  {
   "cell_type": "code",
   "execution_count": 30,
   "metadata": {},
   "outputs": [
    {
     "data": {
      "text/plain": [
       "58"
      ]
     },
     "execution_count": 30,
     "metadata": {},
     "output_type": "execute_result"
    }
   ],
   "source": [
    "const_y_train.sum()"
   ]
  },
  {
   "cell_type": "code",
   "execution_count": 31,
   "metadata": {},
   "outputs": [
    {
     "data": {
      "text/plain": [
       "array([[  64,   80, 1907, ...,    0,    0,    0],\n",
       "       [  62,   88, 1991, ...,    0,    0,    0],\n",
       "       [  68,   81,  182, ...,    0,    0,    1],\n",
       "       ..., \n",
       "       [  66,   88, 1726, ...,    0,    0,    1],\n",
       "       [  62,   81, 1578, ...,    0,    0,    0],\n",
       "       [  60,   79,  439, ...,    0,    0,    0]])"
      ]
     },
     "execution_count": 31,
     "metadata": {},
     "output_type": "execute_result"
    }
   ],
   "source": [
    "const_X_train"
   ]
  },
  {
   "cell_type": "code",
   "execution_count": 37,
   "metadata": {},
   "outputs": [
    {
     "data": {
      "text/plain": [
       "array([  89874,  117008, 1543533,    2043,    1397, 1490216, 1500743,\n",
       "       1507732, 1565882, 1530937, 1532219, 1500988, 1501101, 1523368,\n",
       "       1480718, 1513708, 1495420,  305496,     157,     296,     163,\n",
       "           161,     168,     159,     144,     158])"
      ]
     },
     "execution_count": 37,
     "metadata": {},
     "output_type": "execute_result"
    }
   ],
   "source": [
    "const_X_test.sum(axis=0)"
   ]
  },
  {
   "cell_type": "code",
   "execution_count": 47,
   "metadata": {},
   "outputs": [
    {
     "data": {
      "image/png": "[encoded data removed]",
      "text/plain": [
       "<matplotlib.figure.Figure at 0x7f9640e6dd30>"
      ]
     },
     "metadata": {},
     "output_type": "display_data"
    }
   ],
   "source": [
    "fig, ax = plt.subplots(figsize=(12, 8))\n",
    "for const_mod in [const_rfc, const_log_reg, const_gb]:\n",
    "    precision, recall, threshold = precision_recall_curve(const_y_test, const_mod.predict_proba(const_X_test)[:, 1])\n",
    "    avg_prec = average_precision_score(const_y_test, const_mod.predict_proba(const_X_test)[:, 1])\n",
    "    ax.plot(recall, precision, label=f'{const_mod.__class__.__name__}: {avg_prec:.3f}')\n",
    "ax.set_ylabel('Precision')\n",
    "ax.set_xlabel('Recall')\n",
    "ax.set_title('Precision Recall Curve')\n",
    "ax.legend();"
   ]
  },
  {
   "cell_type": "code",
   "execution_count": 67,
   "metadata": {
    "collapsed": true
   },
   "outputs": [],
   "source": [
    "def cross_val_metrics(model, X_test, y_test):\n",
    "    \"\"\"\n",
    "    Print precision, recall, f1, support, and auc of a given\n",
    "    model.\n",
    "    \"\"\"\n",
    "    print(model.__class__.__name__, \"Metrics\")\n",
    "    print(\"--\" * 10)\n",
    "    metrics = ['average_precision', 'f1', 'roc_auc', 'neg_log_loss']\n",
    "    for metric in metrics:\n",
    "        scores = cross_val_score(model, X_test, y_test, scoring=metric, cv=5)\n",
    "        print(f'Average {metric} across 5 folds: {scores.mean():.3f}')\n",
    "        print('--' * 10)\n",
    "    print('\\n')"
   ]
  },
  {
   "cell_type": "code",
   "execution_count": 68,
   "metadata": {},
   "outputs": [
    {
     "name": "stdout",
     "output_type": "stream",
     "text": [
      "RandomForestClassifier Metrics\n",
      "--------------------\n",
      "Average average_precision across 5 folds: 0.825\n",
      "--------------------\n",
      "Average f1 across 5 folds: 0.808\n",
      "--------------------\n",
      "Average roc_auc across 5 folds: 0.940\n",
      "--------------------\n",
      "Average neg_log_loss across 5 folds: -0.059\n",
      "--------------------\n",
      "\n",
      "\n",
      "LogisticRegression Metrics\n",
      "--------------------\n",
      "Average average_precision across 5 folds: 0.741\n",
      "--------------------\n",
      "Average f1 across 5 folds: 0.668\n",
      "--------------------\n",
      "Average roc_auc across 5 folds: 0.913\n",
      "--------------------\n",
      "Average neg_log_loss across 5 folds: -0.026\n",
      "--------------------\n",
      "\n",
      "\n",
      "GradientBoostingClassifier Metrics\n",
      "--------------------\n",
      "Average average_precision across 5 folds: 0.813\n",
      "--------------------\n",
      "Average f1 across 5 folds: 0.716\n",
      "--------------------\n",
      "Average roc_auc across 5 folds: 0.949\n",
      "--------------------\n",
      "Average neg_log_loss across 5 folds: -0.021\n",
      "--------------------\n",
      "\n",
      "\n",
      "RandomForestClassifier Metrics\n",
      "--------------------\n",
      "Average average_precision across 5 folds: 0.795\n",
      "--------------------\n",
      "Average f1 across 5 folds: 0.807\n",
      "--------------------\n",
      "Average roc_auc across 5 folds: 0.922\n",
      "--------------------\n",
      "Average neg_log_loss across 5 folds: -0.053\n",
      "--------------------\n",
      "\n",
      "\n",
      "LogisticRegression Metrics\n",
      "--------------------\n",
      "Average average_precision across 5 folds: 0.753\n",
      "--------------------\n",
      "Average f1 across 5 folds: 0.735\n",
      "--------------------\n",
      "Average roc_auc across 5 folds: 0.903\n",
      "--------------------\n",
      "Average neg_log_loss across 5 folds: -0.026\n",
      "--------------------\n",
      "\n",
      "\n",
      "GradientBoostingClassifier Metrics\n",
      "--------------------\n",
      "Average average_precision across 5 folds: 0.772\n",
      "--------------------\n",
      "Average f1 across 5 folds: 0.780\n",
      "--------------------\n",
      "Average roc_auc across 5 folds: 0.921\n",
      "--------------------\n",
      "Average neg_log_loss across 5 folds: -0.022\n",
      "--------------------\n",
      "\n",
      "\n"
     ]
    }
   ],
   "source": [
    "all_models = [RandomForestClassifier(50),\n",
    "              LogisticRegression(),\n",
    "              GradientBoostingClassifier(learning_rate=.005, subsample=.5, n_estimators=250)]\n",
    "for scaled in all_models:\n",
    "    cross_val_metrics(scaled, scaled_X_train, scaled_y_train)\n",
    "for const in all_models:\n",
    "    cross_val_metrics(const, const_X_train, const_y_train)"
   ]
  },
  {
   "cell_type": "markdown",
   "metadata": {},
   "source": [
    "After a discussion with Jack, I'm realizing that I don't know if the failure is due to the sensor readings on the hour that failure occurs or the sensor readings are a result of the machinery failure. "
   ]
  }
 ],
 "metadata": {
  "kernelspec": {
   "display_name": "Python 3",
   "language": "python",
   "name": "python3"
  },
  "language_info": {
   "codemirror_mode": {
    "name": "ipython",
    "version": 3
   },
   "file_extension": ".py",
   "mimetype": "text/x-python",
   "name": "python",
   "nbconvert_exporter": "python",
   "pygments_lexer": "ipython3",
   "version": "3.6.4"
  }
 },
 "nbformat": 4,
 "nbformat_minor": 2
}
