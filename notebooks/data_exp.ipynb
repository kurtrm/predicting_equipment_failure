{
 "cells": [
  {
   "cell_type": "code",
   "execution_count": 28,
   "metadata": {
    "collapsed": true
   },
   "outputs": [],
   "source": [
    "import json"
   ]
  },
  {
   "cell_type": "code",
   "execution_count": 34,
   "metadata": {
    "collapsed": true
   },
   "outputs": [],
   "source": [
    "import numpy as np\n",
    "np.random.seed(369)\n",
    "import scipy.stats as scs\n",
    "import matplotlib.pyplot as plt\n",
    "import pandas as pd\n",
    "%matplotlib inline\n",
    "from IPython.core.interactiveshell import InteractiveShell\n",
    "InteractiveShell.ast_node_interactivity = 'all'"
   ]
  },
  {
   "cell_type": "code",
   "execution_count": 29,
   "metadata": {
    "collapsed": true
   },
   "outputs": [],
   "source": [
    "from sklearn.ensemble import RandomForestClassifier, GradientBoostingClassifier\n",
    "from sklearn.grid_search import GridSearchCV\n",
    "from sklearn.linear_model import LogisticRegression\n",
    "from sklearn.model_selection import train_test_split\n",
    "from sklearn.pipeline import Pipeline, FeatureUnion\n",
    "from sklearn.preprocessing import LabelBinarizer, StandardScaler\n",
    "from sklearn.base import TransformerMixin, BaseEstimator\n",
    "from sklearn.externals import joblib"
   ]
  },
  {
   "cell_type": "code",
   "execution_count": 9,
   "metadata": {
    "collapsed": true
   },
   "outputs": [],
   "source": [
    "from frag_tools import (EquipmentScaler,\n",
    "                        TargetBinarizer,\n",
    "                        NameChanger,\n",
    "                        MakeDummies,\n",
    "                        DropColumns)\n",
    "from sklearn.metrics import precision_recall_fscore_support, roc_auc_score"
   ]
  },
  {
   "cell_type": "code",
   "execution_count": 10,
   "metadata": {
    "collapsed": true
   },
   "outputs": [],
   "source": [
    "raw_df = pd.read_csv('../static/data/machine_failures.csv')"
   ]
  },
  {
   "cell_type": "code",
   "execution_count": 11,
   "metadata": {},
   "outputs": [
    {
     "name": "stderr",
     "output_type": "stream",
     "text": [
      "/home/kurtrm/anaconda/lib/python3.6/site-packages/sklearn/utils/validation.py:475: DataConversionWarning: Data with input dtype int64 was converted to float64 by StandardScaler.\n",
      "  warnings.warn(msg, DataConversionWarning)\n"
     ]
    }
   ],
   "source": [
    "scaled_pipe = Pipeline([\n",
    "('name_changer', NameChanger()),\n",
    "('scaler', EquipmentScaler(['temp', 'humidity', 'Measure1', 'Measure2', 'Measure3', 'Measure4', 'Measure5', 'Measure6', 'Measure7', 'Measure8', 'Measure9', 'Measure10', 'Measure11', 'Measure12', 'Measure13', 'Measure14', 'Measure15', 'hours_since_prev_fail'])),\n",
    "('get_dummies', MakeDummies(['Operator', 'day-of-week'])),\n",
    "('scale_y', TargetBinarizer('failure')),\n",
    "('drop_cols', DropColumns(['date', 'year', 'month', 'day-of-month', 'hour', 'minute', 'second',\n",
    "                         'Monday', 'Tuesday', 'Wednesday', 'Thursday', 'Friday',\n",
    "                         'Saturday', 'Sunday']))\n",
    "])\n",
    "scaled_data = scaled_pipe.fit_transform(raw_df)"
   ]
  },
  {
   "cell_type": "code",
   "execution_count": 12,
   "metadata": {
    "collapsed": true
   },
   "outputs": [],
   "source": [
    "const_pipe = Pipeline([\n",
    "('name_changer', NameChanger()),\n",
    "('get_dummies', MakeDummies(['Operator', 'day-of-week'])),\n",
    "('scale_y', TargetBinarizer('failure')),\n",
    "('drop_cols', DropColumns(['date', 'year', 'month', 'day-of-month', 'hour', 'minute', 'second',\n",
    "                         'Monday', 'Tuesday', 'Wednesday', 'Thursday', 'Friday',\n",
    "                         'Saturday', 'Sunday']))\n",
    "])\n",
    "const_data = const_pipe.fit_transform(raw_df)"
   ]
  },
  {
   "cell_type": "code",
   "execution_count": 13,
   "metadata": {},
   "outputs": [
    {
     "data": {
      "text/html": [
       "<div>\n",
       "<style>\n",
       "    .dataframe thead tr:only-child th {\n",
       "        text-align: right;\n",
       "    }\n",
       "\n",
       "    .dataframe thead th {\n",
       "        text-align: left;\n",
       "    }\n",
       "\n",
       "    .dataframe tbody tr th {\n",
       "        vertical-align: top;\n",
       "    }\n",
       "</style>\n",
       "<table border=\"1\" class=\"dataframe\">\n",
       "  <thead>\n",
       "    <tr style=\"text-align: right;\">\n",
       "      <th></th>\n",
       "      <th>temp</th>\n",
       "      <th>humidity</th>\n",
       "      <th>Measure1</th>\n",
       "      <th>Measure2</th>\n",
       "      <th>Measure3</th>\n",
       "      <th>Measure4</th>\n",
       "      <th>Measure5</th>\n",
       "      <th>Measure6</th>\n",
       "      <th>Measure7</th>\n",
       "      <th>Measure8</th>\n",
       "      <th>...</th>\n",
       "      <th>hours_since_prev_fail</th>\n",
       "      <th>failure</th>\n",
       "      <th>Operator1</th>\n",
       "      <th>Operator2</th>\n",
       "      <th>Operator3</th>\n",
       "      <th>Operator4</th>\n",
       "      <th>Operator5</th>\n",
       "      <th>Operator6</th>\n",
       "      <th>Operator7</th>\n",
       "      <th>Operator8</th>\n",
       "    </tr>\n",
       "  </thead>\n",
       "  <tbody>\n",
       "    <tr>\n",
       "      <th>count</th>\n",
       "      <td>8.784000e+03</td>\n",
       "      <td>8.784000e+03</td>\n",
       "      <td>8.784000e+03</td>\n",
       "      <td>8.784000e+03</td>\n",
       "      <td>8.784000e+03</td>\n",
       "      <td>8.784000e+03</td>\n",
       "      <td>8.784000e+03</td>\n",
       "      <td>8.784000e+03</td>\n",
       "      <td>8.784000e+03</td>\n",
       "      <td>8.784000e+03</td>\n",
       "      <td>...</td>\n",
       "      <td>8.784000e+03</td>\n",
       "      <td>8784.000000</td>\n",
       "      <td>8784.000000</td>\n",
       "      <td>8784.000000</td>\n",
       "      <td>8784.000000</td>\n",
       "      <td>8784.000000</td>\n",
       "      <td>8784.000000</td>\n",
       "      <td>8784.000000</td>\n",
       "      <td>8784.000000</td>\n",
       "      <td>8784.000000</td>\n",
       "    </tr>\n",
       "    <tr>\n",
       "      <th>mean</th>\n",
       "      <td>1.298218e-15</td>\n",
       "      <td>7.780977e-15</td>\n",
       "      <td>-7.975304e-17</td>\n",
       "      <td>-8.316561e-18</td>\n",
       "      <td>-3.999703e-17</td>\n",
       "      <td>-5.389334e-17</td>\n",
       "      <td>4.036945e-17</td>\n",
       "      <td>-1.517330e-16</td>\n",
       "      <td>9.689173e-17</td>\n",
       "      <td>1.412046e-16</td>\n",
       "      <td>...</td>\n",
       "      <td>9.244275e-17</td>\n",
       "      <td>0.009221</td>\n",
       "      <td>0.111111</td>\n",
       "      <td>0.222222</td>\n",
       "      <td>0.111111</td>\n",
       "      <td>0.111111</td>\n",
       "      <td>0.111111</td>\n",
       "      <td>0.111111</td>\n",
       "      <td>0.111111</td>\n",
       "      <td>0.111111</td>\n",
       "    </tr>\n",
       "    <tr>\n",
       "      <th>std</th>\n",
       "      <td>1.000057e+00</td>\n",
       "      <td>1.000057e+00</td>\n",
       "      <td>1.000057e+00</td>\n",
       "      <td>1.000057e+00</td>\n",
       "      <td>1.000057e+00</td>\n",
       "      <td>1.000057e+00</td>\n",
       "      <td>1.000057e+00</td>\n",
       "      <td>1.000057e+00</td>\n",
       "      <td>1.000057e+00</td>\n",
       "      <td>1.000057e+00</td>\n",
       "      <td>...</td>\n",
       "      <td>1.000057e+00</td>\n",
       "      <td>0.095589</td>\n",
       "      <td>0.314288</td>\n",
       "      <td>0.415763</td>\n",
       "      <td>0.314288</td>\n",
       "      <td>0.314288</td>\n",
       "      <td>0.314288</td>\n",
       "      <td>0.314288</td>\n",
       "      <td>0.314288</td>\n",
       "      <td>0.314288</td>\n",
       "    </tr>\n",
       "    <tr>\n",
       "      <th>min</th>\n",
       "      <td>-2.057623e+01</td>\n",
       "      <td>-3.791804e+00</td>\n",
       "      <td>-1.742613e+00</td>\n",
       "      <td>-1.335556e+00</td>\n",
       "      <td>-1.223874e+00</td>\n",
       "      <td>-1.708575e+00</td>\n",
       "      <td>-1.727206e+00</td>\n",
       "      <td>-1.724846e+00</td>\n",
       "      <td>-1.731621e+00</td>\n",
       "      <td>-1.716960e+00</td>\n",
       "      <td>...</td>\n",
       "      <td>-1.425711e+00</td>\n",
       "      <td>0.000000</td>\n",
       "      <td>0.000000</td>\n",
       "      <td>0.000000</td>\n",
       "      <td>0.000000</td>\n",
       "      <td>0.000000</td>\n",
       "      <td>0.000000</td>\n",
       "      <td>0.000000</td>\n",
       "      <td>0.000000</td>\n",
       "      <td>0.000000</td>\n",
       "    </tr>\n",
       "    <tr>\n",
       "      <th>25%</th>\n",
       "      <td>-7.063942e-01</td>\n",
       "      <td>-6.900544e-01</td>\n",
       "      <td>-8.600421e-01</td>\n",
       "      <td>-1.335556e+00</td>\n",
       "      <td>-1.223874e+00</td>\n",
       "      <td>-8.627965e-01</td>\n",
       "      <td>-8.812564e-01</td>\n",
       "      <td>-8.483996e-01</td>\n",
       "      <td>-8.657150e-01</td>\n",
       "      <td>-8.661846e-01</td>\n",
       "      <td>...</td>\n",
       "      <td>-8.391938e-01</td>\n",
       "      <td>0.000000</td>\n",
       "      <td>0.000000</td>\n",
       "      <td>0.000000</td>\n",
       "      <td>0.000000</td>\n",
       "      <td>0.000000</td>\n",
       "      <td>0.000000</td>\n",
       "      <td>0.000000</td>\n",
       "      <td>0.000000</td>\n",
       "      <td>0.000000</td>\n",
       "    </tr>\n",
       "    <tr>\n",
       "      <th>50%</th>\n",
       "      <td>-9.206936e-03</td>\n",
       "      <td>-6.970461e-02</td>\n",
       "      <td>9.495298e-03</td>\n",
       "      <td>-4.391302e-01</td>\n",
       "      <td>9.760872e-04</td>\n",
       "      <td>-2.540578e-02</td>\n",
       "      <td>2.207986e-03</td>\n",
       "      <td>-7.535552e-03</td>\n",
       "      <td>3.907568e-03</td>\n",
       "      <td>-6.101024e-03</td>\n",
       "      <td>...</td>\n",
       "      <td>-1.472348e-01</td>\n",
       "      <td>0.000000</td>\n",
       "      <td>0.000000</td>\n",
       "      <td>0.000000</td>\n",
       "      <td>0.000000</td>\n",
       "      <td>0.000000</td>\n",
       "      <td>0.000000</td>\n",
       "      <td>0.000000</td>\n",
       "      <td>0.000000</td>\n",
       "      <td>0.000000</td>\n",
       "    </tr>\n",
       "    <tr>\n",
       "      <th>75%</th>\n",
       "      <td>6.879803e-01</td>\n",
       "      <td>7.574285e-01</td>\n",
       "      <td>8.641370e-01</td>\n",
       "      <td>4.572955e-01</td>\n",
       "      <td>1.225826e+00</td>\n",
       "      <td>8.599823e-01</td>\n",
       "      <td>8.725423e-01</td>\n",
       "      <td>8.632924e-01</td>\n",
       "      <td>8.753883e-01</td>\n",
       "      <td>8.632908e-01</td>\n",
       "      <td>...</td>\n",
       "      <td>7.028861e-01</td>\n",
       "      <td>0.000000</td>\n",
       "      <td>0.000000</td>\n",
       "      <td>0.000000</td>\n",
       "      <td>0.000000</td>\n",
       "      <td>0.000000</td>\n",
       "      <td>0.000000</td>\n",
       "      <td>0.000000</td>\n",
       "      <td>0.000000</td>\n",
       "      <td>0.000000</td>\n",
       "    </tr>\n",
       "    <tr>\n",
       "      <th>max</th>\n",
       "      <td>4.871104e+00</td>\n",
       "      <td>7.994843e+00</td>\n",
       "      <td>1.713193e+00</td>\n",
       "      <td>1.353721e+00</td>\n",
       "      <td>1.225826e+00</td>\n",
       "      <td>1.750962e+00</td>\n",
       "      <td>1.754131e+00</td>\n",
       "      <td>1.750975e+00</td>\n",
       "      <td>1.717138e+00</td>\n",
       "      <td>1.738268e+00</td>\n",
       "      <td>...</td>\n",
       "      <td>2.956695e+00</td>\n",
       "      <td>1.000000</td>\n",
       "      <td>1.000000</td>\n",
       "      <td>1.000000</td>\n",
       "      <td>1.000000</td>\n",
       "      <td>1.000000</td>\n",
       "      <td>1.000000</td>\n",
       "      <td>1.000000</td>\n",
       "      <td>1.000000</td>\n",
       "      <td>1.000000</td>\n",
       "    </tr>\n",
       "  </tbody>\n",
       "</table>\n",
       "<p>8 rows × 27 columns</p>\n",
       "</div>"
      ],
      "text/plain": [
       "               temp      humidity      Measure1      Measure2      Measure3  \\\n",
       "count  8.784000e+03  8.784000e+03  8.784000e+03  8.784000e+03  8.784000e+03   \n",
       "mean   1.298218e-15  7.780977e-15 -7.975304e-17 -8.316561e-18 -3.999703e-17   \n",
       "std    1.000057e+00  1.000057e+00  1.000057e+00  1.000057e+00  1.000057e+00   \n",
       "min   -2.057623e+01 -3.791804e+00 -1.742613e+00 -1.335556e+00 -1.223874e+00   \n",
       "25%   -7.063942e-01 -6.900544e-01 -8.600421e-01 -1.335556e+00 -1.223874e+00   \n",
       "50%   -9.206936e-03 -6.970461e-02  9.495298e-03 -4.391302e-01  9.760872e-04   \n",
       "75%    6.879803e-01  7.574285e-01  8.641370e-01  4.572955e-01  1.225826e+00   \n",
       "max    4.871104e+00  7.994843e+00  1.713193e+00  1.353721e+00  1.225826e+00   \n",
       "\n",
       "           Measure4      Measure5      Measure6      Measure7      Measure8  \\\n",
       "count  8.784000e+03  8.784000e+03  8.784000e+03  8.784000e+03  8.784000e+03   \n",
       "mean  -5.389334e-17  4.036945e-17 -1.517330e-16  9.689173e-17  1.412046e-16   \n",
       "std    1.000057e+00  1.000057e+00  1.000057e+00  1.000057e+00  1.000057e+00   \n",
       "min   -1.708575e+00 -1.727206e+00 -1.724846e+00 -1.731621e+00 -1.716960e+00   \n",
       "25%   -8.627965e-01 -8.812564e-01 -8.483996e-01 -8.657150e-01 -8.661846e-01   \n",
       "50%   -2.540578e-02  2.207986e-03 -7.535552e-03  3.907568e-03 -6.101024e-03   \n",
       "75%    8.599823e-01  8.725423e-01  8.632924e-01  8.753883e-01  8.632908e-01   \n",
       "max    1.750962e+00  1.754131e+00  1.750975e+00  1.717138e+00  1.738268e+00   \n",
       "\n",
       "          ...       hours_since_prev_fail      failure    Operator1  \\\n",
       "count     ...                8.784000e+03  8784.000000  8784.000000   \n",
       "mean      ...                9.244275e-17     0.009221     0.111111   \n",
       "std       ...                1.000057e+00     0.095589     0.314288   \n",
       "min       ...               -1.425711e+00     0.000000     0.000000   \n",
       "25%       ...               -8.391938e-01     0.000000     0.000000   \n",
       "50%       ...               -1.472348e-01     0.000000     0.000000   \n",
       "75%       ...                7.028861e-01     0.000000     0.000000   \n",
       "max       ...                2.956695e+00     1.000000     1.000000   \n",
       "\n",
       "         Operator2    Operator3    Operator4    Operator5    Operator6  \\\n",
       "count  8784.000000  8784.000000  8784.000000  8784.000000  8784.000000   \n",
       "mean      0.222222     0.111111     0.111111     0.111111     0.111111   \n",
       "std       0.415763     0.314288     0.314288     0.314288     0.314288   \n",
       "min       0.000000     0.000000     0.000000     0.000000     0.000000   \n",
       "25%       0.000000     0.000000     0.000000     0.000000     0.000000   \n",
       "50%       0.000000     0.000000     0.000000     0.000000     0.000000   \n",
       "75%       0.000000     0.000000     0.000000     0.000000     0.000000   \n",
       "max       1.000000     1.000000     1.000000     1.000000     1.000000   \n",
       "\n",
       "         Operator7    Operator8  \n",
       "count  8784.000000  8784.000000  \n",
       "mean      0.111111     0.111111  \n",
       "std       0.314288     0.314288  \n",
       "min       0.000000     0.000000  \n",
       "25%       0.000000     0.000000  \n",
       "50%       0.000000     0.000000  \n",
       "75%       0.000000     0.000000  \n",
       "max       1.000000     1.000000  \n",
       "\n",
       "[8 rows x 27 columns]"
      ]
     },
     "execution_count": 13,
     "metadata": {},
     "output_type": "execute_result"
    }
   ],
   "source": [
    "scaled_data.describe()"
   ]
  },
  {
   "cell_type": "code",
   "execution_count": 14,
   "metadata": {
    "scrolled": true
   },
   "outputs": [
    {
     "data": {
      "text/plain": [
       "<matplotlib.axes._subplots.AxesSubplot at 0x7ff17e3eb128>"
      ]
     },
     "execution_count": 14,
     "metadata": {},
     "output_type": "execute_result"
    },
    {
     "data": {
      "image/png": "[encoded data removed]",
      "text/plain": [
       "<matplotlib.figure.Figure at 0x7ff17e48d3c8>"
      ]
     },
     "metadata": {},
     "output_type": "display_data"
    }
   ],
   "source": [
    "raw_df['Operator'][scaled_data['failure'] == 1].hist(figsize=(12, 6))"
   ]
  },
  {
   "cell_type": "code",
   "execution_count": 15,
   "metadata": {},
   "outputs": [
    {
     "data": {
      "text/plain": [
       "Operator2    1952\n",
       "Operator1     976\n",
       "Operator5     976\n",
       "Operator4     976\n",
       "Operator7     976\n",
       "Operator8     976\n",
       "Operator6     976\n",
       "Operator3     976\n",
       "Name: Operator, dtype: int64"
      ]
     },
     "execution_count": 15,
     "metadata": {},
     "output_type": "execute_result"
    }
   ],
   "source": [
    "raw_df['Operator'].value_counts()"
   ]
  },
  {
   "cell_type": "markdown",
   "metadata": {},
   "source": [
    "Operator2 is the available operator during most of the failures, but they are also available twice as often as the rest of the operators."
   ]
  },
  {
   "cell_type": "code",
   "execution_count": 16,
   "metadata": {
    "collapsed": true
   },
   "outputs": [],
   "source": [
    "sensor_readings = raw_df[[f'Measure{i}' for i in range(1, 16)]]"
   ]
  },
  {
   "cell_type": "code",
   "execution_count": 17,
   "metadata": {},
   "outputs": [
    {
     "data": {
      "text/html": [
       "<div>\n",
       "<style>\n",
       "    .dataframe thead tr:only-child th {\n",
       "        text-align: right;\n",
       "    }\n",
       "\n",
       "    .dataframe thead th {\n",
       "        text-align: left;\n",
       "    }\n",
       "\n",
       "    .dataframe tbody tr th {\n",
       "        vertical-align: top;\n",
       "    }\n",
       "</style>\n",
       "<table border=\"1\" class=\"dataframe\">\n",
       "  <thead>\n",
       "    <tr style=\"text-align: right;\">\n",
       "      <th></th>\n",
       "      <th>Measure1</th>\n",
       "      <th>Measure2</th>\n",
       "      <th>Measure3</th>\n",
       "      <th>Measure4</th>\n",
       "      <th>Measure5</th>\n",
       "      <th>Measure6</th>\n",
       "      <th>Measure7</th>\n",
       "      <th>Measure8</th>\n",
       "      <th>Measure9</th>\n",
       "      <th>Measure10</th>\n",
       "      <th>Measure11</th>\n",
       "      <th>Measure12</th>\n",
       "      <th>Measure13</th>\n",
       "      <th>Measure14</th>\n",
       "      <th>Measure15</th>\n",
       "    </tr>\n",
       "  </thead>\n",
       "  <tbody>\n",
       "    <tr>\n",
       "      <th>count</th>\n",
       "      <td>8703.000000</td>\n",
       "      <td>8703.000000</td>\n",
       "      <td>8703.000000</td>\n",
       "      <td>8703.000000</td>\n",
       "      <td>8703.000000</td>\n",
       "      <td>8703.000000</td>\n",
       "      <td>8703.000000</td>\n",
       "      <td>8703.000000</td>\n",
       "      <td>8703.000000</td>\n",
       "      <td>8703.000000</td>\n",
       "      <td>8703.000000</td>\n",
       "      <td>8703.000000</td>\n",
       "      <td>8703.000000</td>\n",
       "      <td>8703.000000</td>\n",
       "      <td>8703.000000</td>\n",
       "    </tr>\n",
       "    <tr>\n",
       "      <th>mean</th>\n",
       "      <td>1091.280018</td>\n",
       "      <td>1.490865</td>\n",
       "      <td>0.999081</td>\n",
       "      <td>1072.045846</td>\n",
       "      <td>1075.206481</td>\n",
       "      <td>1075.846605</td>\n",
       "      <td>1086.252212</td>\n",
       "      <td>1078.296909</td>\n",
       "      <td>1082.743422</td>\n",
       "      <td>1081.428588</td>\n",
       "      <td>1089.439733</td>\n",
       "      <td>1088.137539</td>\n",
       "      <td>1076.169252</td>\n",
       "      <td>1087.757670</td>\n",
       "      <td>1082.125704</td>\n",
       "    </tr>\n",
       "    <tr>\n",
       "      <th>std</th>\n",
       "      <td>537.331586</td>\n",
       "      <td>1.115128</td>\n",
       "      <td>0.816824</td>\n",
       "      <td>536.569867</td>\n",
       "      <td>532.990545</td>\n",
       "      <td>533.678537</td>\n",
       "      <td>538.492961</td>\n",
       "      <td>537.179775</td>\n",
       "      <td>533.113779</td>\n",
       "      <td>537.363433</td>\n",
       "      <td>535.027400</td>\n",
       "      <td>533.655995</td>\n",
       "      <td>535.326365</td>\n",
       "      <td>537.180277</td>\n",
       "      <td>537.498390</td>\n",
       "    </tr>\n",
       "    <tr>\n",
       "      <th>min</th>\n",
       "      <td>155.000000</td>\n",
       "      <td>0.000000</td>\n",
       "      <td>0.000000</td>\n",
       "      <td>155.000000</td>\n",
       "      <td>155.000000</td>\n",
       "      <td>155.000000</td>\n",
       "      <td>155.000000</td>\n",
       "      <td>155.000000</td>\n",
       "      <td>155.000000</td>\n",
       "      <td>155.000000</td>\n",
       "      <td>155.000000</td>\n",
       "      <td>155.000000</td>\n",
       "      <td>155.000000</td>\n",
       "      <td>155.000000</td>\n",
       "      <td>155.000000</td>\n",
       "    </tr>\n",
       "    <tr>\n",
       "      <th>25%</th>\n",
       "      <td>628.500000</td>\n",
       "      <td>0.000000</td>\n",
       "      <td>0.000000</td>\n",
       "      <td>609.000000</td>\n",
       "      <td>605.000000</td>\n",
       "      <td>623.500000</td>\n",
       "      <td>620.000000</td>\n",
       "      <td>614.000000</td>\n",
       "      <td>632.500000</td>\n",
       "      <td>618.500000</td>\n",
       "      <td>628.000000</td>\n",
       "      <td>627.000000</td>\n",
       "      <td>609.000000</td>\n",
       "      <td>616.500000</td>\n",
       "      <td>614.500000</td>\n",
       "    </tr>\n",
       "    <tr>\n",
       "      <th>50%</th>\n",
       "      <td>1097.000000</td>\n",
       "      <td>1.000000</td>\n",
       "      <td>1.000000</td>\n",
       "      <td>1058.000000</td>\n",
       "      <td>1076.000000</td>\n",
       "      <td>1072.000000</td>\n",
       "      <td>1089.000000</td>\n",
       "      <td>1075.000000</td>\n",
       "      <td>1079.000000</td>\n",
       "      <td>1077.000000</td>\n",
       "      <td>1094.000000</td>\n",
       "      <td>1082.000000</td>\n",
       "      <td>1067.000000</td>\n",
       "      <td>1088.000000</td>\n",
       "      <td>1076.000000</td>\n",
       "    </tr>\n",
       "    <tr>\n",
       "      <th>75%</th>\n",
       "      <td>1555.000000</td>\n",
       "      <td>2.000000</td>\n",
       "      <td>2.000000</td>\n",
       "      <td>1533.000000</td>\n",
       "      <td>1540.000000</td>\n",
       "      <td>1537.000000</td>\n",
       "      <td>1558.000000</td>\n",
       "      <td>1542.500000</td>\n",
       "      <td>1532.500000</td>\n",
       "      <td>1546.000000</td>\n",
       "      <td>1550.000000</td>\n",
       "      <td>1552.000000</td>\n",
       "      <td>1539.000000</td>\n",
       "      <td>1559.000000</td>\n",
       "      <td>1550.000000</td>\n",
       "    </tr>\n",
       "    <tr>\n",
       "      <th>max</th>\n",
       "      <td>2011.000000</td>\n",
       "      <td>3.000000</td>\n",
       "      <td>2.000000</td>\n",
       "      <td>2011.000000</td>\n",
       "      <td>2011.000000</td>\n",
       "      <td>2011.000000</td>\n",
       "      <td>2011.000000</td>\n",
       "      <td>2011.000000</td>\n",
       "      <td>2011.000000</td>\n",
       "      <td>2011.000000</td>\n",
       "      <td>2011.000000</td>\n",
       "      <td>2011.000000</td>\n",
       "      <td>2011.000000</td>\n",
       "      <td>2011.000000</td>\n",
       "      <td>2011.000000</td>\n",
       "    </tr>\n",
       "  </tbody>\n",
       "</table>\n",
       "</div>"
      ],
      "text/plain": [
       "          Measure1     Measure2     Measure3     Measure4     Measure5  \\\n",
       "count  8703.000000  8703.000000  8703.000000  8703.000000  8703.000000   \n",
       "mean   1091.280018     1.490865     0.999081  1072.045846  1075.206481   \n",
       "std     537.331586     1.115128     0.816824   536.569867   532.990545   \n",
       "min     155.000000     0.000000     0.000000   155.000000   155.000000   \n",
       "25%     628.500000     0.000000     0.000000   609.000000   605.000000   \n",
       "50%    1097.000000     1.000000     1.000000  1058.000000  1076.000000   \n",
       "75%    1555.000000     2.000000     2.000000  1533.000000  1540.000000   \n",
       "max    2011.000000     3.000000     2.000000  2011.000000  2011.000000   \n",
       "\n",
       "          Measure6     Measure7     Measure8     Measure9    Measure10  \\\n",
       "count  8703.000000  8703.000000  8703.000000  8703.000000  8703.000000   \n",
       "mean   1075.846605  1086.252212  1078.296909  1082.743422  1081.428588   \n",
       "std     533.678537   538.492961   537.179775   533.113779   537.363433   \n",
       "min     155.000000   155.000000   155.000000   155.000000   155.000000   \n",
       "25%     623.500000   620.000000   614.000000   632.500000   618.500000   \n",
       "50%    1072.000000  1089.000000  1075.000000  1079.000000  1077.000000   \n",
       "75%    1537.000000  1558.000000  1542.500000  1532.500000  1546.000000   \n",
       "max    2011.000000  2011.000000  2011.000000  2011.000000  2011.000000   \n",
       "\n",
       "         Measure11    Measure12    Measure13    Measure14    Measure15  \n",
       "count  8703.000000  8703.000000  8703.000000  8703.000000  8703.000000  \n",
       "mean   1089.439733  1088.137539  1076.169252  1087.757670  1082.125704  \n",
       "std     535.027400   533.655995   535.326365   537.180277   537.498390  \n",
       "min     155.000000   155.000000   155.000000   155.000000   155.000000  \n",
       "25%     628.000000   627.000000   609.000000   616.500000   614.500000  \n",
       "50%    1094.000000  1082.000000  1067.000000  1088.000000  1076.000000  \n",
       "75%    1550.000000  1552.000000  1539.000000  1559.000000  1550.000000  \n",
       "max    2011.000000  2011.000000  2011.000000  2011.000000  2011.000000  "
      ]
     },
     "execution_count": 17,
     "metadata": {},
     "output_type": "execute_result"
    }
   ],
   "source": [
    "sensor_readings[scaled_data['failure'] == 0].describe()"
   ]
  },
  {
   "cell_type": "code",
   "execution_count": 18,
   "metadata": {},
   "outputs": [
    {
     "data": {
      "text/html": [
       "<div>\n",
       "<style>\n",
       "    .dataframe thead tr:only-child th {\n",
       "        text-align: right;\n",
       "    }\n",
       "\n",
       "    .dataframe thead th {\n",
       "        text-align: left;\n",
       "    }\n",
       "\n",
       "    .dataframe tbody tr th {\n",
       "        vertical-align: top;\n",
       "    }\n",
       "</style>\n",
       "<table border=\"1\" class=\"dataframe\">\n",
       "  <thead>\n",
       "    <tr style=\"text-align: right;\">\n",
       "      <th></th>\n",
       "      <th>Measure1</th>\n",
       "      <th>Measure2</th>\n",
       "      <th>Measure3</th>\n",
       "      <th>Measure4</th>\n",
       "      <th>Measure5</th>\n",
       "      <th>Measure6</th>\n",
       "      <th>Measure7</th>\n",
       "      <th>Measure8</th>\n",
       "      <th>Measure9</th>\n",
       "      <th>Measure10</th>\n",
       "      <th>Measure11</th>\n",
       "      <th>Measure12</th>\n",
       "      <th>Measure13</th>\n",
       "      <th>Measure14</th>\n",
       "      <th>Measure15</th>\n",
       "    </tr>\n",
       "  </thead>\n",
       "  <tbody>\n",
       "    <tr>\n",
       "      <th>count</th>\n",
       "      <td>81.000000</td>\n",
       "      <td>81.000000</td>\n",
       "      <td>81.000000</td>\n",
       "      <td>81.000000</td>\n",
       "      <td>81.000000</td>\n",
       "      <td>81.000000</td>\n",
       "      <td>81.000000</td>\n",
       "      <td>81.000000</td>\n",
       "      <td>81.000000</td>\n",
       "      <td>81.000000</td>\n",
       "      <td>81.000000</td>\n",
       "      <td>81.000000</td>\n",
       "      <td>81.000000</td>\n",
       "      <td>81.00000</td>\n",
       "      <td>81.000000</td>\n",
       "    </tr>\n",
       "    <tr>\n",
       "      <th>mean</th>\n",
       "      <td>1050.111111</td>\n",
       "      <td>1.382716</td>\n",
       "      <td>1.012346</td>\n",
       "      <td>1026.938272</td>\n",
       "      <td>1142.049383</td>\n",
       "      <td>1095.061728</td>\n",
       "      <td>1156.185185</td>\n",
       "      <td>967.716049</td>\n",
       "      <td>1003.703704</td>\n",
       "      <td>1187.098765</td>\n",
       "      <td>1011.296296</td>\n",
       "      <td>1108.938272</td>\n",
       "      <td>1139.777778</td>\n",
       "      <td>1147.37037</td>\n",
       "      <td>1111.037037</td>\n",
       "    </tr>\n",
       "    <tr>\n",
       "      <th>std</th>\n",
       "      <td>512.887146</td>\n",
       "      <td>1.167989</td>\n",
       "      <td>0.782525</td>\n",
       "      <td>532.362009</td>\n",
       "      <td>550.313658</td>\n",
       "      <td>571.196996</td>\n",
       "      <td>503.478577</td>\n",
       "      <td>529.937478</td>\n",
       "      <td>515.948143</td>\n",
       "      <td>554.129579</td>\n",
       "      <td>529.166407</td>\n",
       "      <td>496.138775</td>\n",
       "      <td>510.714451</td>\n",
       "      <td>546.42544</td>\n",
       "      <td>543.254371</td>\n",
       "    </tr>\n",
       "    <tr>\n",
       "      <th>min</th>\n",
       "      <td>166.000000</td>\n",
       "      <td>0.000000</td>\n",
       "      <td>0.000000</td>\n",
       "      <td>174.000000</td>\n",
       "      <td>160.000000</td>\n",
       "      <td>165.000000</td>\n",
       "      <td>173.000000</td>\n",
       "      <td>166.000000</td>\n",
       "      <td>160.000000</td>\n",
       "      <td>170.000000</td>\n",
       "      <td>174.000000</td>\n",
       "      <td>174.000000</td>\n",
       "      <td>258.000000</td>\n",
       "      <td>157.00000</td>\n",
       "      <td>244.000000</td>\n",
       "    </tr>\n",
       "    <tr>\n",
       "      <th>25%</th>\n",
       "      <td>725.000000</td>\n",
       "      <td>0.000000</td>\n",
       "      <td>0.000000</td>\n",
       "      <td>466.000000</td>\n",
       "      <td>695.000000</td>\n",
       "      <td>586.000000</td>\n",
       "      <td>772.000000</td>\n",
       "      <td>493.000000</td>\n",
       "      <td>551.000000</td>\n",
       "      <td>698.000000</td>\n",
       "      <td>554.000000</td>\n",
       "      <td>678.000000</td>\n",
       "      <td>664.000000</td>\n",
       "      <td>666.00000</td>\n",
       "      <td>579.000000</td>\n",
       "    </tr>\n",
       "    <tr>\n",
       "      <th>50%</th>\n",
       "      <td>970.000000</td>\n",
       "      <td>1.000000</td>\n",
       "      <td>1.000000</td>\n",
       "      <td>1074.000000</td>\n",
       "      <td>1201.000000</td>\n",
       "      <td>1094.000000</td>\n",
       "      <td>1098.000000</td>\n",
       "      <td>938.000000</td>\n",
       "      <td>992.000000</td>\n",
       "      <td>1273.000000</td>\n",
       "      <td>952.000000</td>\n",
       "      <td>1077.000000</td>\n",
       "      <td>1154.000000</td>\n",
       "      <td>1103.00000</td>\n",
       "      <td>1066.000000</td>\n",
       "    </tr>\n",
       "    <tr>\n",
       "      <th>75%</th>\n",
       "      <td>1484.000000</td>\n",
       "      <td>2.000000</td>\n",
       "      <td>2.000000</td>\n",
       "      <td>1457.000000</td>\n",
       "      <td>1645.000000</td>\n",
       "      <td>1536.000000</td>\n",
       "      <td>1542.000000</td>\n",
       "      <td>1394.000000</td>\n",
       "      <td>1401.000000</td>\n",
       "      <td>1641.000000</td>\n",
       "      <td>1505.000000</td>\n",
       "      <td>1546.000000</td>\n",
       "      <td>1595.000000</td>\n",
       "      <td>1655.00000</td>\n",
       "      <td>1603.000000</td>\n",
       "    </tr>\n",
       "    <tr>\n",
       "      <th>max</th>\n",
       "      <td>1975.000000</td>\n",
       "      <td>3.000000</td>\n",
       "      <td>2.000000</td>\n",
       "      <td>1959.000000</td>\n",
       "      <td>1984.000000</td>\n",
       "      <td>1993.000000</td>\n",
       "      <td>2007.000000</td>\n",
       "      <td>2004.000000</td>\n",
       "      <td>2001.000000</td>\n",
       "      <td>1985.000000</td>\n",
       "      <td>1927.000000</td>\n",
       "      <td>2005.000000</td>\n",
       "      <td>1972.000000</td>\n",
       "      <td>1998.00000</td>\n",
       "      <td>1973.000000</td>\n",
       "    </tr>\n",
       "  </tbody>\n",
       "</table>\n",
       "</div>"
      ],
      "text/plain": [
       "          Measure1   Measure2   Measure3     Measure4     Measure5  \\\n",
       "count    81.000000  81.000000  81.000000    81.000000    81.000000   \n",
       "mean   1050.111111   1.382716   1.012346  1026.938272  1142.049383   \n",
       "std     512.887146   1.167989   0.782525   532.362009   550.313658   \n",
       "min     166.000000   0.000000   0.000000   174.000000   160.000000   \n",
       "25%     725.000000   0.000000   0.000000   466.000000   695.000000   \n",
       "50%     970.000000   1.000000   1.000000  1074.000000  1201.000000   \n",
       "75%    1484.000000   2.000000   2.000000  1457.000000  1645.000000   \n",
       "max    1975.000000   3.000000   2.000000  1959.000000  1984.000000   \n",
       "\n",
       "          Measure6     Measure7     Measure8     Measure9    Measure10  \\\n",
       "count    81.000000    81.000000    81.000000    81.000000    81.000000   \n",
       "mean   1095.061728  1156.185185   967.716049  1003.703704  1187.098765   \n",
       "std     571.196996   503.478577   529.937478   515.948143   554.129579   \n",
       "min     165.000000   173.000000   166.000000   160.000000   170.000000   \n",
       "25%     586.000000   772.000000   493.000000   551.000000   698.000000   \n",
       "50%    1094.000000  1098.000000   938.000000   992.000000  1273.000000   \n",
       "75%    1536.000000  1542.000000  1394.000000  1401.000000  1641.000000   \n",
       "max    1993.000000  2007.000000  2004.000000  2001.000000  1985.000000   \n",
       "\n",
       "         Measure11    Measure12    Measure13   Measure14    Measure15  \n",
       "count    81.000000    81.000000    81.000000    81.00000    81.000000  \n",
       "mean   1011.296296  1108.938272  1139.777778  1147.37037  1111.037037  \n",
       "std     529.166407   496.138775   510.714451   546.42544   543.254371  \n",
       "min     174.000000   174.000000   258.000000   157.00000   244.000000  \n",
       "25%     554.000000   678.000000   664.000000   666.00000   579.000000  \n",
       "50%     952.000000  1077.000000  1154.000000  1103.00000  1066.000000  \n",
       "75%    1505.000000  1546.000000  1595.000000  1655.00000  1603.000000  \n",
       "max    1927.000000  2005.000000  1972.000000  1998.00000  1973.000000  "
      ]
     },
     "execution_count": 18,
     "metadata": {},
     "output_type": "execute_result"
    }
   ],
   "source": [
    "sensor_readings[scaled_data['failure'] == 1].describe()"
   ]
  },
  {
   "cell_type": "code",
   "execution_count": 19,
   "metadata": {},
   "outputs": [
    {
     "data": {
      "text/html": [
       "<div>\n",
       "<style>\n",
       "    .dataframe thead tr:only-child th {\n",
       "        text-align: right;\n",
       "    }\n",
       "\n",
       "    .dataframe thead th {\n",
       "        text-align: left;\n",
       "    }\n",
       "\n",
       "    .dataframe tbody tr th {\n",
       "        vertical-align: top;\n",
       "    }\n",
       "</style>\n",
       "<table border=\"1\" class=\"dataframe\">\n",
       "  <thead>\n",
       "    <tr style=\"text-align: right;\">\n",
       "      <th></th>\n",
       "      <th>Measure1</th>\n",
       "      <th>Measure2</th>\n",
       "      <th>Measure3</th>\n",
       "      <th>Measure4</th>\n",
       "      <th>Measure5</th>\n",
       "      <th>Measure6</th>\n",
       "      <th>Measure7</th>\n",
       "      <th>Measure8</th>\n",
       "      <th>Measure9</th>\n",
       "      <th>Measure10</th>\n",
       "      <th>Measure11</th>\n",
       "      <th>Measure12</th>\n",
       "      <th>Measure13</th>\n",
       "      <th>Measure14</th>\n",
       "      <th>Measure15</th>\n",
       "    </tr>\n",
       "  </thead>\n",
       "  <tbody>\n",
       "    <tr>\n",
       "      <th>count</th>\n",
       "      <td>8622.000000</td>\n",
       "      <td>8622.000000</td>\n",
       "      <td>8622.000000</td>\n",
       "      <td>8622.000000</td>\n",
       "      <td>8622.000000</td>\n",
       "      <td>8622.000000</td>\n",
       "      <td>8622.000000</td>\n",
       "      <td>8622.000000</td>\n",
       "      <td>8622.000000</td>\n",
       "      <td>8622.000000</td>\n",
       "      <td>8622.000000</td>\n",
       "      <td>8622.000000</td>\n",
       "      <td>8622.000000</td>\n",
       "      <td>8622.000000</td>\n",
       "      <td>8622.000000</td>\n",
       "    </tr>\n",
       "    <tr>\n",
       "      <th>mean</th>\n",
       "      <td>41.168907</td>\n",
       "      <td>0.108149</td>\n",
       "      <td>-0.013265</td>\n",
       "      <td>45.107575</td>\n",
       "      <td>-66.842902</td>\n",
       "      <td>-19.215124</td>\n",
       "      <td>-69.932973</td>\n",
       "      <td>110.580860</td>\n",
       "      <td>79.039718</td>\n",
       "      <td>-105.670178</td>\n",
       "      <td>78.143437</td>\n",
       "      <td>-20.800733</td>\n",
       "      <td>-63.608526</td>\n",
       "      <td>-59.612701</td>\n",
       "      <td>-28.911333</td>\n",
       "    </tr>\n",
       "    <tr>\n",
       "      <th>std</th>\n",
       "      <td>24.444440</td>\n",
       "      <td>-0.052861</td>\n",
       "      <td>0.034299</td>\n",
       "      <td>4.207858</td>\n",
       "      <td>-17.323113</td>\n",
       "      <td>-37.518460</td>\n",
       "      <td>35.014383</td>\n",
       "      <td>7.242296</td>\n",
       "      <td>17.165636</td>\n",
       "      <td>-16.766146</td>\n",
       "      <td>5.860993</td>\n",
       "      <td>37.517221</td>\n",
       "      <td>24.611915</td>\n",
       "      <td>-9.245163</td>\n",
       "      <td>-5.755981</td>\n",
       "    </tr>\n",
       "    <tr>\n",
       "      <th>min</th>\n",
       "      <td>-11.000000</td>\n",
       "      <td>0.000000</td>\n",
       "      <td>0.000000</td>\n",
       "      <td>-19.000000</td>\n",
       "      <td>-5.000000</td>\n",
       "      <td>-10.000000</td>\n",
       "      <td>-18.000000</td>\n",
       "      <td>-11.000000</td>\n",
       "      <td>-5.000000</td>\n",
       "      <td>-15.000000</td>\n",
       "      <td>-19.000000</td>\n",
       "      <td>-19.000000</td>\n",
       "      <td>-103.000000</td>\n",
       "      <td>-2.000000</td>\n",
       "      <td>-89.000000</td>\n",
       "    </tr>\n",
       "    <tr>\n",
       "      <th>25%</th>\n",
       "      <td>-96.500000</td>\n",
       "      <td>0.000000</td>\n",
       "      <td>0.000000</td>\n",
       "      <td>143.000000</td>\n",
       "      <td>-90.000000</td>\n",
       "      <td>37.500000</td>\n",
       "      <td>-152.000000</td>\n",
       "      <td>121.000000</td>\n",
       "      <td>81.500000</td>\n",
       "      <td>-79.500000</td>\n",
       "      <td>74.000000</td>\n",
       "      <td>-51.000000</td>\n",
       "      <td>-55.000000</td>\n",
       "      <td>-49.500000</td>\n",
       "      <td>35.500000</td>\n",
       "    </tr>\n",
       "    <tr>\n",
       "      <th>50%</th>\n",
       "      <td>127.000000</td>\n",
       "      <td>0.000000</td>\n",
       "      <td>0.000000</td>\n",
       "      <td>-16.000000</td>\n",
       "      <td>-125.000000</td>\n",
       "      <td>-22.000000</td>\n",
       "      <td>-9.000000</td>\n",
       "      <td>137.000000</td>\n",
       "      <td>87.000000</td>\n",
       "      <td>-196.000000</td>\n",
       "      <td>142.000000</td>\n",
       "      <td>5.000000</td>\n",
       "      <td>-87.000000</td>\n",
       "      <td>-15.000000</td>\n",
       "      <td>10.000000</td>\n",
       "    </tr>\n",
       "    <tr>\n",
       "      <th>75%</th>\n",
       "      <td>71.000000</td>\n",
       "      <td>0.000000</td>\n",
       "      <td>0.000000</td>\n",
       "      <td>76.000000</td>\n",
       "      <td>-105.000000</td>\n",
       "      <td>1.000000</td>\n",
       "      <td>16.000000</td>\n",
       "      <td>148.500000</td>\n",
       "      <td>131.500000</td>\n",
       "      <td>-95.000000</td>\n",
       "      <td>45.000000</td>\n",
       "      <td>6.000000</td>\n",
       "      <td>-56.000000</td>\n",
       "      <td>-96.000000</td>\n",
       "      <td>-53.000000</td>\n",
       "    </tr>\n",
       "    <tr>\n",
       "      <th>max</th>\n",
       "      <td>36.000000</td>\n",
       "      <td>0.000000</td>\n",
       "      <td>0.000000</td>\n",
       "      <td>52.000000</td>\n",
       "      <td>27.000000</td>\n",
       "      <td>18.000000</td>\n",
       "      <td>4.000000</td>\n",
       "      <td>7.000000</td>\n",
       "      <td>10.000000</td>\n",
       "      <td>26.000000</td>\n",
       "      <td>84.000000</td>\n",
       "      <td>6.000000</td>\n",
       "      <td>39.000000</td>\n",
       "      <td>13.000000</td>\n",
       "      <td>38.000000</td>\n",
       "    </tr>\n",
       "  </tbody>\n",
       "</table>\n",
       "</div>"
      ],
      "text/plain": [
       "          Measure1     Measure2     Measure3     Measure4     Measure5  \\\n",
       "count  8622.000000  8622.000000  8622.000000  8622.000000  8622.000000   \n",
       "mean     41.168907     0.108149    -0.013265    45.107575   -66.842902   \n",
       "std      24.444440    -0.052861     0.034299     4.207858   -17.323113   \n",
       "min     -11.000000     0.000000     0.000000   -19.000000    -5.000000   \n",
       "25%     -96.500000     0.000000     0.000000   143.000000   -90.000000   \n",
       "50%     127.000000     0.000000     0.000000   -16.000000  -125.000000   \n",
       "75%      71.000000     0.000000     0.000000    76.000000  -105.000000   \n",
       "max      36.000000     0.000000     0.000000    52.000000    27.000000   \n",
       "\n",
       "          Measure6     Measure7     Measure8     Measure9    Measure10  \\\n",
       "count  8622.000000  8622.000000  8622.000000  8622.000000  8622.000000   \n",
       "mean    -19.215124   -69.932973   110.580860    79.039718  -105.670178   \n",
       "std     -37.518460    35.014383     7.242296    17.165636   -16.766146   \n",
       "min     -10.000000   -18.000000   -11.000000    -5.000000   -15.000000   \n",
       "25%      37.500000  -152.000000   121.000000    81.500000   -79.500000   \n",
       "50%     -22.000000    -9.000000   137.000000    87.000000  -196.000000   \n",
       "75%       1.000000    16.000000   148.500000   131.500000   -95.000000   \n",
       "max      18.000000     4.000000     7.000000    10.000000    26.000000   \n",
       "\n",
       "         Measure11    Measure12    Measure13    Measure14    Measure15  \n",
       "count  8622.000000  8622.000000  8622.000000  8622.000000  8622.000000  \n",
       "mean     78.143437   -20.800733   -63.608526   -59.612701   -28.911333  \n",
       "std       5.860993    37.517221    24.611915    -9.245163    -5.755981  \n",
       "min     -19.000000   -19.000000  -103.000000    -2.000000   -89.000000  \n",
       "25%      74.000000   -51.000000   -55.000000   -49.500000    35.500000  \n",
       "50%     142.000000     5.000000   -87.000000   -15.000000    10.000000  \n",
       "75%      45.000000     6.000000   -56.000000   -96.000000   -53.000000  \n",
       "max      84.000000     6.000000    39.000000    13.000000    38.000000  "
      ]
     },
     "execution_count": 19,
     "metadata": {},
     "output_type": "execute_result"
    }
   ],
   "source": [
    "sensor_readings[scaled_data['failure'] == 0].describe() - sensor_readings[scaled_data['failure'] == 1].describe()"
   ]
  },
  {
   "cell_type": "markdown",
   "metadata": {},
   "source": [
    "Means of sensor readings at failure are not abnormal, all within one standard deviation.\n",
    "\n",
    "The minimums and maximums for all measures are the same, which is kind of weird."
   ]
  },
  {
   "cell_type": "code",
   "execution_count": 20,
   "metadata": {
    "scrolled": true
   },
   "outputs": [
    {
     "data": {
      "text/plain": [
       "<matplotlib.image.AxesImage at 0x7ff1762c9080>"
      ]
     },
     "execution_count": 20,
     "metadata": {},
     "output_type": "execute_result"
    },
    {
     "data": {
      "image/png": "[encoded data removed]",
      "text/plain": [
       "<matplotlib.figure.Figure at 0x7ff17e511978>"
      ]
     },
     "metadata": {},
     "output_type": "display_data"
    }
   ],
   "source": [
    "plt.matshow(scaled_data.corr())"
   ]
  },
  {
   "cell_type": "code",
   "execution_count": 21,
   "metadata": {
    "collapsed": true
   },
   "outputs": [],
   "source": [
    "scaled_train, scaled_test = train_test_split(scaled_data, test_size=.2)\n",
    "const_train, const_test = train_test_split(const_data, test_size=.2)"
   ]
  },
  {
   "cell_type": "code",
   "execution_count": 22,
   "metadata": {
    "collapsed": true
   },
   "outputs": [],
   "source": [
    "scaled_X_train, scaled_X_test, scaled_y_train, scaled_y_test = train_test_split(scaled_data.drop('failure', axis=1).values, scaled_data['failure'].values)\n",
    "const_X_train, const_X_test, const_y_train, const_y_test = train_test_split(const_data.drop('failure', axis=1).values, const_data['failure'].values)"
   ]
  },
  {
   "cell_type": "code",
   "execution_count": 23,
   "metadata": {
    "scrolled": true
   },
   "outputs": [
    {
     "data": {
      "text/plain": [
       "<matplotlib.axes._subplots.AxesSubplot at 0x7ff17df7d208>"
      ]
     },
     "execution_count": 23,
     "metadata": {},
     "output_type": "execute_result"
    },
    {
     "data": {
      "image/png": "[encoded data removed]",
      "text/plain": [
       "<matplotlib.figure.Figure at 0x7ff1762de400>"
      ]
     },
     "metadata": {},
     "output_type": "display_data"
    }
   ],
   "source": [
    "(const_data['failure'] == 1).plot()"
   ]
  },
  {
   "cell_type": "code",
   "execution_count": 24,
   "metadata": {},
   "outputs": [
    {
     "data": {
      "text/plain": [
       "RandomForestClassifier(bootstrap=True, class_weight=None, criterion='gini',\n",
       "            max_depth=None, max_features='auto', max_leaf_nodes=None,\n",
       "            min_impurity_decrease=0.0, min_impurity_split=None,\n",
       "            min_samples_leaf=1, min_samples_split=2,\n",
       "            min_weight_fraction_leaf=0.0, n_estimators=50, n_jobs=1,\n",
       "            oob_score=False, random_state=None, verbose=0,\n",
       "            warm_start=False)"
      ]
     },
     "execution_count": 24,
     "metadata": {},
     "output_type": "execute_result"
    },
    {
     "data": {
      "text/plain": [
       "LogisticRegression(C=1.0, class_weight=None, dual=False, fit_intercept=True,\n",
       "          intercept_scaling=1, max_iter=100, multi_class='ovr', n_jobs=1,\n",
       "          penalty='l2', random_state=None, solver='liblinear', tol=0.0001,\n",
       "          verbose=0, warm_start=False)"
      ]
     },
     "execution_count": 24,
     "metadata": {},
     "output_type": "execute_result"
    },
    {
     "data": {
      "text/plain": [
       "GradientBoostingClassifier(criterion='friedman_mse', init=None,\n",
       "              learning_rate=0.005, loss='deviance', max_depth=3,\n",
       "              max_features=None, max_leaf_nodes=None,\n",
       "              min_impurity_decrease=0.0, min_impurity_split=None,\n",
       "              min_samples_leaf=1, min_samples_split=2,\n",
       "              min_weight_fraction_leaf=0.0, n_estimators=250,\n",
       "              presort='auto', random_state=None, subsample=0.5, verbose=0,\n",
       "              warm_start=False)"
      ]
     },
     "execution_count": 24,
     "metadata": {},
     "output_type": "execute_result"
    },
    {
     "data": {
      "text/plain": [
       "RandomForestClassifier(bootstrap=True, class_weight=None, criterion='gini',\n",
       "            max_depth=None, max_features='auto', max_leaf_nodes=None,\n",
       "            min_impurity_decrease=0.0, min_impurity_split=None,\n",
       "            min_samples_leaf=1, min_samples_split=2,\n",
       "            min_weight_fraction_leaf=0.0, n_estimators=50, n_jobs=1,\n",
       "            oob_score=False, random_state=None, verbose=0,\n",
       "            warm_start=False)"
      ]
     },
     "execution_count": 24,
     "metadata": {},
     "output_type": "execute_result"
    },
    {
     "data": {
      "text/plain": [
       "GradientBoostingClassifier(criterion='friedman_mse', init=None,\n",
       "              learning_rate=0.005, loss='deviance', max_depth=3,\n",
       "              max_features=None, max_leaf_nodes=None,\n",
       "              min_impurity_decrease=0.0, min_impurity_split=None,\n",
       "              min_samples_leaf=1, min_samples_split=2,\n",
       "              min_weight_fraction_leaf=0.0, n_estimators=250,\n",
       "              presort='auto', random_state=None, subsample=0.5, verbose=0,\n",
       "              warm_start=False)"
      ]
     },
     "execution_count": 24,
     "metadata": {},
     "output_type": "execute_result"
    },
    {
     "data": {
      "text/plain": [
       "RandomForestClassifier(bootstrap=True, class_weight=None, criterion='gini',\n",
       "            max_depth=None, max_features='auto', max_leaf_nodes=None,\n",
       "            min_impurity_decrease=0.0, min_impurity_split=None,\n",
       "            min_samples_leaf=1, min_samples_split=2,\n",
       "            min_weight_fraction_leaf=0.0, n_estimators=50, n_jobs=1,\n",
       "            oob_score=False, random_state=None, verbose=0,\n",
       "            warm_start=False)"
      ]
     },
     "execution_count": 24,
     "metadata": {},
     "output_type": "execute_result"
    }
   ],
   "source": [
    "scaled_rfc = RandomForestClassifier(50)\n",
    "scaled_log_reg = LogisticRegression()\n",
    "scaled_gb = GradientBoostingClassifier(learning_rate=.005, subsample=.5, n_estimators=250)\n",
    "const_rfc = RandomForestClassifier(50)\n",
    "const_log_reg = GradientBoostingClassifier(learning_rate=.005, subsample=.5, n_estimators=250)\n",
    "const_gb = RandomForestClassifier(50)\n",
    "scaled_rfc.fit(scaled_X_train, scaled_y_train)\n",
    "scaled_log_reg.fit(scaled_X_train, scaled_y_train)\n",
    "scaled_gb.fit(scaled_X_train, scaled_y_train)\n",
    "const_rfc.fit(const_X_train, const_y_train)\n",
    "const_log_reg.fit(const_X_train, const_y_train)\n",
    "const_gb.fit(const_X_train, const_y_train)"
   ]
  },
  {
   "cell_type": "code",
   "execution_count": 25,
   "metadata": {
    "collapsed": true
   },
   "outputs": [],
   "source": [
    "def print_model_metrics(model, X_test, y_test):\n",
    "    \"\"\"\n",
    "    Print precision, recall, f1, support, and auc of a given\n",
    "    model.\n",
    "    \"\"\"\n",
    "    y_pred = model.predict(X_test)\n",
    "    precision, recall, f1, support = precision_recall_fscore_support(y_test, y_pred)\n",
    "    auc = roc_auc_score(y_test, y_pred)\n",
    "    print(model.__class__.__name__, \"Metrics\")\n",
    "    print(\"Classes: \", f'    {model.classes_[0]}       ', f'{model.classes_[1]}')\n",
    "    print(\"--\" * 10)\n",
    "    print('Precision: ', f' {precision[0]:.3f}   ', f'{precision[1]:.3f}')\n",
    "    print('Recall: ', f'    {recall[0]:.3f}   ', f'{recall[1]:.3f}')\n",
    "    print('f1: ', f'        {f1[0]:.3f}   ', f'{f1[1]:.3f}')\n",
    "    print(f'AUC:           {auc:.3f}')\n",
    "    print('Recall: ', f'    {support[0]}    ', f'{support[1]}\\n')"
   ]
  },
  {
   "cell_type": "code",
   "execution_count": 26,
   "metadata": {},
   "outputs": [
    {
     "name": "stdout",
     "output_type": "stream",
     "text": [
      "Scaled data: \n",
      "RandomForestClassifier Metrics\n",
      "Classes:      0        1\n",
      "--------------------\n",
      "Precision:   0.998    1.000\n",
      "Recall:      1.000    0.737\n",
      "f1:          0.999    0.848\n",
      "AUC:           0.868\n",
      "Recall:      2177     19\n",
      "\n",
      "Scaled data: \n",
      "LogisticRegression Metrics\n",
      "Classes:      0        1\n",
      "--------------------\n",
      "Precision:   0.996    1.000\n",
      "Recall:      1.000    0.526\n",
      "f1:          0.998    0.690\n",
      "AUC:           0.763\n",
      "Recall:      2177     19\n",
      "\n",
      "Scaled data: \n",
      "GradientBoostingClassifier Metrics\n",
      "Classes:      0        1\n",
      "--------------------\n",
      "Precision:   0.998    1.000\n",
      "Recall:      1.000    0.789\n",
      "f1:          0.999    0.882\n",
      "AUC:           0.895\n",
      "Recall:      2177     19\n",
      "\n",
      "Unscaled data: \n",
      "RandomForestClassifier Metrics\n",
      "Classes:      0        1\n",
      "--------------------\n",
      "Precision:   0.997    0.923\n",
      "Recall:      1.000    0.632\n",
      "f1:          0.998    0.750\n",
      "AUC:           0.816\n",
      "Recall:      2177     19\n",
      "\n",
      "Unscaled data: \n",
      "GradientBoostingClassifier Metrics\n",
      "Classes:      0        1\n",
      "--------------------\n",
      "Precision:   0.995    1.000\n",
      "Recall:      1.000    0.368\n",
      "f1:          0.997    0.538\n",
      "AUC:           0.684\n",
      "Recall:      2177     19\n",
      "\n",
      "Unscaled data: \n",
      "RandomForestClassifier Metrics\n",
      "Classes:      0        1\n",
      "--------------------\n",
      "Precision:   0.996    1.000\n",
      "Recall:      1.000    0.526\n",
      "f1:          0.998    0.690\n",
      "AUC:           0.763\n",
      "Recall:      2177     19\n",
      "\n"
     ]
    }
   ],
   "source": [
    "for scaled_mod in [scaled_rfc, scaled_log_reg, scaled_gb]:\n",
    "    print(\"Scaled data: \")\n",
    "    print_model_metrics(scaled_mod, scaled_X_test, scaled_y_test)\n",
    "for const_mod in [const_rfc, const_log_reg, const_gb]:\n",
    "    print(\"Unscaled data: \")\n",
    "    print_model_metrics(const_mod, const_X_test, const_y_test)"
   ]
  },
  {
   "cell_type": "markdown",
   "metadata": {},
   "source": [
    "I'll explore getting logistic regression on track later, but for the time being I'll save these models for later use (perhaps)."
   ]
  },
  {
   "cell_type": "code",
   "execution_count": 31,
   "metadata": {},
   "outputs": [
    {
     "data": {
      "text/plain": [
       "['../static/models/grad_boost.pkl']"
      ]
     },
     "execution_count": 31,
     "metadata": {},
     "output_type": "execute_result"
    },
    {
     "data": {
      "text/plain": [
       "['../static/models/rand_forest.pkl']"
      ]
     },
     "execution_count": 31,
     "metadata": {},
     "output_type": "execute_result"
    }
   ],
   "source": [
    "joblib.dump(scaled_rfc, '../static/models/grad_boost.pkl')\n",
    "joblib.dump(scaled_gb, '../static/models/rand_forest.pkl')"
   ]
  },
  {
   "cell_type": "code",
   "execution_count": 72,
   "metadata": {
    "collapsed": true
   },
   "outputs": [],
   "source": [
    "def roc(model, X_test, y_test):\n",
    "    \"\"\"\n",
    "    Compute TPRs and FPRs for ROC curve.\n",
    "    \n",
    "    \"\"\"\n",
    "    probs = model.predict_proba(X_test)[:, 1]\n",
    "    sorted_probs = np.sort(probs)\n",
    "    actual_pos = len(y_test[y_test == 1])\n",
    "    actual_neg = len(y_test) - actual_pos\n",
    "    fprs = np.empty(len(y_test))\n",
    "    tprs = np.empty(len(y_test))\n",
    "    for i, prob in enumerate(np.linspace(0, 1, len(sorted_probs))):\n",
    "        partition = y_test[probs > prob]\n",
    "        true_positives = len(partition[partition == 1])\n",
    "        false_positives = len(partition[partition == 0])\n",
    "        true_pos_rate = true_positives / actual_pos\n",
    "        false_pos_rate = false_positives / actual_neg\n",
    "        tprs[i] = true_pos_rate\n",
    "        fprs[i] = false_pos_rate\n",
    "    \n",
    "    return tprs, fprs"
   ]
  },
  {
   "cell_type": "code",
   "execution_count": 73,
   "metadata": {},
   "outputs": [],
   "source": [
    "def plot_roc(model, X_test, y_test, ax=None):\n",
    "    \"\"\"\n",
    "    Compute ROC and AUC and graph.\n",
    "    \"\"\"\n",
    "    if ax is None:\n",
    "        fig, ax = plt.subplots()\n",
    "    tprs, fprs = roc(model, X_test, y_test)\n",
    "    ax.plot(fprs, tprs)\n",
    "    ax.set_title('ROC Curve')\n",
    "    ax.set_ylabel('True Positive Rate')\n",
    "    ax.set_xlabel('False Positive Rate')"
   ]
  },
  {
   "cell_type": "code",
   "execution_count": 77,
   "metadata": {},
   "outputs": [
    {
     "data": {
      "text/plain": [
       "<matplotlib.legend.Legend at 0x7ff175828a20>"
      ]
     },
     "execution_count": 77,
     "metadata": {},
     "output_type": "execute_result"
    },
    {
     "data": {
      "text/plain": [
       "[<matplotlib.lines.Line2D at 0x7ff1753d5c18>]"
      ]
     },
     "execution_count": 77,
     "metadata": {},
     "output_type": "execute_result"
    },
    {
     "data": {
      "image/png": "[encoded data removed]",
      "text/plain": [
       "<matplotlib.figure.Figure at 0x7ff175828d68>"
      ]
     },
     "metadata": {},
     "output_type": "display_data"
    }
   ],
   "source": [
    "fig, ax = plt.subplots(figsize=(12, 8))\n",
    "legend = []\n",
    "for model in [const_rfc, const_log_reg, const_gb]:\n",
    "    plot_roc(model, const_X_test, const_y_test, ax)\n",
    "    auc_score = roc_auc_score(const_y_test, model.predict_proba(const_X_test)[:, 1])\n",
    "    legend_data = '{} AUC: {}'.format(model.__class__.__name__, auc_score)\n",
    "    legend.append(legend_data)\n",
    "ax.legend(legend)\n",
    "dashed_line = np.linspace(0, 1, 100)\n",
    "ax.plot(dashed_line, dashed_line, '--')"
   ]
  },
  {
   "cell_type": "code",
   "execution_count": 62,
   "metadata": {},
   "outputs": [
    {
     "data": {
      "text/plain": [
       "2196"
      ]
     },
     "execution_count": 62,
     "metadata": {},
     "output_type": "execute_result"
    }
   ],
   "source": [
    "len(scaled_y_test)"
   ]
  },
  {
   "cell_type": "code",
   "execution_count": null,
   "metadata": {
    "collapsed": true
   },
   "outputs": [],
   "source": []
  }
 ],
 "metadata": {
  "kernelspec": {
   "display_name": "Python 3",
   "language": "python",
   "name": "python3"
  },
  "language_info": {
   "codemirror_mode": {
    "name": "ipython",
    "version": 3
   },
   "file_extension": ".py",
   "mimetype": "text/x-python",
   "name": "python",
   "nbconvert_exporter": "python",
   "pygments_lexer": "ipython3",
   "version": "3.6.4"
  }
 },
 "nbformat": 4,
 "nbformat_minor": 2
}
