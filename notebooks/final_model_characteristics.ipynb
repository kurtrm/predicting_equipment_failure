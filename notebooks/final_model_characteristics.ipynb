{
 "cells": [
  {
   "cell_type": "code",
   "execution_count": 1,
   "metadata": {
    "collapsed": true
   },
   "outputs": [],
   "source": [
    "import json"
   ]
  },
  {
   "cell_type": "code",
   "execution_count": 2,
   "metadata": {
    "collapsed": true
   },
   "outputs": [],
   "source": [
    "import numpy as np\n",
    "import scipy.stats as scs\n",
    "import matplotlib.pyplot as plt\n",
    "import pandas as pd\n",
    "%matplotlib inline\n",
    "from IPython.core.interactiveshell import InteractiveShell\n",
    "InteractiveShell.ast_node_interactivity = 'all'"
   ]
  },
  {
   "cell_type": "code",
   "execution_count": 3,
   "metadata": {},
   "outputs": [],
   "source": [
    "from sklearn.pipeline import make_pipeline\n",
    "from sklearn.ensemble import RandomForestClassifier, GradientBoostingClassifier, ExtraTreesClassifier\n",
    "from sklearn.linear_model import LogisticRegression, SGDClassifier\n",
    "from sklearn.model_selection import train_test_split, GridSearchCV\n",
    "from sklearn.preprocessing import LabelBinarizer, StandardScaler\n",
    "from sklearn.base import TransformerMixin, BaseEstimator\n",
    "from sklearn.metrics import (precision_recall_fscore_support,\n",
    "                             roc_auc_score,\n",
    "                             precision_recall_curve,\n",
    "                             average_precision_score,\n",
    "                             roc_curve)\n",
    "from sklearn.externals import joblib\n",
    "from sklearn.base import clone\n",
    "from sklearn.neighbors import KNeighborsClassifier\n",
    "np.random.seed(369)\n",
    "from scipy.interpolate import BSpline, splrep, make_interp_spline"
   ]
  },
  {
   "cell_type": "code",
   "execution_count": 4,
   "metadata": {
    "collapsed": true
   },
   "outputs": [],
   "source": [
    "from frag_tools import (DropColumns,\n",
    "                        AddressLatLong,\n",
    "                        CurrentMakeDummies,\n",
    "                        Binarize,\n",
    "                        ChangeTypes,\n",
    "                        custom_zip_cleaning)\n",
    "from various_tools import (roc,\n",
    "                           plot_roc,\n",
    "                           cross_val_metrics,\n",
    "                           make_metric_df)"
   ]
  },
  {
   "cell_type": "code",
   "execution_count": 5,
   "metadata": {
    "collapsed": true
   },
   "outputs": [],
   "source": [
    "df = pd.read_csv('/mnt/c/Users/kurtrm/Downloads/Predictive_Maintenance_Transformer_Overload_PA.csv', sep=';')"
   ]
  },
  {
   "cell_type": "code",
   "execution_count": 6,
   "metadata": {},
   "outputs": [],
   "source": [
    "pipe = make_pipeline(CurrentMakeDummies(['Manufacturer',\n",
    "                                         'Repairs',\n",
    "                                         'Overloads',\n",
    "                                         'AssetType']),\n",
    "                     ChangeTypes(['Age', 'AssetZip'],\n",
    "                                 [lambda x: float(x.replace(',', '.')),\n",
    "                                  custom_zip_cleaning]),\n",
    "                     Binarize(['VegMgmt',\n",
    "                               'PMLate',\n",
    "                               'WaterExposure',\n",
    "                               'MultipleConnects',\n",
    "                               'Storm']),\n",
    "                     AddressLatLong(),\n",
    "                     DropColumns(['AssetCity',\n",
    "                                  'AssetId',\n",
    "                                  'AvgRepairCost',\n",
    "                                  'AssetState',\n",
    "                                  'MilesFromOcean',\n",
    "                                  'AssetLocation',\n",
    "                                  'locationID',\n",
    "                                  'Latitude1',\n",
    "                                  'Longitude1',\n",
    "                                  'Latitude',\n",
    "                                  'Longitude',\n",
    "                                  'Overloads_Below 100%',\n",
    "                                  'Overloads_100-120%',\n",
    "                                  'Overloads_120-150%',\n",
    "                                  'Overloads_Above 150%',\n",
    "                                  'AssetZip']))\n",
    "transformed = pipe.fit_transform(df)"
   ]
  },
  {
   "cell_type": "code",
   "execution_count": 7,
   "metadata": {},
   "outputs": [
    {
     "data": {
      "text/plain": [
       "Index(['VegMgmt', 'PMLate', 'WaterExposure', 'MultipleConnects', 'Storm',\n",
       "       'Age', 'Status', 'Manufacturer_GE', 'Manufacturer_Other',\n",
       "       'Manufacturer_Schneider Electric', 'Manufacturer_Siemens',\n",
       "       'Repairs_Original', 'Repairs_Rebuild+1', 'Repairs_Rebuild+2',\n",
       "       'Repairs_Rebuild+3', 'AssetType_1-Phase Pole Transformer',\n",
       "       'AssetType_3-Phase Transformer', 'AssetType_DF-series Transformer',\n",
       "       'AssetType_Padmount Transformer', 'AssetType_Voltage Transformer'],\n",
       "      dtype='object')"
      ]
     },
     "execution_count": 7,
     "metadata": {},
     "output_type": "execute_result"
    }
   ],
   "source": [
    "transformed.columns"
   ]
  },
  {
   "cell_type": "code",
   "execution_count": 8,
   "metadata": {
    "collapsed": true
   },
   "outputs": [],
   "source": [
    "X_train, X_test, y_train, y_test = train_test_split(transformed.drop('Status', axis=1).values, transformed['Status'].values, test_size=.2)"
   ]
  },
  {
   "cell_type": "code",
   "execution_count": 9,
   "metadata": {
    "collapsed": true
   },
   "outputs": [],
   "source": [
    "_, gbc_final = joblib.load('refined_models.pkl')"
   ]
  },
  {
   "cell_type": "code",
   "execution_count": 10,
   "metadata": {},
   "outputs": [
    {
     "data": {
      "text/plain": [
       "GradientBoostingClassifier(criterion='friedman_mse', init=None,\n",
       "              learning_rate=0.005, loss='deviance', max_depth=5,\n",
       "              max_features='sqrt', max_leaf_nodes=None,\n",
       "              min_impurity_decrease=0.0, min_impurity_split=None,\n",
       "              min_samples_leaf=1, min_samples_split=2,\n",
       "              min_weight_fraction_leaf=0.0, n_estimators=1000,\n",
       "              presort='auto', random_state=None, subsample=0.5, verbose=0,\n",
       "              warm_start=False)"
      ]
     },
     "execution_count": 10,
     "metadata": {},
     "output_type": "execute_result"
    }
   ],
   "source": [
    "gbc_final.fit(X_train, y_train)"
   ]
  },
  {
   "cell_type": "code",
   "execution_count": 11,
   "metadata": {
    "collapsed": true
   },
   "outputs": [],
   "source": [
    "probs = gbc_final.predict_proba(X_test)\n",
    "fpr, tpr, thresholds = roc_curve(y_test, probs[:, 1])"
   ]
  },
  {
   "cell_type": "code",
   "execution_count": 12,
   "metadata": {},
   "outputs": [
    {
     "data": {
      "text/plain": [
       "[<matplotlib.lines.Line2D at 0x7f2870343400>]"
      ]
     },
     "execution_count": 12,
     "metadata": {},
     "output_type": "execute_result"
    },
    {
     "data": {
      "image/png": "[encoded data removed]",
      "text/plain": [
       "<matplotlib.figure.Figure at 0x7f2870343390>"
      ]
     },
     "metadata": {},
     "output_type": "display_data"
    }
   ],
   "source": [
    "fig, ax = plt.subplots(figsize=(12, 8))\n",
    "ax.plot(fpr, tpr)"
   ]
  },
  {
   "cell_type": "code",
   "execution_count": 13,
   "metadata": {},
   "outputs": [
    {
     "data": {
      "text/plain": [
       "0.77980143904801436"
      ]
     },
     "execution_count": 13,
     "metadata": {},
     "output_type": "execute_result"
    }
   ],
   "source": [
    "roc_auc_score(y_test, probs[:, 1])"
   ]
  },
  {
   "cell_type": "code",
   "execution_count": 14,
   "metadata": {
    "collapsed": true
   },
   "outputs": [],
   "source": [
    "line = np.linspace(0, 1, len(thresholds))"
   ]
  },
  {
   "cell_type": "code",
   "execution_count": 15,
   "metadata": {
    "collapsed": true
   },
   "outputs": [],
   "source": [
    "listy = []\n",
    "for fp, tp, thresh, lin in zip(fpr, tpr, thresholds, line):\n",
    "    listy.append({'fpr': fp, 'tpr': tp, 'thresh': thresh, 'lin': lin})"
   ]
  },
  {
   "cell_type": "code",
   "execution_count": 16,
   "metadata": {
    "collapsed": true
   },
   "outputs": [],
   "source": [
    "with open('../src/static/data/roc_data.json', 'w') as f:\n",
    "    json.dump(listy, f)"
   ]
  },
  {
   "cell_type": "code",
   "execution_count": 17,
   "metadata": {},
   "outputs": [
    {
     "data": {
      "text/plain": [
       "['../src/static/models/final_grad_boost.pkl']"
      ]
     },
     "execution_count": 17,
     "metadata": {},
     "output_type": "execute_result"
    }
   ],
   "source": [
    "joblib.dump(gbc_final, '../src/static/models/final_grad_boost.pkl')"
   ]
  },
  {
   "cell_type": "code",
   "execution_count": 18,
   "metadata": {
    "collapsed": true
   },
   "outputs": [],
   "source": [
    "def threshold_prediction(model, X, threshold=0.5):\n",
    "    \"\"\"\n",
    "    Return predictions based on threshold.\n",
    "    \"\"\"\n",
    "    return np.where(model.predict_proba(X)[:, 1] > threshold,\n",
    "                    model.classes_[1],\n",
    "                    model.classes_[0])\n",
    "\n",
    "def confusion_matrix(model, X_test, y_test, threshold=0.5):\n",
    "    cf = pd.crosstab(y_test, threshold_prediction(model, X_test, threshold))\n",
    "    cf.index.name = 'actual'\n",
    "    cf.columns.name = 'predicted'\n",
    "    return cf.values"
   ]
  },
  {
   "cell_type": "code",
   "execution_count": 19,
   "metadata": {},
   "outputs": [],
   "source": [
    "cf = confusion_matrix(gbc_final, X_test, y_test, .5)\n",
    "costs = np.array([[-5, -20], [5, 10]])"
   ]
  },
  {
   "cell_type": "code",
   "execution_count": 20,
   "metadata": {
    "collapsed": true
   },
   "outputs": [],
   "source": [
    "def calculate_payout(cb_matrix, model, X, y, threshold):\n",
    "    return (confusion_matrix(model, X, y, threshold) * cb_matrix).sum()"
   ]
  },
  {
   "cell_type": "code",
   "execution_count": 21,
   "metadata": {},
   "outputs": [
    {
     "data": {
      "text/plain": [
       "[<matplotlib.lines.Line2D at 0x7f2870c182e8>]"
      ]
     },
     "execution_count": 21,
     "metadata": {},
     "output_type": "execute_result"
    },
    {
     "data": {
      "text/plain": [
       "Text(0.5,0,'thresholds')"
      ]
     },
     "execution_count": 21,
     "metadata": {},
     "output_type": "execute_result"
    },
    {
     "data": {
      "text/plain": [
       "Text(0,0.5,'losses')"
      ]
     },
     "execution_count": 21,
     "metadata": {},
     "output_type": "execute_result"
    },
    {
     "data": {
      "text/plain": [
       "Text(0.5,1,'Profit Curve')"
      ]
     },
     "execution_count": 21,
     "metadata": {},
     "output_type": "execute_result"
    },
    {
     "data": {
      "image/png": "[encoded data removed]",
      "text/plain": [
       "<matplotlib.figure.Figure at 0x7f2870c18390>"
      ]
     },
     "metadata": {},
     "output_type": "display_data"
    }
   ],
   "source": [
    "gen_thresholds = np.linspace(0, 1, 50)\n",
    "\n",
    "fig, ax = plt.subplots(figsize=(10, 8))\n",
    "\n",
    "profits = []\n",
    "for thr in gen_thresholds:\n",
    "    profits.append(calculate_payout(costs, gbc_final, X_test, y_test, thr))\n",
    "ax.plot(gen_thresholds, np.array(profits))\n",
    "ax.set_xlabel('thresholds')\n",
    "ax.set_ylabel('losses')\n",
    "ax.set_title('Profit Curve')\n",
    "fig.tight_layout()"
   ]
  },
  {
   "cell_type": "code",
   "execution_count": 22,
   "metadata": {},
   "outputs": [
    {
     "data": {
      "text/plain": [
       "(array([ 0.        ,  0.        ,  0.        ,  0.        ,  0.04081633,\n",
       "         0.06122449,  0.08163265,  0.10204082,  0.12244898,  0.14285714,\n",
       "         0.16326531,  0.18367347,  0.20408163,  0.2244898 ,  0.24489796,\n",
       "         0.26530612,  0.28571429,  0.30612245,  0.32653061,  0.34693878,\n",
       "         0.36734694,  0.3877551 ,  0.40816327,  0.42857143,  0.44897959,\n",
       "         0.46938776,  0.48979592,  0.51020408,  0.53061224,  0.55102041,\n",
       "         0.57142857,  0.59183673,  0.6122449 ,  0.63265306,  0.65306122,\n",
       "         0.67346939,  0.69387755,  0.71428571,  0.73469388,  0.75510204,\n",
       "         0.7755102 ,  0.79591837,  0.81632653,  0.83673469,  0.85714286,\n",
       "         0.87755102,  0.89795918,  0.91836735,  0.93877551,  0.95918367,\n",
       "         1.        ,  1.        ,  1.        ,  1.        ]),\n",
       " array([ -680.        ,  -457.69992236, -1024.60015527,  -779.76643376,\n",
       "         -747.54254007,  -670.06340596,  -652.20383608,  -621.12124971,\n",
       "         -583.31116507,  -585.63409003,  -554.15247483,  -497.75601065,\n",
       "         -514.82348257,  -412.95005906,  -443.3762812 ,  -393.54481614,\n",
       "         -322.44445426,  -236.67736684,  -230.84607837,  -249.93831967,\n",
       "          -89.40064293,  -172.4591086 ,    59.23707734,    25.51079923,\n",
       "          168.71972575,   139.61029778,   262.83908312,   279.03336973,\n",
       "          421.02743795,   346.85687846,   381.54504819,   466.96292877,\n",
       "          480.60323672,   520.62412435,   496.90026589,   551.77481208,\n",
       "          506.0004858 ,   454.22324473,   527.10653529,   467.35061412,\n",
       "          393.49100822,   358.68535301,   331.76757975,   354.24432799,\n",
       "          171.25510829,   610.73523885, -1024.19606369,  -450.53595754,\n",
       "         -794.73202123,  -680.        ,     0.        ,     0.        ,\n",
       "            0.        ,     0.        ]),\n",
       " 3)"
      ]
     },
     "execution_count": 22,
     "metadata": {},
     "output_type": "execute_result"
    }
   ],
   "source": [
    "splrep(gen_thresholds, np.array(profits))"
   ]
  },
  {
   "cell_type": "code",
   "execution_count": 23,
   "metadata": {},
   "outputs": [],
   "source": [
    "splines = BSpline(*splrep(gen_thresholds, np.array(profits)))"
   ]
  },
  {
   "cell_type": "code",
   "execution_count": 24,
   "metadata": {},
   "outputs": [
    {
     "data": {
      "text/plain": [
       "[<matplotlib.lines.Line2D at 0x7f2870ba5898>]"
      ]
     },
     "execution_count": 24,
     "metadata": {},
     "output_type": "execute_result"
    },
    {
     "data": {
      "image/png": "[encoded data removed]",
      "text/plain": [
       "<matplotlib.figure.Figure at 0x7f28710520b8>"
      ]
     },
     "metadata": {},
     "output_type": "display_data"
    }
   ],
   "source": [
    "plt.plot(np.linspace(0, 1, 10), splines(np.linspace(0, 1, 10), extrapolate=False))"
   ]
  },
  {
   "cell_type": "code",
   "execution_count": 25,
   "metadata": {},
   "outputs": [],
   "source": [
    "# roc_splines = BSpline(*splrep(fpr_new, tpr_new))\n",
    "# plt.plot(np.linspace(0, 1, 10), roc_splines(np.linspace(0, 1,10), extrapolate=False))"
   ]
  },
  {
   "cell_type": "code",
   "execution_count": 26,
   "metadata": {
    "collapsed": true
   },
   "outputs": [],
   "source": [
    "\n",
    "def sum_payout(cost_matrix, confusion_matrix):\n",
    "    \"\"\"\n",
    "    Calculate the profit from cost and confusion matrices.\n",
    "    \"\"\"\n",
    "    return (confusion_matrix * cost_matrix).sum()"
   ]
  },
  {
   "cell_type": "code",
   "execution_count": 27,
   "metadata": {
    "collapsed": true
   },
   "outputs": [],
   "source": [
    "def generate_profit_curve(cost_matrix,\n",
    "                          model,\n",
    "                          X_test, y_test, n_thresholds=100):\n",
    "    \"\"\"\n",
    "    Generate the profit curve with a given cost matrix.\n",
    "    \"\"\"\n",
    "    thresholds = np.linspace(0, 1, n_thresholds)\n",
    "    totals = []\n",
    "    for threshold in thresholds:\n",
    "        iter_conf_matrix = confusion_matrix(model, X_test, y_test, threshold)\n",
    "        totals.append(sum_payout(cost_matrix, iter_conf_matrix))\n",
    "\n",
    "    return thresholds, np.array(totals)"
   ]
  },
  {
   "cell_type": "code",
   "execution_count": 28,
   "metadata": {
    "collapsed": true
   },
   "outputs": [],
   "source": [
    "def diff_generate_profit_curve(cost_matrix,\n",
    "                               model,\n",
    "                               X_test, y_test, n_thresholds=100):\n",
    "    \"\"\"\n",
    "    Generate the profit curve with a given cost matrix.\n",
    "    \"\"\"\n",
    "    thresholds = np.linspace(0, 1, n_thresholds)\n",
    "    totals = np.empty(n_thresholds)\n",
    "    for i, threshold in enumerate(thresholds):\n",
    "        iter_conf_matrix = confusion_matrix(model, X_test, y_test, threshold)\n",
    "        totals[i] = sum_payout(cost_matrix, iter_conf_matrix)\n",
    "\n",
    "    return thresholds, totals"
   ]
  }
 ],
 "metadata": {
  "kernelspec": {
   "display_name": "Python 3",
   "language": "python",
   "name": "python3"
  },
  "language_info": {
   "codemirror_mode": {
    "name": "ipython",
    "version": 3
   },
   "file_extension": ".py",
   "mimetype": "text/x-python",
   "name": "python",
   "nbconvert_exporter": "python",
   "pygments_lexer": "ipython3",
   "version": "3.6.4"
  }
 },
 "nbformat": 4,
 "nbformat_minor": 2
}
