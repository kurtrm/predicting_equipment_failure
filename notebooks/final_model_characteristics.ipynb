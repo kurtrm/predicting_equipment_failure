{
 "cells": [
  {
   "cell_type": "code",
   "execution_count": 1,
   "metadata": {
    "collapsed": true
   },
   "outputs": [],
   "source": [
    "import json"
   ]
  },
  {
   "cell_type": "code",
   "execution_count": 2,
   "metadata": {
    "collapsed": true
   },
   "outputs": [],
   "source": [
    "import numpy as np\n",
    "import scipy.stats as scs\n",
    "import matplotlib.pyplot as plt\n",
    "import pandas as pd\n",
    "%matplotlib inline\n",
    "from IPython.core.interactiveshell import InteractiveShell\n",
    "InteractiveShell.ast_node_interactivity = 'all'"
   ]
  },
  {
   "cell_type": "code",
   "execution_count": 136,
   "metadata": {},
   "outputs": [],
   "source": [
    "from sklearn.pipeline import make_pipeline\n",
    "from sklearn.ensemble import RandomForestClassifier, GradientBoostingClassifier, ExtraTreesClassifier\n",
    "from sklearn.linear_model import LogisticRegression, SGDClassifier\n",
    "from sklearn.model_selection import train_test_split, GridSearchCV\n",
    "from sklearn.preprocessing import LabelBinarizer, StandardScaler\n",
    "from sklearn.base import TransformerMixin, BaseEstimator\n",
    "from sklearn.metrics import (precision_recall_fscore_support,\n",
    "                             roc_auc_score,\n",
    "                             precision_recall_curve,\n",
    "                             average_precision_score,\n",
    "                             roc_curve)\n",
    "from sklearn.externals import joblib\n",
    "from sklearn.base import clone\n",
    "from sklearn.neighbors import KNeighborsClassifier\n",
    "np.random.seed(369)\n",
    "from scipy.interpolate import BSpline, splrep, make_interp_spline"
   ]
  },
  {
   "cell_type": "code",
   "execution_count": 4,
   "metadata": {
    "collapsed": true
   },
   "outputs": [],
   "source": [
    "from frag_tools import (DropColumns,\n",
    "                        AddressLatLong,\n",
    "                        CurrentMakeDummies,\n",
    "                        Binarize,\n",
    "                        ChangeTypes,\n",
    "                        custom_zip_cleaning)\n",
    "from various_tools import (roc,\n",
    "                           plot_roc,\n",
    "                           cross_val_metrics,\n",
    "                           make_metric_df)"
   ]
  },
  {
   "cell_type": "code",
   "execution_count": 5,
   "metadata": {
    "collapsed": true
   },
   "outputs": [],
   "source": [
    "df = pd.read_csv('/mnt/c/Users/kurtrm/Downloads/Predictive_Maintenance_Transformer_Overload_PA.csv', sep=';')"
   ]
  },
  {
   "cell_type": "code",
   "execution_count": 6,
   "metadata": {
    "collapsed": true
   },
   "outputs": [],
   "source": [
    "pipe = make_pipeline(CurrentMakeDummies(['Manufacturer',\n",
    "                                         'Repairs',\n",
    "                                         'Overloads',\n",
    "                                         'AssetType']),\n",
    "                     ChangeTypes(['Age', 'AssetZip'],\n",
    "                                 [lambda x: float(x.replace(',', '.')),\n",
    "                                  custom_zip_cleaning]),\n",
    "                     Binarize(['VegMgmt',\n",
    "                               'PMLate',\n",
    "                               'WaterExposure',\n",
    "                               'MultipleConnects',\n",
    "                               'Storm']),\n",
    "                     AddressLatLong(),\n",
    "                     DropColumns(['AssetCity',\n",
    "                                  'AssetId',\n",
    "                                  'AvgRepairCost',\n",
    "                                  'AssetState',\n",
    "                                  'MilesFromOcean',\n",
    "                                  'AssetLocation',\n",
    "                                  'locationID',\n",
    "                                  'Latitude1',\n",
    "                                  'Longitude1',\n",
    "                                  'Latitude',\n",
    "                                  'Longitude',\n",
    "                                  'Overloads_Below 100%',\n",
    "                                  'Overloads_100-120%',\n",
    "                                  'Overloads_120-150%',\n",
    "                                  'Overloads_Above 150%',\n",
    "                                  'AssetZip']))\n",
    "transformed = pipe.fit_transform(df)"
   ]
  },
  {
   "cell_type": "code",
   "execution_count": 7,
   "metadata": {
    "collapsed": true
   },
   "outputs": [],
   "source": [
    "X_train, X_test, y_train, y_test = train_test_split(transformed.drop('Status', axis=1).values, transformed['Status'].values, test_size=.2)"
   ]
  },
  {
   "cell_type": "code",
   "execution_count": 8,
   "metadata": {
    "collapsed": true
   },
   "outputs": [],
   "source": [
    "_, gbc_final = joblib.load('refined_models.pkl')"
   ]
  },
  {
   "cell_type": "code",
   "execution_count": 9,
   "metadata": {},
   "outputs": [
    {
     "data": {
      "text/plain": [
       "GradientBoostingClassifier(criterion='friedman_mse', init=None,\n",
       "              learning_rate=0.005, loss='deviance', max_depth=5,\n",
       "              max_features='sqrt', max_leaf_nodes=None,\n",
       "              min_impurity_decrease=0.0, min_impurity_split=None,\n",
       "              min_samples_leaf=1, min_samples_split=2,\n",
       "              min_weight_fraction_leaf=0.0, n_estimators=1000,\n",
       "              presort='auto', random_state=None, subsample=0.5, verbose=0,\n",
       "              warm_start=False)"
      ]
     },
     "execution_count": 9,
     "metadata": {},
     "output_type": "execute_result"
    }
   ],
   "source": [
    "gbc_final.fit(X_train, y_train)"
   ]
  },
  {
   "cell_type": "code",
   "execution_count": 127,
   "metadata": {
    "collapsed": true
   },
   "outputs": [],
   "source": [
    "probs = gbc_final.predict_proba(X_test)\n",
    "fpr, tpr, thresholds = roc_curve(y_test, probs[:, 1])"
   ]
  },
  {
   "cell_type": "code",
   "execution_count": 11,
   "metadata": {},
   "outputs": [
    {
     "data": {
      "text/plain": [
       "[<matplotlib.lines.Line2D at 0x7fb18a35a278>]"
      ]
     },
     "execution_count": 11,
     "metadata": {},
     "output_type": "execute_result"
    },
    {
     "data": {
      "image/png": "[encoded data removed]",
      "text/plain": [
       "<matplotlib.figure.Figure at 0x7fb18a35a550>"
      ]
     },
     "metadata": {},
     "output_type": "display_data"
    }
   ],
   "source": [
    "fig, ax = plt.subplots(figsize=(12, 8))\n",
    "ax.plot(fpr, tpr)"
   ]
  },
  {
   "cell_type": "code",
   "execution_count": 12,
   "metadata": {},
   "outputs": [
    {
     "data": {
      "text/plain": [
       "0.77980143904801436"
      ]
     },
     "execution_count": 12,
     "metadata": {},
     "output_type": "execute_result"
    }
   ],
   "source": [
    "roc_auc_score(y_test, probs[:, 1])"
   ]
  },
  {
   "cell_type": "code",
   "execution_count": 13,
   "metadata": {
    "collapsed": true
   },
   "outputs": [],
   "source": [
    "line = np.linspace(0, 1, len(thresholds))"
   ]
  },
  {
   "cell_type": "code",
   "execution_count": 14,
   "metadata": {
    "collapsed": true
   },
   "outputs": [],
   "source": [
    "listy = []\n",
    "for fp, tp, thresh, lin in zip(fpr, tpr, thresholds, line):\n",
    "    listy.append({'fpr': fp, 'tpr': tp, 'thresh': thresh, 'lin': lin})"
   ]
  },
  {
   "cell_type": "code",
   "execution_count": 15,
   "metadata": {
    "collapsed": true
   },
   "outputs": [],
   "source": [
    "with open('../src/static/data/roc_data.json', 'w') as f:\n",
    "    json.dump(listy, f)"
   ]
  },
  {
   "cell_type": "code",
   "execution_count": 16,
   "metadata": {},
   "outputs": [
    {
     "data": {
      "text/plain": [
       "['../src/static/models/final_grad_boost.pkl']"
      ]
     },
     "execution_count": 16,
     "metadata": {},
     "output_type": "execute_result"
    }
   ],
   "source": [
    "joblib.dump(gbc_final, '../src/static/models/final_grad_boost.pkl')"
   ]
  },
  {
   "cell_type": "code",
   "execution_count": 38,
   "metadata": {
    "collapsed": true
   },
   "outputs": [],
   "source": [
    "def threshold_prediction(model, X, threshold=0.5):\n",
    "    \"\"\"\n",
    "    Return predictions based on threshold.\n",
    "    \"\"\"\n",
    "    return np.where(model.predict_proba(X)[:, 1] > threshold,\n",
    "                    model.classes_[1],\n",
    "                    model.classes_[0])\n",
    "\n",
    "def confusion_matrix(model, X_test, y_test, threshold=0.5):\n",
    "    cf = pd.crosstab(y_test, predict(model, X_test, threshold))\n",
    "    cf.index.name = 'actual'\n",
    "    cf.columns.name = 'predicted'\n",
    "    return cf.values"
   ]
  },
  {
   "cell_type": "code",
   "execution_count": 42,
   "metadata": {},
   "outputs": [],
   "source": [
    "cf = confusion_matrix(gbc_final, X_test, y_test, .5)\n",
    "costs = np.array([[-5, -20], [5, 10]])"
   ]
  },
  {
   "cell_type": "code",
   "execution_count": 40,
   "metadata": {
    "collapsed": true
   },
   "outputs": [],
   "source": [
    "def calculate_payout(cb_matrix, model, X, y, threshold):\n",
    "    return (confusion_matrix(model, X, y, threshold) * cb_matrix).sum()"
   ]
  },
  {
   "cell_type": "code",
   "execution_count": 47,
   "metadata": {},
   "outputs": [
    {
     "data": {
      "text/plain": [
       "[<matplotlib.lines.Line2D at 0x7fb180542cc0>]"
      ]
     },
     "execution_count": 47,
     "metadata": {},
     "output_type": "execute_result"
    },
    {
     "data": {
      "text/plain": [
       "Text(0.5,0,'thresholds')"
      ]
     },
     "execution_count": 47,
     "metadata": {},
     "output_type": "execute_result"
    },
    {
     "data": {
      "text/plain": [
       "Text(0,0.5,'losses')"
      ]
     },
     "execution_count": 47,
     "metadata": {},
     "output_type": "execute_result"
    },
    {
     "data": {
      "text/plain": [
       "Text(0.5,1,'Profit Curve')"
      ]
     },
     "execution_count": 47,
     "metadata": {},
     "output_type": "execute_result"
    },
    {
     "data": {
      "image/png": "[encoded data removed]",
      "text/plain": [
       "<matplotlib.figure.Figure at 0x7fb1804f05c0>"
      ]
     },
     "metadata": {},
     "output_type": "display_data"
    }
   ],
   "source": [
    "gen_thresholds = np.linspace(0, .92, 50)\n",
    "\n",
    "fig, ax = plt.subplots(figsize=(10, 8))\n",
    "\n",
    "profits = []\n",
    "for thr in gen_thresholds:\n",
    "    profits.append(calculate_payout(costs, gbc_final, X_test, y_test, thr))\n",
    "ax.plot(gen_thresholds, np.array(profits))\n",
    "ax.set_xlabel('thresholds')\n",
    "ax.set_ylabel('losses')\n",
    "ax.set_title('Profit Curve')\n",
    "fig.tight_layout()"
   ]
  },
  {
   "cell_type": "code",
   "execution_count": 64,
   "metadata": {},
   "outputs": [
    {
     "data": {
      "text/plain": [
       "(array([ 0.        ,  0.        ,  0.        ,  0.        ,  0.03755102,\n",
       "         0.05632653,  0.07510204,  0.09387755,  0.11265306,  0.13142857,\n",
       "         0.15020408,  0.16897959,  0.1877551 ,  0.20653061,  0.22530612,\n",
       "         0.24408163,  0.26285714,  0.28163265,  0.30040816,  0.31918367,\n",
       "         0.33795918,  0.35673469,  0.3755102 ,  0.39428571,  0.41306122,\n",
       "         0.43183673,  0.45061224,  0.46938776,  0.48816327,  0.50693878,\n",
       "         0.52571429,  0.5444898 ,  0.56326531,  0.58204082,  0.60081633,\n",
       "         0.61959184,  0.63836735,  0.65714286,  0.67591837,  0.69469388,\n",
       "         0.71346939,  0.7322449 ,  0.75102041,  0.76979592,  0.78857143,\n",
       "         0.80734694,  0.82612245,  0.84489796,  0.86367347,  0.88244898,\n",
       "         0.92      ,  0.92      ,  0.92      ,  0.92      ]),\n",
       " array([ -680.        ,  -414.53754708, -1095.92490584,  -765.2793079 ,\n",
       "         -755.61926203,  -712.24364397,  -655.40616207,  -656.13170774,\n",
       "         -620.06700696,  -583.60026441,  -585.53193538,  -554.27199406,\n",
       "         -497.38008838,  -516.20765242,  -407.78930195,  -462.63513978,\n",
       "         -381.67013892,  -350.68430455,  -315.59264289,  -216.94512391,\n",
       "         -286.62686148,  -166.54743019,  -127.18341778,  -104.71889869,\n",
       "           66.05901256,    20.48284846,   182.0095936 ,    91.47877712,\n",
       "          292.07529791,   270.22003125,   307.04457711,   421.60166032,\n",
       "          286.54878162,   472.20321319,   434.63836561,   489.24332437,\n",
       "          518.38833691,   497.20332799,   552.79835114,   501.60326747,\n",
       "          470.788579  ,   495.24241653,   488.24175487,   431.79056397,\n",
       "          424.59598924,   329.82547907,   326.10209447,   312.32082591,\n",
       "          250.08958705,   265.        ,     0.        ,     0.        ,\n",
       "            0.        ,     0.        ]),\n",
       " 3)"
      ]
     },
     "execution_count": 64,
     "metadata": {},
     "output_type": "execute_result"
    }
   ],
   "source": [
    "splrep(gen_thresholds, np.array(profits))"
   ]
  },
  {
   "cell_type": "code",
   "execution_count": 118,
   "metadata": {},
   "outputs": [],
   "source": [
    "splines = BSpline(*splrep(gen_thresholds, np.array(profits)))"
   ]
  },
  {
   "cell_type": "code",
   "execution_count": 129,
   "metadata": {},
   "outputs": [
    {
     "data": {
      "text/plain": [
       "[<matplotlib.lines.Line2D at 0x7fb17ee8cf28>]"
      ]
     },
     "execution_count": 129,
     "metadata": {},
     "output_type": "execute_result"
    },
    {
     "data": {
      "image/png": "[encoded data removed]",
      "text/plain": [
       "<matplotlib.figure.Figure at 0x7fb17ef29518>"
      ]
     },
     "metadata": {},
     "output_type": "display_data"
    }
   ],
   "source": [
    "plt.plot(np.linspace(0, 1, 10), splines(np.linspace(0, 1, 10), extrapolate=False))"
   ]
  },
  {
   "cell_type": "code",
   "execution_count": 151,
   "metadata": {},
   "outputs": [
    {
     "data": {
      "text/plain": [
       "[<matplotlib.lines.Line2D at 0x7fb17e5ad0f0>]"
      ]
     },
     "execution_count": 151,
     "metadata": {},
     "output_type": "execute_result"
    },
    {
     "data": {
      "image/png": "[encoded data removed]",
      "text/plain": [
       "<matplotlib.figure.Figure at 0x7fb17ea13358>"
      ]
     },
     "metadata": {},
     "output_type": "display_data"
    }
   ],
   "source": [
    "roc_splines = BSpline(*splrep(fpr_new, tpr_new))\n",
    "plt.plot(np.linspace(0, 1, 10), roc_splines(np.linspace(0, 1,10), extrapolate=False))"
   ]
  },
  {
   "cell_type": "code",
   "execution_count": 133,
   "metadata": {},
   "outputs": [
    {
     "data": {
      "text/plain": [
       "(array([ 0.        ,  0.        ,  0.        ,  0.        ,  0.        ,\n",
       "         0.        ,  0.00684932,  0.00684932,  0.01369863,  0.01369863,\n",
       "         0.02054795,  0.02054795,  0.02739726,  0.02739726,  0.03424658,\n",
       "         0.03424658,  0.04794521,  0.04794521,  0.05479452,  0.05479452,\n",
       "         0.06164384,  0.06164384,  0.06164384,  0.06164384,  0.06849315,\n",
       "         0.06849315,  0.06849315,  0.08219178,  0.08219178,  0.0890411 ,\n",
       "         0.0890411 ,  0.09589041,  0.09589041,  0.09589041,  0.10273973,\n",
       "         0.10273973,  0.11643836,  0.11643836,  0.13013699,  0.13013699,\n",
       "         0.14383562,  0.14383562,  0.15753425,  0.15753425,  0.17123288,\n",
       "         0.17123288,  0.17808219,  0.17808219,  0.19178082,  0.19178082,\n",
       "         0.19863014,  0.19863014,  0.20547945,  0.20547945,  0.2260274 ,\n",
       "         0.23287671,  0.23287671,  0.23972603,  0.23972603,  0.23972603,\n",
       "         0.23972603,  0.24657534,  0.24657534,  0.25342466,  0.25342466,\n",
       "         0.28082192,  0.28082192,  0.28767123,  0.28767123,  0.30136986,\n",
       "         0.30136986,  0.31506849,  0.31506849,  0.33561644,  0.33561644,\n",
       "         0.34246575,  0.34246575,  0.3630137 ,  0.3630137 ,  0.38356164,\n",
       "         0.38356164,  0.40410959,  0.40410959,  0.44520548,  0.44520548,\n",
       "         0.45890411,  0.45890411,  0.46575342,  0.46575342,  0.47945205,\n",
       "         0.47945205,  0.50684932,  0.50684932,  0.52054795,  0.52054795,\n",
       "         0.53424658,  0.53424658,  0.55479452,  0.55479452,  0.56849315,\n",
       "         0.56849315,  0.57534247,  0.57534247,  0.5890411 ,  0.5890411 ,\n",
       "         0.5890411 ,  0.60273973,  0.60273973,  0.62328767,  0.62328767,\n",
       "         0.63013699,  0.63013699,  0.64383562,  0.64383562,  0.65068493,\n",
       "         0.65068493,  0.65753425,  0.65753425,  0.66438356,  0.66438356,\n",
       "         0.68493151,  0.68493151,  0.71232877,  0.71232877,  0.73972603,\n",
       "         0.73972603,  0.75342466,  0.75342466,  0.76027397,  0.76027397,\n",
       "         0.79452055,  0.79452055,  0.82876712,  0.82876712,  0.9109589 ,\n",
       "         1.        ,  1.        ,  1.        ,  1.        ]),\n",
       " array([ nan,  nan,  nan,  nan,  nan,  nan,  nan,  nan,  nan,  nan,  nan,\n",
       "         nan,  nan,  nan,  nan,  nan,  nan,  nan,  nan,  nan,  nan,  nan,\n",
       "         nan,  nan,  nan,  nan,  nan,  nan,  nan,  nan,  nan,  nan,  nan,\n",
       "         nan,  nan,  nan,  nan,  nan,  nan,  nan,  nan,  nan,  nan,  nan,\n",
       "         nan,  nan,  nan,  nan,  nan,  nan,  nan,  nan,  nan,  nan,  nan,\n",
       "         nan,  nan,  nan,  nan,  nan,  nan,  nan,  nan,  nan,  nan,  nan,\n",
       "         nan,  nan,  nan,  nan,  nan,  nan,  nan,  nan,  nan,  nan,  nan,\n",
       "         nan,  nan,  nan,  nan,  nan,  nan,  nan,  nan,  nan,  nan,  nan,\n",
       "         nan,  nan,  nan,  nan,  nan,  nan,  nan,  nan,  nan,  nan,  nan,\n",
       "         nan,  nan,  nan,  nan,  nan,  nan,  nan,  nan,  nan,  nan,  nan,\n",
       "         nan,  nan,  nan,  nan,  nan,  nan,  nan,  nan,  nan,  nan,  nan,\n",
       "         nan,  nan,  nan,  nan,  nan,  nan,  nan,  nan,  nan,  nan,  nan,\n",
       "         nan,  nan,   1.,   0.,   0.,   0.,   0.]),\n",
       " 3)"
      ]
     },
     "execution_count": 133,
     "metadata": {},
     "output_type": "execute_result"
    }
   ],
   "source": [
    "roc_splines.tck"
   ]
  },
  {
   "cell_type": "code",
   "execution_count": 135,
   "metadata": {},
   "outputs": [
    {
     "data": {
      "text/plain": [
       "array([ 0.        ,  0.        ,  0.        ,  0.        ,  0.00684932,\n",
       "        0.00684932,  0.01369863,  0.01369863,  0.02054795,  0.02054795,\n",
       "        0.02739726,  0.02739726,  0.03424658,  0.03424658,  0.04794521,\n",
       "        0.04794521,  0.05479452,  0.05479452,  0.06164384,  0.06164384,\n",
       "        0.06164384,  0.06164384,  0.06849315,  0.06849315,  0.06849315,\n",
       "        0.08219178,  0.08219178,  0.0890411 ,  0.0890411 ,  0.09589041,\n",
       "        0.09589041,  0.09589041,  0.10273973,  0.10273973,  0.11643836,\n",
       "        0.11643836,  0.13013699,  0.13013699,  0.14383562,  0.14383562,\n",
       "        0.15753425,  0.15753425,  0.17123288,  0.17123288,  0.17808219,\n",
       "        0.17808219,  0.19178082,  0.19178082,  0.19863014,  0.19863014,\n",
       "        0.20547945,  0.20547945,  0.2260274 ,  0.23287671,  0.23287671,\n",
       "        0.23972603,  0.23972603,  0.23972603,  0.23972603,  0.24657534,\n",
       "        0.24657534,  0.25342466,  0.25342466,  0.28082192,  0.28082192,\n",
       "        0.28767123,  0.28767123,  0.30136986,  0.30136986,  0.31506849,\n",
       "        0.31506849,  0.33561644,  0.33561644,  0.34246575,  0.34246575,\n",
       "        0.3630137 ,  0.3630137 ,  0.38356164,  0.38356164,  0.40410959,\n",
       "        0.40410959,  0.44520548,  0.44520548,  0.45890411,  0.45890411,\n",
       "        0.46575342,  0.46575342,  0.47945205,  0.47945205,  0.50684932,\n",
       "        0.50684932,  0.52054795,  0.52054795,  0.53424658,  0.53424658,\n",
       "        0.55479452,  0.55479452,  0.56849315,  0.56849315,  0.57534247,\n",
       "        0.57534247,  0.5890411 ,  0.5890411 ,  0.5890411 ,  0.60273973,\n",
       "        0.60273973,  0.62328767,  0.62328767,  0.63013699,  0.63013699,\n",
       "        0.64383562,  0.64383562,  0.65068493,  0.65068493,  0.65753425,\n",
       "        0.65753425,  0.66438356,  0.66438356,  0.68493151,  0.68493151,\n",
       "        0.71232877,  0.71232877,  0.73972603,  0.73972603,  0.75342466,\n",
       "        0.75342466,  0.76027397,  0.76027397,  0.79452055,  0.79452055,\n",
       "        0.82876712,  0.82876712,  0.9109589 ,  0.9109589 ,  1.        ])"
      ]
     },
     "execution_count": 135,
     "metadata": {},
     "output_type": "execute_result"
    }
   ],
   "source": []
  },
  {
   "cell_type": "code",
   "execution_count": 144,
   "metadata": {},
   "outputs": [],
   "source": [
    "fpr_new, fpr_ind = np.unique(fpr, return_index=True)"
   ]
  },
  {
   "cell_type": "code",
   "execution_count": 145,
   "metadata": {
    "collapsed": true
   },
   "outputs": [],
   "source": [
    "tpr_new = tpr[fpr_ind]"
   ]
  },
  {
   "cell_type": "code",
   "execution_count": 147,
   "metadata": {},
   "outputs": [],
   "source": [
    "interp = make_interp_spline(fpr_new, tpr_new)"
   ]
  },
  {
   "cell_type": "code",
   "execution_count": 155,
   "metadata": {},
   "outputs": [
    {
     "data": {
      "text/plain": [
       "[<matplotlib.lines.Line2D at 0x7fb17e9e6908>]"
      ]
     },
     "execution_count": 155,
     "metadata": {},
     "output_type": "execute_result"
    },
    {
     "data": {
      "image/png": "[encoded data removed]",
      "text/plain": [
       "<matplotlib.figure.Figure at 0x7fb17e55b748>"
      ]
     },
     "metadata": {},
     "output_type": "display_data"
    }
   ],
   "source": [
    "plt.plot(np.linspace(0, 1, 25), interp(np.linspace(0, 1, 25)))"
   ]
  },
  {
   "cell_type": "code",
   "execution_count": 163,
   "metadata": {
    "collapsed": true
   },
   "outputs": [],
   "source": [
    "\n",
    "def sum_payout(cost_matrix, confusion_matrix):\n",
    "    \"\"\"\n",
    "    Calculate the profit from cost and confusion matrices.\n",
    "    \"\"\"\n",
    "    return (confusion_matrix * cost_matrix).sum()"
   ]
  },
  {
   "cell_type": "code",
   "execution_count": 160,
   "metadata": {
    "collapsed": true
   },
   "outputs": [],
   "source": [
    "def generate_profit_curve(cost_matrix,\n",
    "                          model,\n",
    "                          X_test, y_test, n_thresholds=100):\n",
    "    \"\"\"\n",
    "    Generate the profit curve with a given cost matrix.\n",
    "    \"\"\"\n",
    "    thresholds = np.linspace(0, 1, n_thresholds)\n",
    "    totals = []\n",
    "    for threshold in thresholds:\n",
    "        iter_conf_matrix = confusion_matrix(model, X_test, y_test, threshold)\n",
    "        totals.append(sum_payout(cost_matrix, iter_conf_matrix))\n",
    "\n",
    "    return thresholds, np.array(totals)"
   ]
  },
  {
   "cell_type": "code",
   "execution_count": 167,
   "metadata": {
    "collapsed": true
   },
   "outputs": [],
   "source": [
    "def diff_generate_profit_curve(cost_matrix,\n",
    "                               model,\n",
    "                               X_test, y_test, n_thresholds=100):\n",
    "    \"\"\"\n",
    "    Generate the profit curve with a given cost matrix.\n",
    "    \"\"\"\n",
    "    thresholds = np.linspace(0, 1, n_thresholds)\n",
    "    totals = np.empty(n_thresholds)\n",
    "    for i, threshold in enumerate(thresholds):\n",
    "        iter_conf_matrix = confusion_matrix(model, X_test, y_test, threshold)\n",
    "        totals[i] = sum_payout(cost_matrix, iter_conf_matrix)\n",
    "\n",
    "    return thresholds, totals"
   ]
  },
  {
   "cell_type": "code",
   "execution_count": 168,
   "metadata": {
    "scrolled": true
   },
   "outputs": [
    {
     "name": "stdout",
     "output_type": "stream",
     "text": [
      "1.63 s ± 330 ms per loop (mean ± std. dev. of 7 runs, 1 loop each)\n"
     ]
    }
   ],
   "source": [
    "%%timeit\n",
    "generate_profit_curve(costs, gbc_final, X_test, y_test)"
   ]
  },
  {
   "cell_type": "code",
   "execution_count": 169,
   "metadata": {},
   "outputs": [
    {
     "name": "stdout",
     "output_type": "stream",
     "text": [
      "2.09 s ± 50.1 ms per loop (mean ± std. dev. of 7 runs, 1 loop each)\n"
     ]
    }
   ],
   "source": [
    "%%timeit\n",
    "diff_generate_profit_curve(costs, gbc_final, X_test, y_test)"
   ]
  },
  {
   "cell_type": "code",
   "execution_count": null,
   "metadata": {
    "collapsed": true
   },
   "outputs": [],
   "source": [
    "[[-5, -20],\n",
    " [-5,  10]]"
   ]
  },
  {
   "cell_type": "code",
   "execution_count": 171,
   "metadata": {},
   "outputs": [
    {
     "data": {
      "text/plain": [
       "[<matplotlib.lines.Line2D at 0x7fb17e372eb8>]"
      ]
     },
     "execution_count": 171,
     "metadata": {},
     "output_type": "execute_result"
    },
    {
     "data": {
      "image/png": "[encoded data removed]",
      "text/plain": [
       "<matplotlib.figure.Figure at 0x7fb18a1f0a58>"
      ]
     },
     "metadata": {},
     "output_type": "display_data"
    }
   ],
   "source": [
    "plt.plot(*generate_profit_curve(np.array([[-5, -20], [-5,  10]]),\n",
    "                      gbc_final, X_test, y_test))"
   ]
  },
  {
   "cell_type": "markdown",
   "metadata": {},
   "source": [
    "- hourly revenue generation\n",
    "- hourly maintenance\n",
    "- hourly repair"
   ]
  }
 ],
 "metadata": {
  "kernelspec": {
   "display_name": "Python 3",
   "language": "python",
   "name": "python3"
  },
  "language_info": {
   "codemirror_mode": {
    "name": "ipython",
    "version": 3
   },
   "file_extension": ".py",
   "mimetype": "text/x-python",
   "name": "python",
   "nbconvert_exporter": "python",
   "pygments_lexer": "ipython3",
   "version": "3.6.4"
  }
 },
 "nbformat": 4,
 "nbformat_minor": 2
}
