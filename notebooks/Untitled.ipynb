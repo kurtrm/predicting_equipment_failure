{
 "cells": [
  {
   "cell_type": "code",
   "execution_count": 1,
   "metadata": {
    "collapsed": true
   },
   "outputs": [],
   "source": [
    "import numpy as np\n",
    "import scipy.stats as scs\n",
    "import matplotlib.pyplot as plt\n",
    "import pandas as pd\n",
    "%matplotlib inline\n",
    "from IPython.core.interactiveshell import InteractiveShell\n",
    "InteractiveShell.ast_node_interactivity = 'all'"
   ]
  },
  {
   "cell_type": "code",
   "execution_count": 2,
   "metadata": {
    "collapsed": true
   },
   "outputs": [],
   "source": [
    "from sklearn.pipeline import make_pipeline"
   ]
  },
  {
   "cell_type": "code",
   "execution_count": null,
   "metadata": {
    "collapsed": true
   },
   "outputs": [],
   "source": [
    "from frag_tools import (DropColumns,\n",
    "                        AddressLatLong,\n",
    "                        CurrentMakeDummies,\n",
    "                        Binarize,\n",
    "                        ChangeTypes,\n",
    "                        custom_zip_cleaning)"
   ]
  },
  {
   "cell_type": "code",
   "execution_count": null,
   "metadata": {
    "collapsed": true
   },
   "outputs": [],
   "source": [
    "df = pd.read_csv('/mnt/c/Users/kurtrm/Downloads/Predictive_Maintenance_Transformer_Overload_PA.csv', sep=';')"
   ]
  },
  {
   "cell_type": "code",
   "execution_count": null,
   "metadata": {
    "collapsed": true
   },
   "outputs": [],
   "source": [
    "pipe = make_pipeline(DropColumns(['AssetCity',\n",
    "                                  'AssetId',\n",
    "                                  'AvgRepairCost',\n",
    "                                  'AssetState',\n",
    "                                  'MilesFromOcean',\n",
    "                                  'AssetLocation',\n",
    "                                  'locationID',\n",
    "                                  'Latitude1',\n",
    "                                  'Longitude1']),\n",
    "                     CurrentMakeDummies(['Manufacturer',\n",
    "                                         'Repairs',\n",
    "                                         'Overloads',\n",
    "                                         'AssetType']),\n",
    "                     ChangeTypes(['Age', 'AssetZip'],\n",
    "                                 [lambda x: float(x.replace(',', '.')),\n",
    "                                  custom_zip_cleaning]),\n",
    "                     Binarize(['VegMgmt',\n",
    "                               'PMLate',\n",
    "                               'WaterExposure',\n",
    "                               'MultipleConnects',\n",
    "                               'Storm']),\n",
    "                     AddressLatLong())\n",
    "transformed = pipe.fit_transform(df)"
   ]
  }
 ],
 "metadata": {
  "kernelspec": {
   "display_name": "Python 3",
   "language": "python",
   "name": "python3"
  },
  "language_info": {
   "codemirror_mode": {
    "name": "ipython",
    "version": 3
   },
   "file_extension": ".py",
   "mimetype": "text/x-python",
   "name": "python",
   "nbconvert_exporter": "python",
   "pygments_lexer": "ipython3",
   "version": "3.6.4"
  }
 },
 "nbformat": 4,
 "nbformat_minor": 2
}
