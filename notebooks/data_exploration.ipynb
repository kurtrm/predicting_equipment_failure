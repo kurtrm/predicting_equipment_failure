{
 "cells": [
  {
   "cell_type": "code",
   "execution_count": 1,
   "metadata": {
    "collapsed": true
   },
   "outputs": [],
   "source": [
    "import json\n",
    "import yaml"
   ]
  },
  {
   "cell_type": "code",
   "execution_count": 2,
   "metadata": {
    "collapsed": true
   },
   "outputs": [],
   "source": [
    "import numpy as np\n",
    "import scipy.stats as scs\n",
    "import matplotlib.pyplot as plt\n",
    "import pandas as pd\n",
    "%matplotlib inline\n",
    "from IPython.core.interactiveshell import InteractiveShell\n",
    "InteractiveShell.ast_node_interactivity = 'all'"
   ]
  },
  {
   "cell_type": "code",
   "execution_count": 3,
   "metadata": {
    "collapsed": true
   },
   "outputs": [],
   "source": [
    "import googlemaps\n",
    "from sklearn.pipeline import make_pipeline"
   ]
  },
  {
   "cell_type": "code",
   "execution_count": 4,
   "metadata": {
    "collapsed": true
   },
   "outputs": [],
   "source": [
    "from frag_tools import (DropColumns,\n",
    "                        AddressLatLong,\n",
    "                        CurrentMakeDummies,\n",
    "                        Binarize,\n",
    "                        ChangeTypes,\n",
    "                        custom_zip_cleaning)"
   ]
  },
  {
   "cell_type": "code",
   "execution_count": 5,
   "metadata": {
    "collapsed": true
   },
   "outputs": [],
   "source": [
    "df = pd.read_csv('/mnt/c/Users/kurtrm/Downloads/Predictive_Maintenance_Transformer_Overload_PA.csv', sep=';')"
   ]
  },
  {
   "cell_type": "code",
   "execution_count": 6,
   "metadata": {},
   "outputs": [
    {
     "data": {
      "text/html": [
       "<div>\n",
       "<style>\n",
       "    .dataframe thead tr:only-child th {\n",
       "        text-align: right;\n",
       "    }\n",
       "\n",
       "    .dataframe thead th {\n",
       "        text-align: left;\n",
       "    }\n",
       "\n",
       "    .dataframe tbody tr th {\n",
       "        vertical-align: top;\n",
       "    }\n",
       "</style>\n",
       "<table border=\"1\" class=\"dataframe\">\n",
       "  <thead>\n",
       "    <tr style=\"text-align: right;\">\n",
       "      <th></th>\n",
       "      <th>VegMgmt</th>\n",
       "      <th>PMLate</th>\n",
       "      <th>MilesFromOcean</th>\n",
       "      <th>Manufacturer</th>\n",
       "      <th>WaterExposure</th>\n",
       "      <th>MultipleConnects</th>\n",
       "      <th>Storm</th>\n",
       "      <th>AssetType</th>\n",
       "      <th>Repairs</th>\n",
       "      <th>AvgRepairCost</th>\n",
       "      <th>...</th>\n",
       "      <th>AssetCity</th>\n",
       "      <th>AssetState</th>\n",
       "      <th>AssetZip</th>\n",
       "      <th>locationID</th>\n",
       "      <th>Latitude1</th>\n",
       "      <th>Longitude1</th>\n",
       "      <th>Overloads</th>\n",
       "      <th>Latitude</th>\n",
       "      <th>Longitude</th>\n",
       "      <th>Status</th>\n",
       "    </tr>\n",
       "  </thead>\n",
       "  <tbody>\n",
       "    <tr>\n",
       "      <th>0</th>\n",
       "      <td>Yes</td>\n",
       "      <td>N</td>\n",
       "      <td>0-30</td>\n",
       "      <td>Other</td>\n",
       "      <td>No</td>\n",
       "      <td>Yes</td>\n",
       "      <td>No</td>\n",
       "      <td>1-Phase Pole Transformer</td>\n",
       "      <td>Rebuild+3</td>\n",
       "      <td>78851,3</td>\n",
       "      <td>...</td>\n",
       "      <td>STOCKBRIDGE</td>\n",
       "      <td>GA</td>\n",
       "      <td>30281</td>\n",
       "      <td>ADK</td>\n",
       "      <td>518.781</td>\n",
       "      <td>1.766.461</td>\n",
       "      <td>Below 100%</td>\n",
       "      <td>51,8781</td>\n",
       "      <td>17,66461</td>\n",
       "      <td>1</td>\n",
       "    </tr>\n",
       "    <tr>\n",
       "      <th>1</th>\n",
       "      <td>Yes</td>\n",
       "      <td>N</td>\n",
       "      <td>0-30</td>\n",
       "      <td>Schneider Electric</td>\n",
       "      <td>No</td>\n",
       "      <td>No</td>\n",
       "      <td>No</td>\n",
       "      <td>1-Phase Pole Transformer</td>\n",
       "      <td>Rebuild+2</td>\n",
       "      <td>78851,3</td>\n",
       "      <td>...</td>\n",
       "      <td>MARRIETTA</td>\n",
       "      <td>GA</td>\n",
       "      <td>30068</td>\n",
       "      <td>AKK</td>\n",
       "      <td>569.386</td>\n",
       "      <td>1.541.825</td>\n",
       "      <td>Below 100%</td>\n",
       "      <td>56,9386</td>\n",
       "      <td>15,41825</td>\n",
       "      <td>1</td>\n",
       "    </tr>\n",
       "    <tr>\n",
       "      <th>2</th>\n",
       "      <td>Yes</td>\n",
       "      <td>N</td>\n",
       "      <td>0-30</td>\n",
       "      <td>Other</td>\n",
       "      <td>No</td>\n",
       "      <td>No</td>\n",
       "      <td>No</td>\n",
       "      <td>1-Phase Pole Transformer</td>\n",
       "      <td>Original</td>\n",
       "      <td>55000</td>\n",
       "      <td>...</td>\n",
       "      <td>NORCROSS</td>\n",
       "      <td>GA</td>\n",
       "      <td>30091</td>\n",
       "      <td>Z13</td>\n",
       "      <td>609.047</td>\n",
       "      <td>1.614.225</td>\n",
       "      <td>Above 150%</td>\n",
       "      <td>60,9047</td>\n",
       "      <td>16,14225</td>\n",
       "      <td>0</td>\n",
       "    </tr>\n",
       "    <tr>\n",
       "      <th>3</th>\n",
       "      <td>Yes</td>\n",
       "      <td>N</td>\n",
       "      <td>0-30</td>\n",
       "      <td>Other</td>\n",
       "      <td>No</td>\n",
       "      <td>Yes</td>\n",
       "      <td>No</td>\n",
       "      <td>1-Phase Pole Transformer</td>\n",
       "      <td>Original</td>\n",
       "      <td>78851,3</td>\n",
       "      <td>...</td>\n",
       "      <td>STOCKBRIDGE</td>\n",
       "      <td>GA</td>\n",
       "      <td>30281</td>\n",
       "      <td>AKI</td>\n",
       "      <td>609.028</td>\n",
       "      <td>1.612.306</td>\n",
       "      <td>Above 150%</td>\n",
       "      <td>60,9028</td>\n",
       "      <td>16,12306</td>\n",
       "      <td>0</td>\n",
       "    </tr>\n",
       "    <tr>\n",
       "      <th>4</th>\n",
       "      <td>Yes</td>\n",
       "      <td>N</td>\n",
       "      <td>0-30</td>\n",
       "      <td>Siemens</td>\n",
       "      <td>No</td>\n",
       "      <td>No</td>\n",
       "      <td>No</td>\n",
       "      <td>1-Phase Pole Transformer</td>\n",
       "      <td>Original</td>\n",
       "      <td>78851,3</td>\n",
       "      <td>...</td>\n",
       "      <td>JONESBORO</td>\n",
       "      <td>GA</td>\n",
       "      <td>30238</td>\n",
       "      <td>AUK</td>\n",
       "      <td>626.800</td>\n",
       "      <td>1.646.600</td>\n",
       "      <td>Above 150%</td>\n",
       "      <td>62,68</td>\n",
       "      <td>16,466</td>\n",
       "      <td>0</td>\n",
       "    </tr>\n",
       "  </tbody>\n",
       "</table>\n",
       "<p>5 rows × 23 columns</p>\n",
       "</div>"
      ],
      "text/plain": [
       "  VegMgmt PMLate MilesFromOcean        Manufacturer WaterExposure  \\\n",
       "0     Yes      N           0-30               Other            No   \n",
       "1     Yes      N           0-30  Schneider Electric            No   \n",
       "2     Yes      N           0-30               Other            No   \n",
       "3     Yes      N           0-30               Other            No   \n",
       "4     Yes      N           0-30             Siemens            No   \n",
       "\n",
       "  MultipleConnects Storm                 AssetType    Repairs AvgRepairCost  \\\n",
       "0              Yes    No  1-Phase Pole Transformer  Rebuild+3       78851,3   \n",
       "1               No    No  1-Phase Pole Transformer  Rebuild+2       78851,3   \n",
       "2               No    No  1-Phase Pole Transformer   Original         55000   \n",
       "3              Yes    No  1-Phase Pole Transformer   Original       78851,3   \n",
       "4               No    No  1-Phase Pole Transformer   Original       78851,3   \n",
       "\n",
       "   ...      AssetCity AssetState AssetZip locationID Latitude1 Longitude1  \\\n",
       "0  ...    STOCKBRIDGE         GA    30281        ADK   518.781  1.766.461   \n",
       "1  ...      MARRIETTA         GA    30068        AKK   569.386  1.541.825   \n",
       "2  ...       NORCROSS         GA    30091        Z13   609.047  1.614.225   \n",
       "3  ...    STOCKBRIDGE         GA    30281        AKI   609.028  1.612.306   \n",
       "4  ...      JONESBORO         GA    30238        AUK   626.800  1.646.600   \n",
       "\n",
       "    Overloads  Latitude Longitude Status  \n",
       "0  Below 100%   51,8781  17,66461      1  \n",
       "1  Below 100%   56,9386  15,41825      1  \n",
       "2  Above 150%   60,9047  16,14225      0  \n",
       "3  Above 150%   60,9028  16,12306      0  \n",
       "4  Above 150%     62,68    16,466      0  \n",
       "\n",
       "[5 rows x 23 columns]"
      ]
     },
     "execution_count": 6,
     "metadata": {},
     "output_type": "execute_result"
    }
   ],
   "source": [
    "df.head()"
   ]
  },
  {
   "cell_type": "code",
   "execution_count": 7,
   "metadata": {
    "collapsed": true
   },
   "outputs": [],
   "source": [
    "location_info = df[['AssetLocation', 'AssetCity', 'AssetState', 'AssetZip']]"
   ]
  },
  {
   "cell_type": "code",
   "execution_count": 8,
   "metadata": {
    "collapsed": true,
    "scrolled": true
   },
   "outputs": [],
   "source": [
    "joined_series = location_info.apply(lambda x: \", \".join(x.tolist()), axis=1)"
   ]
  },
  {
   "cell_type": "code",
   "execution_count": 9,
   "metadata": {
    "collapsed": true
   },
   "outputs": [],
   "source": [
    "joined_series.tolist();"
   ]
  },
  {
   "cell_type": "code",
   "execution_count": 10,
   "metadata": {},
   "outputs": [
    {
     "data": {
      "text/html": [
       "<div>\n",
       "<style>\n",
       "    .dataframe thead tr:only-child th {\n",
       "        text-align: right;\n",
       "    }\n",
       "\n",
       "    .dataframe thead th {\n",
       "        text-align: left;\n",
       "    }\n",
       "\n",
       "    .dataframe tbody tr th {\n",
       "        vertical-align: top;\n",
       "    }\n",
       "</style>\n",
       "<table border=\"1\" class=\"dataframe\">\n",
       "  <thead>\n",
       "    <tr style=\"text-align: right;\">\n",
       "      <th></th>\n",
       "      <th>VegMgmt</th>\n",
       "      <th>PMLate</th>\n",
       "      <th>Manufacturer</th>\n",
       "      <th>WaterExposure</th>\n",
       "      <th>MultipleConnects</th>\n",
       "      <th>Storm</th>\n",
       "      <th>AssetType</th>\n",
       "      <th>Repairs</th>\n",
       "      <th>AvgRepairCost</th>\n",
       "      <th>Age</th>\n",
       "      <th>AssetId</th>\n",
       "      <th>AssetCity</th>\n",
       "      <th>Longitude1</th>\n",
       "      <th>Overloads</th>\n",
       "      <th>Status</th>\n",
       "    </tr>\n",
       "  </thead>\n",
       "  <tbody>\n",
       "    <tr>\n",
       "      <th>0</th>\n",
       "      <td>Yes</td>\n",
       "      <td>N</td>\n",
       "      <td>Other</td>\n",
       "      <td>No</td>\n",
       "      <td>Yes</td>\n",
       "      <td>No</td>\n",
       "      <td>1-Phase Pole Transformer</td>\n",
       "      <td>Rebuild+3</td>\n",
       "      <td>78851,3</td>\n",
       "      <td>70,3</td>\n",
       "      <td>CE01059</td>\n",
       "      <td>STOCKBRIDGE</td>\n",
       "      <td>1.766.461</td>\n",
       "      <td>Below 100%</td>\n",
       "      <td>1</td>\n",
       "    </tr>\n",
       "    <tr>\n",
       "      <th>1</th>\n",
       "      <td>Yes</td>\n",
       "      <td>N</td>\n",
       "      <td>Schneider Electric</td>\n",
       "      <td>No</td>\n",
       "      <td>No</td>\n",
       "      <td>No</td>\n",
       "      <td>1-Phase Pole Transformer</td>\n",
       "      <td>Rebuild+2</td>\n",
       "      <td>78851,3</td>\n",
       "      <td>70,3</td>\n",
       "      <td>JU02620</td>\n",
       "      <td>MARRIETTA</td>\n",
       "      <td>1.541.825</td>\n",
       "      <td>Below 100%</td>\n",
       "      <td>1</td>\n",
       "    </tr>\n",
       "    <tr>\n",
       "      <th>2</th>\n",
       "      <td>Yes</td>\n",
       "      <td>N</td>\n",
       "      <td>Other</td>\n",
       "      <td>No</td>\n",
       "      <td>No</td>\n",
       "      <td>No</td>\n",
       "      <td>1-Phase Pole Transformer</td>\n",
       "      <td>Original</td>\n",
       "      <td>55000</td>\n",
       "      <td>70,3</td>\n",
       "      <td>QD01302</td>\n",
       "      <td>NORCROSS</td>\n",
       "      <td>1.614.225</td>\n",
       "      <td>Above 150%</td>\n",
       "      <td>0</td>\n",
       "    </tr>\n",
       "    <tr>\n",
       "      <th>3</th>\n",
       "      <td>Yes</td>\n",
       "      <td>N</td>\n",
       "      <td>Other</td>\n",
       "      <td>No</td>\n",
       "      <td>Yes</td>\n",
       "      <td>No</td>\n",
       "      <td>1-Phase Pole Transformer</td>\n",
       "      <td>Original</td>\n",
       "      <td>78851,3</td>\n",
       "      <td>70,3</td>\n",
       "      <td>RC00547</td>\n",
       "      <td>STOCKBRIDGE</td>\n",
       "      <td>1.612.306</td>\n",
       "      <td>Above 150%</td>\n",
       "      <td>0</td>\n",
       "    </tr>\n",
       "    <tr>\n",
       "      <th>4</th>\n",
       "      <td>Yes</td>\n",
       "      <td>N</td>\n",
       "      <td>Siemens</td>\n",
       "      <td>No</td>\n",
       "      <td>No</td>\n",
       "      <td>No</td>\n",
       "      <td>1-Phase Pole Transformer</td>\n",
       "      <td>Original</td>\n",
       "      <td>78851,3</td>\n",
       "      <td>70,3</td>\n",
       "      <td>GO01571</td>\n",
       "      <td>JONESBORO</td>\n",
       "      <td>1.646.600</td>\n",
       "      <td>Above 150%</td>\n",
       "      <td>0</td>\n",
       "    </tr>\n",
       "  </tbody>\n",
       "</table>\n",
       "</div>"
      ],
      "text/plain": [
       "  VegMgmt PMLate        Manufacturer WaterExposure MultipleConnects Storm  \\\n",
       "0     Yes      N               Other            No              Yes    No   \n",
       "1     Yes      N  Schneider Electric            No               No    No   \n",
       "2     Yes      N               Other            No               No    No   \n",
       "3     Yes      N               Other            No              Yes    No   \n",
       "4     Yes      N             Siemens            No               No    No   \n",
       "\n",
       "                  AssetType    Repairs AvgRepairCost   Age  AssetId  \\\n",
       "0  1-Phase Pole Transformer  Rebuild+3       78851,3  70,3  CE01059   \n",
       "1  1-Phase Pole Transformer  Rebuild+2       78851,3  70,3  JU02620   \n",
       "2  1-Phase Pole Transformer   Original         55000  70,3  QD01302   \n",
       "3  1-Phase Pole Transformer   Original       78851,3  70,3  RC00547   \n",
       "4  1-Phase Pole Transformer   Original       78851,3  70,3  GO01571   \n",
       "\n",
       "     AssetCity Longitude1   Overloads  Status  \n",
       "0  STOCKBRIDGE  1.766.461  Below 100%       1  \n",
       "1    MARRIETTA  1.541.825  Below 100%       1  \n",
       "2     NORCROSS  1.614.225  Above 150%       0  \n",
       "3  STOCKBRIDGE  1.612.306  Above 150%       0  \n",
       "4    JONESBORO  1.646.600  Above 150%       0  "
      ]
     },
     "execution_count": 10,
     "metadata": {},
     "output_type": "execute_result"
    }
   ],
   "source": [
    "df.drop(['AssetState', 'MilesFromOcean', 'AssetLocation', 'AssetZip', 'locationID', 'Latitude1', 'Latitude1', 'Latitude', 'Longitude'], axis=1).head()"
   ]
  },
  {
   "cell_type": "markdown",
   "metadata": {},
   "source": [
    "## Column Descriptions\n",
    "\n",
    "- VegMgmt: Vegetation Management plans help reduce herbicide use and maintenance costs. Vegetation, if left alone will grow out of control, blocking visibility.\n",
    "- PMLate: Plant Maintenance Late – equipment that had overdue maintenance schedule.\n",
    "- MilesFromOcean: This column makes no sense in relation to the AssetLocation, City, and Zip.\n",
    "- Manufacturer: The name of the manufacturer of the transformer.\n",
    "- WaterExposure: Whether a given transformer has been documented as having been been exposed to water.\n",
    "- MultipleConnects: Whether the transformer supplies more than one home.\n",
    "- Storm: Whether the transformer has been subjected to stormy weather.\n",
    "- AssetType: Type of the transformer.\n",
    "- Repairs: How many repairs/refurbishments a transformer has received.\n",
    "- AvgRepairCost: Average repair cost for the transformer. These units seem high.\n",
    "- Age: In years.\n",
    "- Overloads: Status of being overloaded."
   ]
  },
  {
   "cell_type": "code",
   "execution_count": 11,
   "metadata": {},
   "outputs": [
    {
     "data": {
      "text/plain": [
       "count    1716.000000\n",
       "mean       13.438287\n",
       "std        15.996203\n",
       "min         3.000000\n",
       "25%         4.500000\n",
       "50%         6.600000\n",
       "75%        12.900000\n",
       "max        80.000000\n",
       "Name: Age, dtype: float64"
      ]
     },
     "execution_count": 11,
     "metadata": {},
     "output_type": "execute_result"
    }
   ],
   "source": [
    "df['Age'].apply(lambda x: float(x.replace(',', '.'))).describe()"
   ]
  },
  {
   "cell_type": "code",
   "execution_count": 12,
   "metadata": {},
   "outputs": [
    {
     "data": {
      "text/plain": [
       "Below 100%    950\n",
       "100-120%      663\n",
       "120-150%       79\n",
       "Above 150%     24\n",
       "Name: Overloads, dtype: int64"
      ]
     },
     "execution_count": 12,
     "metadata": {},
     "output_type": "execute_result"
    }
   ],
   "source": [
    "df['Overloads'].value_counts()"
   ]
  },
  {
   "cell_type": "code",
   "execution_count": 13,
   "metadata": {},
   "outputs": [
    {
     "data": {
      "text/plain": [
       "1    950\n",
       "0    766\n",
       "Name: Status, dtype: int64"
      ]
     },
     "execution_count": 13,
     "metadata": {},
     "output_type": "execute_result"
    }
   ],
   "source": [
    "df['Status'].value_counts()"
   ]
  },
  {
   "cell_type": "code",
   "execution_count": 14,
   "metadata": {
    "collapsed": true
   },
   "outputs": [],
   "source": [
    "(df.groupby('AssetCity')['Status'].sum() / df['AssetCity'].value_counts()).sort_values(ascending=False);"
   ]
  },
  {
   "cell_type": "code",
   "execution_count": 15,
   "metadata": {
    "collapsed": true
   },
   "outputs": [],
   "source": [
    "df['AssetCity'].value_counts();"
   ]
  },
  {
   "cell_type": "code",
   "execution_count": 16,
   "metadata": {
    "collapsed": true
   },
   "outputs": [],
   "source": [
    "# test1 = gmaps.geocode(', '.join(location_info.iloc[0].tolist()))"
   ]
  },
  {
   "cell_type": "code",
   "execution_count": 17,
   "metadata": {
    "collapsed": true
   },
   "outputs": [],
   "source": [
    "joined_list = joined_series.tolist()"
   ]
  },
  {
   "cell_type": "code",
   "execution_count": 18,
   "metadata": {
    "collapsed": true
   },
   "outputs": [],
   "source": [
    "# geocoded = [gmaps.geocode(address) for address in joined_list]\n",
    "with open('../src/static/data/geocoded_address.json', 'r') as f:\n",
    "    geocoded = json.load(f)"
   ]
  },
  {
   "cell_type": "code",
   "execution_count": 19,
   "metadata": {
    "collapsed": true,
    "scrolled": true
   },
   "outputs": [],
   "source": [
    "def state_verification(geocodes):\n",
    "    names = [[name['long_name'] for name in location[0]['address_components']] for location in geocodes]\n",
    "    return [name for name in names if 'Georgia' not in name]"
   ]
  },
  {
   "cell_type": "code",
   "execution_count": 20,
   "metadata": {},
   "outputs": [
    {
     "data": {
      "text/plain": [
       "[['Windham', 'Windham County', 'Connecticut', 'United States']]"
      ]
     },
     "execution_count": 20,
     "metadata": {},
     "output_type": "execute_result"
    }
   ],
   "source": [
    "state_verification(geocoded)"
   ]
  },
  {
   "cell_type": "code",
   "execution_count": 21,
   "metadata": {
    "collapsed": true
   },
   "outputs": [],
   "source": [
    "address_check = [location[0]['formatted_address'] for location in geocoded]"
   ]
  },
  {
   "cell_type": "code",
   "execution_count": 22,
   "metadata": {},
   "outputs": [
    {
     "data": {
      "text/plain": [
       "['371 Vista Creek Dr', ' Stockbridge', ' GA 30281', ' USA']"
      ]
     },
     "execution_count": 22,
     "metadata": {},
     "output_type": "execute_result"
    }
   ],
   "source": [
    "address_check[0].split(',')"
   ]
  },
  {
   "cell_type": "code",
   "execution_count": 23,
   "metadata": {
    "scrolled": true
   },
   "outputs": [
    {
     "data": {
      "text/plain": [
       "('982 Smith St, Clarkston, GA 30021, USA',\n",
       " '982 SMITH ST, Clarkston, GA, 30021')"
      ]
     },
     "execution_count": 23,
     "metadata": {},
     "output_type": "execute_result"
    }
   ],
   "source": [
    "address_check[373], joined_list[373]"
   ]
  },
  {
   "cell_type": "code",
   "execution_count": 24,
   "metadata": {},
   "outputs": [
    {
     "data": {
      "text/plain": [
       "False"
      ]
     },
     "execution_count": 24,
     "metadata": {},
     "output_type": "execute_result"
    }
   ],
   "source": [
    "all('GA' in a for a in address_check)"
   ]
  },
  {
   "cell_type": "code",
   "execution_count": 25,
   "metadata": {},
   "outputs": [
    {
     "data": {
      "text/plain": [
       "False"
      ]
     },
     "execution_count": 25,
     "metadata": {},
     "output_type": "execute_result"
    }
   ],
   "source": [
    "all(a[:4] == b[:4] for a, b in zip(address_check, joined_list))"
   ]
  },
  {
   "cell_type": "code",
   "execution_count": 26,
   "metadata": {
    "collapsed": true
   },
   "outputs": [],
   "source": [
    "not_equal = []\n",
    "sum_not_equal = 0\n",
    "for i, (a, b) in enumerate(zip(address_check, joined_list)):\n",
    "    if a[:4] != b[:4]:\n",
    "        not_equal.append(i)\n",
    "        sum_not_equal += 1"
   ]
  },
  {
   "cell_type": "code",
   "execution_count": 27,
   "metadata": {
    "collapsed": true
   },
   "outputs": [],
   "source": [
    "df.iloc[not_equal][['AssetLocation', 'AssetCity', 'AssetState', 'AssetZip']];"
   ]
  },
  {
   "cell_type": "code",
   "execution_count": 28,
   "metadata": {
    "collapsed": true
   },
   "outputs": [],
   "source": [
    "not_adresses = [address_check[i] for i in not_equal]"
   ]
  },
  {
   "cell_type": "code",
   "execution_count": 29,
   "metadata": {
    "collapsed": true
   },
   "outputs": [],
   "source": [
    "list(zip(range(len(not_adresses)), not_adresses));"
   ]
  },
  {
   "cell_type": "code",
   "execution_count": 30,
   "metadata": {
    "collapsed": true
   },
   "outputs": [],
   "source": [
    "bad_addresses = [0, 1, 2, 4, 9, 10, 11, 13, 14, 15, 16, 18, 19, 20, 21,\n",
    "                 22, 24, 25, 27, 29, 32, 35, 36, 37, 38, 40, 41, 42,\n",
    "                 46, 49, 50, 51, 52, 54, 55, 59]"
   ]
  },
  {
   "cell_type": "code",
   "execution_count": 31,
   "metadata": {
    "collapsed": true
   },
   "outputs": [],
   "source": [
    "bad_addresses_df = df.iloc[not_equal][['AssetLocation', 'AssetCity', 'AssetState', 'AssetZip']].reset_index().iloc[bad_addresses]\n",
    "bad_copy = bad_addresses_df.copy()"
   ]
  },
  {
   "cell_type": "code",
   "execution_count": 32,
   "metadata": {
    "scrolled": true
   },
   "outputs": [],
   "source": [
    "bad_indices = bad_copy['index'].tolist()"
   ]
  },
  {
   "cell_type": "code",
   "execution_count": 33,
   "metadata": {
    "collapsed": true
   },
   "outputs": [],
   "source": [
    "corrected = ['356 N Rover Rd, Williamson, GA 30292',\n",
    "             '3001 Tree Lodge Parkway Atlanta, Ga 30350',\n",
    "             '3328 E Ponce de Leon Ave, Scottdale, GA 30079',\n",
    "             '100 Tinsley Road, Peachtree City, GA 30269',\n",
    "             '35 Firethorne Dr, Newnan, GA 30265',\n",
    "             '172 Takela Forest, Fairmount, GA 30139',\n",
    "             '1081 Brite Ct, Austell, GA 30106',\n",
    "             '606 Wyndham Ct, Canton, GA 30115',\n",
    "             '705 Cobb Crossing SE, Smyrna, GA 30080',\n",
    "             '245 Omin Rd, Fayetteville, GA 30214',\n",
    "             '1336 Oakdale Dr, Griffin, GA 30224',\n",
    "             '50 Hollow Oaks CtNewnan, GA 30263',\n",
    "             '3696 Tulip Dr, Decatur, GA 30032',\n",
    "             '5411 Huron Dr, Lake City, GA 30260',\n",
    "             '717 Sorrel Ln, Alpharetta, GA 30005',\n",
    "             '410 Sassafras Rd, Roswell, GA 30076',\n",
    "             '4032 Jonesboro Rd, Hampton, GA 30228 ',\n",
    "             '3210 Wexford Dr, Albany, GA 31721',\n",
    "             '2910 Lake Colony Dr NW, Norcross, GA 30071',\n",
    "             'Hyacinth Ln, Peachtree City, GA 30269',\n",
    "             '2470 Chestnut Landing, Atlanta, GA 30360',\n",
    "             '2821 Gillionville Rd, Albany, GA 31721',\n",
    "             '5858 Waggoner Ct, Rex, GA 30273',\n",
    "             '3799 Main St, Atlanta, GA 30337',\n",
    "             '3517 Shadowood Pkwy SE, Atlanta, GA 30339',\n",
    "             '706 Lake Cove Dr, Hampton, GA 30228',\n",
    "             '538 Country Greens Dr, Jonesboro, GA 30238',\n",
    "             '4020 Jeffrey Dr, College Park, GA 30349',\n",
    "             '4045 George Busbee Pkwy NW, Kennesaw, GA 30144',\n",
    "             '818 S Nottingham Rd, Jonesboro, GA 30236',\n",
    "             '848 Oglethorpe Ave SW, Atlanta, GA 30310',\n",
    "             '708 Cobblestone Blvd, Fayetteville, GA 30215',\n",
    "             '1645 NE Executive Park Lane, Atlanta, GA 30329',\n",
    "             '8275 Sentinae Chase Dr, Roswell, GA 30076',\n",
    "             '319 Awendaw Cir, Ellenwood, GA 30294',\n",
    "             '8827 Fairview Bluff, Johns Creek, GA 30022']"
   ]
  },
  {
   "cell_type": "code",
   "execution_count": 34,
   "metadata": {
    "collapsed": true
   },
   "outputs": [],
   "source": [
    "with open('/home/kurtrm/.secrets/map.yaml', 'r') as f:\n",
    "    key = yaml.load(f)"
   ]
  },
  {
   "cell_type": "code",
   "execution_count": 35,
   "metadata": {
    "collapsed": true
   },
   "outputs": [],
   "source": [
    "gmaps = googlemaps.Client(key=key['API_KEY'])"
   ]
  },
  {
   "cell_type": "code",
   "execution_count": 36,
   "metadata": {},
   "outputs": [],
   "source": [
    "corrected_locations = gmaps.geocode(corrected)"
   ]
  },
  {
   "cell_type": "code",
   "execution_count": 37,
   "metadata": {
    "collapsed": true,
    "scrolled": true
   },
   "outputs": [],
   "source": [
    "bad_copy.at[2, ['AssetState', 'AssetZip']] = 'GA', 30079"
   ]
  },
  {
   "cell_type": "code",
   "execution_count": 38,
   "metadata": {},
   "outputs": [
    {
     "data": {
      "text/plain": [
       "index                    47\n",
       "AssetLocation    PO BOX 408\n",
       "AssetCity         SCOTTDALE\n",
       "AssetState               GA\n",
       "AssetZip              30079\n",
       "Name: 2, dtype: object"
      ]
     },
     "execution_count": 38,
     "metadata": {},
     "output_type": "execute_result"
    }
   ],
   "source": [
    "bad_copy.iloc[2]"
   ]
  },
  {
   "cell_type": "code",
   "execution_count": 39,
   "metadata": {},
   "outputs": [
    {
     "data": {
      "text/plain": [
       "1"
      ]
     },
     "execution_count": 39,
     "metadata": {},
     "output_type": "execute_result"
    }
   ],
   "source": [
    "len(corrected_locations)"
   ]
  },
  {
   "cell_type": "code",
   "execution_count": 40,
   "metadata": {
    "collapsed": true
   },
   "outputs": [],
   "source": [
    "def accumulate_addresses(addresses):\n",
    "    \"\"\"\n",
    "    Get addresses one at a time and accumulate in a list.\n",
    "    \"\"\"\n",
    "    new_addresses = []\n",
    "    for address in addresses:\n",
    "        coded = gmaps.geocode(address)\n",
    "        new_addresses.extend(coded)\n",
    "    \n",
    "    return new_addresses"
   ]
  },
  {
   "cell_type": "code",
   "execution_count": 41,
   "metadata": {},
   "outputs": [],
   "source": [
    "# adds = accumulate_addresses(corrected)"
   ]
  },
  {
   "cell_type": "code",
   "execution_count": 42,
   "metadata": {},
   "outputs": [],
   "source": [
    "#  path = '/mnt/c/Users/kurtrm/' \\\n",
    "#            'projects/predicting_equipment_failure/' \\\n",
    "#            'src/static/data/corrected_addresses.json'\n",
    "# with open(path, 'w') as f:\n",
    "#     json.dump(adds, f)"
   ]
  },
  {
   "cell_type": "code",
   "execution_count": 43,
   "metadata": {},
   "outputs": [
    {
     "data": {
      "text/plain": [
       "36"
      ]
     },
     "execution_count": 43,
     "metadata": {},
     "output_type": "execute_result"
    }
   ],
   "source": [
    "len(corrected)"
   ]
  },
  {
   "cell_type": "code",
   "execution_count": 44,
   "metadata": {
    "collapsed": true
   },
   "outputs": [],
   "source": [
    "corrected_addresses = [location['formatted_address'] for location in corrected_locations]"
   ]
  },
  {
   "cell_type": "code",
   "execution_count": 45,
   "metadata": {},
   "outputs": [
    {
     "data": {
      "text/plain": [
       "1"
      ]
     },
     "execution_count": 45,
     "metadata": {},
     "output_type": "execute_result"
    }
   ],
   "source": [
    "len(corrected_addresses)"
   ]
  },
  {
   "cell_type": "code",
   "execution_count": 46,
   "metadata": {
    "collapsed": true
   },
   "outputs": [],
   "source": [
    "df.iloc[bad_addresses][['AssetLocation', 'AssetCity', 'AssetState', 'AssetZip']];"
   ]
  },
  {
   "cell_type": "code",
   "execution_count": 47,
   "metadata": {
    "collapsed": true
   },
   "outputs": [],
   "source": [
    "# with open('../src/static/data/geocoded_address.json', 'w') as f:\n",
    "#     json.dump(geocoded, f)"
   ]
  },
  {
   "cell_type": "code",
   "execution_count": 48,
   "metadata": {},
   "outputs": [
    {
     "data": {
      "text/plain": [
       "{'lat': 33.5168046, 'lng': -84.2584781}"
      ]
     },
     "execution_count": 48,
     "metadata": {},
     "output_type": "execute_result"
    }
   ],
   "source": [
    "geocoded[0][0]['geometry']['location']"
   ]
  },
  {
   "cell_type": "code",
   "execution_count": 49,
   "metadata": {
    "collapsed": true
   },
   "outputs": [],
   "source": [
    "df.copy()['Latitude'] = [location[0]['geometry']['location']\n",
    "                      for location in geocoded]"
   ]
  },
  {
   "cell_type": "code",
   "execution_count": 50,
   "metadata": {
    "collapsed": true
   },
   "outputs": [],
   "source": [
    "df.copy()[['Latitude', 'Longitude']] = pd.DataFrame([location[0]['geometry']['location']\n",
    "                                                     for location in geocoded])"
   ]
  },
  {
   "cell_type": "code",
   "execution_count": 51,
   "metadata": {
    "collapsed": true
   },
   "outputs": [],
   "source": [
    "drop = DropColumns(['AssetCity', 'AssetId', 'AvgRepairCost', 'AssetState', 'MilesFromOcean', 'AssetLocation', 'locationID', 'Latitude1', 'Longitude1'])"
   ]
  },
  {
   "cell_type": "code",
   "execution_count": 52,
   "metadata": {
    "collapsed": true,
    "scrolled": true
   },
   "outputs": [],
   "source": [
    "dropped = drop.fit_transform(df)"
   ]
  },
  {
   "cell_type": "code",
   "execution_count": 53,
   "metadata": {
    "scrolled": true
   },
   "outputs": [
    {
     "data": {
      "text/html": [
       "<div>\n",
       "<style>\n",
       "    .dataframe thead tr:only-child th {\n",
       "        text-align: right;\n",
       "    }\n",
       "\n",
       "    .dataframe thead th {\n",
       "        text-align: left;\n",
       "    }\n",
       "\n",
       "    .dataframe tbody tr th {\n",
       "        vertical-align: top;\n",
       "    }\n",
       "</style>\n",
       "<table border=\"1\" class=\"dataframe\">\n",
       "  <thead>\n",
       "    <tr style=\"text-align: right;\">\n",
       "      <th></th>\n",
       "      <th>VegMgmt</th>\n",
       "      <th>PMLate</th>\n",
       "      <th>Manufacturer</th>\n",
       "      <th>WaterExposure</th>\n",
       "      <th>MultipleConnects</th>\n",
       "      <th>Storm</th>\n",
       "      <th>AssetType</th>\n",
       "      <th>Repairs</th>\n",
       "      <th>Age</th>\n",
       "      <th>AssetZip</th>\n",
       "      <th>Overloads</th>\n",
       "      <th>Latitude</th>\n",
       "      <th>Longitude</th>\n",
       "      <th>Status</th>\n",
       "    </tr>\n",
       "  </thead>\n",
       "  <tbody>\n",
       "    <tr>\n",
       "      <th>0</th>\n",
       "      <td>Yes</td>\n",
       "      <td>N</td>\n",
       "      <td>Other</td>\n",
       "      <td>No</td>\n",
       "      <td>Yes</td>\n",
       "      <td>No</td>\n",
       "      <td>1-Phase Pole Transformer</td>\n",
       "      <td>Rebuild+3</td>\n",
       "      <td>70,3</td>\n",
       "      <td>30281</td>\n",
       "      <td>Below 100%</td>\n",
       "      <td>51,8781</td>\n",
       "      <td>17,66461</td>\n",
       "      <td>1</td>\n",
       "    </tr>\n",
       "    <tr>\n",
       "      <th>1</th>\n",
       "      <td>Yes</td>\n",
       "      <td>N</td>\n",
       "      <td>Schneider Electric</td>\n",
       "      <td>No</td>\n",
       "      <td>No</td>\n",
       "      <td>No</td>\n",
       "      <td>1-Phase Pole Transformer</td>\n",
       "      <td>Rebuild+2</td>\n",
       "      <td>70,3</td>\n",
       "      <td>30068</td>\n",
       "      <td>Below 100%</td>\n",
       "      <td>56,9386</td>\n",
       "      <td>15,41825</td>\n",
       "      <td>1</td>\n",
       "    </tr>\n",
       "    <tr>\n",
       "      <th>2</th>\n",
       "      <td>Yes</td>\n",
       "      <td>N</td>\n",
       "      <td>Other</td>\n",
       "      <td>No</td>\n",
       "      <td>No</td>\n",
       "      <td>No</td>\n",
       "      <td>1-Phase Pole Transformer</td>\n",
       "      <td>Original</td>\n",
       "      <td>70,3</td>\n",
       "      <td>30091</td>\n",
       "      <td>Above 150%</td>\n",
       "      <td>60,9047</td>\n",
       "      <td>16,14225</td>\n",
       "      <td>0</td>\n",
       "    </tr>\n",
       "    <tr>\n",
       "      <th>3</th>\n",
       "      <td>Yes</td>\n",
       "      <td>N</td>\n",
       "      <td>Other</td>\n",
       "      <td>No</td>\n",
       "      <td>Yes</td>\n",
       "      <td>No</td>\n",
       "      <td>1-Phase Pole Transformer</td>\n",
       "      <td>Original</td>\n",
       "      <td>70,3</td>\n",
       "      <td>30281</td>\n",
       "      <td>Above 150%</td>\n",
       "      <td>60,9028</td>\n",
       "      <td>16,12306</td>\n",
       "      <td>0</td>\n",
       "    </tr>\n",
       "    <tr>\n",
       "      <th>4</th>\n",
       "      <td>Yes</td>\n",
       "      <td>N</td>\n",
       "      <td>Siemens</td>\n",
       "      <td>No</td>\n",
       "      <td>No</td>\n",
       "      <td>No</td>\n",
       "      <td>1-Phase Pole Transformer</td>\n",
       "      <td>Original</td>\n",
       "      <td>70,3</td>\n",
       "      <td>30238</td>\n",
       "      <td>Above 150%</td>\n",
       "      <td>62,68</td>\n",
       "      <td>16,466</td>\n",
       "      <td>0</td>\n",
       "    </tr>\n",
       "  </tbody>\n",
       "</table>\n",
       "</div>"
      ],
      "text/plain": [
       "  VegMgmt PMLate        Manufacturer WaterExposure MultipleConnects Storm  \\\n",
       "0     Yes      N               Other            No              Yes    No   \n",
       "1     Yes      N  Schneider Electric            No               No    No   \n",
       "2     Yes      N               Other            No               No    No   \n",
       "3     Yes      N               Other            No              Yes    No   \n",
       "4     Yes      N             Siemens            No               No    No   \n",
       "\n",
       "                  AssetType    Repairs   Age AssetZip   Overloads Latitude  \\\n",
       "0  1-Phase Pole Transformer  Rebuild+3  70,3    30281  Below 100%  51,8781   \n",
       "1  1-Phase Pole Transformer  Rebuild+2  70,3    30068  Below 100%  56,9386   \n",
       "2  1-Phase Pole Transformer   Original  70,3    30091  Above 150%  60,9047   \n",
       "3  1-Phase Pole Transformer   Original  70,3    30281  Above 150%  60,9028   \n",
       "4  1-Phase Pole Transformer   Original  70,3    30238  Above 150%    62,68   \n",
       "\n",
       "  Longitude  Status  \n",
       "0  17,66461       1  \n",
       "1  15,41825       1  \n",
       "2  16,14225       0  \n",
       "3  16,12306       0  \n",
       "4    16,466       0  "
      ]
     },
     "execution_count": 53,
     "metadata": {},
     "output_type": "execute_result"
    }
   ],
   "source": [
    "dropped.head()"
   ]
  },
  {
   "cell_type": "code",
   "execution_count": 54,
   "metadata": {},
   "outputs": [
    {
     "data": {
      "text/html": [
       "<div>\n",
       "<style>\n",
       "    .dataframe thead tr:only-child th {\n",
       "        text-align: right;\n",
       "    }\n",
       "\n",
       "    .dataframe thead th {\n",
       "        text-align: left;\n",
       "    }\n",
       "\n",
       "    .dataframe tbody tr th {\n",
       "        vertical-align: top;\n",
       "    }\n",
       "</style>\n",
       "<table border=\"1\" class=\"dataframe\">\n",
       "  <thead>\n",
       "    <tr style=\"text-align: right;\">\n",
       "      <th></th>\n",
       "      <th>VegMgmt</th>\n",
       "      <th>PMLate</th>\n",
       "      <th>WaterExposure</th>\n",
       "      <th>MultipleConnects</th>\n",
       "      <th>Storm</th>\n",
       "      <th>Age</th>\n",
       "      <th>AssetZip</th>\n",
       "      <th>Latitude</th>\n",
       "      <th>Longitude</th>\n",
       "      <th>Status</th>\n",
       "      <th>...</th>\n",
       "      <th>Repairs_Rebuild+3</th>\n",
       "      <th>Overloads_100-120%</th>\n",
       "      <th>Overloads_120-150%</th>\n",
       "      <th>Overloads_Above 150%</th>\n",
       "      <th>Overloads_Below 100%</th>\n",
       "      <th>AssetType_1-Phase Pole Transformer</th>\n",
       "      <th>AssetType_3-Phase Transformer</th>\n",
       "      <th>AssetType_DF-series Transformer</th>\n",
       "      <th>AssetType_Padmount Transformer</th>\n",
       "      <th>AssetType_Voltage Transformer</th>\n",
       "    </tr>\n",
       "  </thead>\n",
       "  <tbody>\n",
       "    <tr>\n",
       "      <th>0</th>\n",
       "      <td>Yes</td>\n",
       "      <td>N</td>\n",
       "      <td>No</td>\n",
       "      <td>Yes</td>\n",
       "      <td>No</td>\n",
       "      <td>70,3</td>\n",
       "      <td>30281</td>\n",
       "      <td>51,8781</td>\n",
       "      <td>17,66461</td>\n",
       "      <td>1</td>\n",
       "      <td>...</td>\n",
       "      <td>1</td>\n",
       "      <td>0</td>\n",
       "      <td>0</td>\n",
       "      <td>0</td>\n",
       "      <td>1</td>\n",
       "      <td>1</td>\n",
       "      <td>0</td>\n",
       "      <td>0</td>\n",
       "      <td>0</td>\n",
       "      <td>0</td>\n",
       "    </tr>\n",
       "    <tr>\n",
       "      <th>1</th>\n",
       "      <td>Yes</td>\n",
       "      <td>N</td>\n",
       "      <td>No</td>\n",
       "      <td>No</td>\n",
       "      <td>No</td>\n",
       "      <td>70,3</td>\n",
       "      <td>30068</td>\n",
       "      <td>56,9386</td>\n",
       "      <td>15,41825</td>\n",
       "      <td>1</td>\n",
       "      <td>...</td>\n",
       "      <td>0</td>\n",
       "      <td>0</td>\n",
       "      <td>0</td>\n",
       "      <td>0</td>\n",
       "      <td>1</td>\n",
       "      <td>1</td>\n",
       "      <td>0</td>\n",
       "      <td>0</td>\n",
       "      <td>0</td>\n",
       "      <td>0</td>\n",
       "    </tr>\n",
       "    <tr>\n",
       "      <th>2</th>\n",
       "      <td>Yes</td>\n",
       "      <td>N</td>\n",
       "      <td>No</td>\n",
       "      <td>No</td>\n",
       "      <td>No</td>\n",
       "      <td>70,3</td>\n",
       "      <td>30091</td>\n",
       "      <td>60,9047</td>\n",
       "      <td>16,14225</td>\n",
       "      <td>0</td>\n",
       "      <td>...</td>\n",
       "      <td>0</td>\n",
       "      <td>0</td>\n",
       "      <td>0</td>\n",
       "      <td>1</td>\n",
       "      <td>0</td>\n",
       "      <td>1</td>\n",
       "      <td>0</td>\n",
       "      <td>0</td>\n",
       "      <td>0</td>\n",
       "      <td>0</td>\n",
       "    </tr>\n",
       "    <tr>\n",
       "      <th>3</th>\n",
       "      <td>Yes</td>\n",
       "      <td>N</td>\n",
       "      <td>No</td>\n",
       "      <td>Yes</td>\n",
       "      <td>No</td>\n",
       "      <td>70,3</td>\n",
       "      <td>30281</td>\n",
       "      <td>60,9028</td>\n",
       "      <td>16,12306</td>\n",
       "      <td>0</td>\n",
       "      <td>...</td>\n",
       "      <td>0</td>\n",
       "      <td>0</td>\n",
       "      <td>0</td>\n",
       "      <td>1</td>\n",
       "      <td>0</td>\n",
       "      <td>1</td>\n",
       "      <td>0</td>\n",
       "      <td>0</td>\n",
       "      <td>0</td>\n",
       "      <td>0</td>\n",
       "    </tr>\n",
       "    <tr>\n",
       "      <th>4</th>\n",
       "      <td>Yes</td>\n",
       "      <td>N</td>\n",
       "      <td>No</td>\n",
       "      <td>No</td>\n",
       "      <td>No</td>\n",
       "      <td>70,3</td>\n",
       "      <td>30238</td>\n",
       "      <td>62,68</td>\n",
       "      <td>16,466</td>\n",
       "      <td>0</td>\n",
       "      <td>...</td>\n",
       "      <td>0</td>\n",
       "      <td>0</td>\n",
       "      <td>0</td>\n",
       "      <td>1</td>\n",
       "      <td>0</td>\n",
       "      <td>1</td>\n",
       "      <td>0</td>\n",
       "      <td>0</td>\n",
       "      <td>0</td>\n",
       "      <td>0</td>\n",
       "    </tr>\n",
       "  </tbody>\n",
       "</table>\n",
       "<p>5 rows × 27 columns</p>\n",
       "</div>"
      ],
      "text/plain": [
       "  VegMgmt PMLate WaterExposure MultipleConnects Storm   Age AssetZip Latitude  \\\n",
       "0     Yes      N            No              Yes    No  70,3    30281  51,8781   \n",
       "1     Yes      N            No               No    No  70,3    30068  56,9386   \n",
       "2     Yes      N            No               No    No  70,3    30091  60,9047   \n",
       "3     Yes      N            No              Yes    No  70,3    30281  60,9028   \n",
       "4     Yes      N            No               No    No  70,3    30238    62,68   \n",
       "\n",
       "  Longitude  Status              ...                Repairs_Rebuild+3  \\\n",
       "0  17,66461       1              ...                                1   \n",
       "1  15,41825       1              ...                                0   \n",
       "2  16,14225       0              ...                                0   \n",
       "3  16,12306       0              ...                                0   \n",
       "4    16,466       0              ...                                0   \n",
       "\n",
       "   Overloads_100-120%  Overloads_120-150%  Overloads_Above 150%  \\\n",
       "0                   0                   0                     0   \n",
       "1                   0                   0                     0   \n",
       "2                   0                   0                     1   \n",
       "3                   0                   0                     1   \n",
       "4                   0                   0                     1   \n",
       "\n",
       "   Overloads_Below 100%  AssetType_1-Phase Pole Transformer  \\\n",
       "0                     1                                   1   \n",
       "1                     1                                   1   \n",
       "2                     0                                   1   \n",
       "3                     0                                   1   \n",
       "4                     0                                   1   \n",
       "\n",
       "   AssetType_3-Phase Transformer  AssetType_DF-series Transformer  \\\n",
       "0                              0                                0   \n",
       "1                              0                                0   \n",
       "2                              0                                0   \n",
       "3                              0                                0   \n",
       "4                              0                                0   \n",
       "\n",
       "   AssetType_Padmount Transformer  AssetType_Voltage Transformer  \n",
       "0                               0                              0  \n",
       "1                               0                              0  \n",
       "2                               0                              0  \n",
       "3                               0                              0  \n",
       "4                               0                              0  \n",
       "\n",
       "[5 rows x 27 columns]"
      ]
     },
     "execution_count": 54,
     "metadata": {},
     "output_type": "execute_result"
    }
   ],
   "source": [
    "CurrentMakeDummies(['Manufacturer',\n",
    "                    'Repairs',\n",
    "                    'Overloads',\n",
    "                    'AssetType']).fit_transform(dropped).head()"
   ]
  },
  {
   "cell_type": "code",
   "execution_count": 55,
   "metadata": {
    "collapsed": true
   },
   "outputs": [],
   "source": [
    "Binarize(['VegMgmt',\n",
    "          'PMLate',\n",
    "          'WaterExposure',\n",
    "          'MultipleConnects',\n",
    "          'Storm']).fit_transform(dropped);"
   ]
  },
  {
   "cell_type": "code",
   "execution_count": 56,
   "metadata": {
    "collapsed": true,
    "scrolled": true
   },
   "outputs": [],
   "source": [
    "ChangeTypes(['Age', 'AssetZip'], [lambda x: float(x.replace(',', '.')),\n",
    "                                  custom_zip_cleaning]).fit_transform(dropped);"
   ]
  },
  {
   "cell_type": "markdown",
   "metadata": {
    "collapsed": true
   },
   "source": [
    "## Pipeline Finale"
   ]
  },
  {
   "cell_type": "code",
   "execution_count": null,
   "metadata": {
    "scrolled": true
   },
   "outputs": [],
   "source": [
    "pipe = make_pipeline(DropColumns(['AssetCity',\n",
    "                                  'AssetId',\n",
    "                                  'AvgRepairCost',\n",
    "                                  'AssetState',\n",
    "                                  'MilesFromOcean',\n",
    "                                  'AssetLocation',\n",
    "                                  'locationID',\n",
    "                                  'Latitude1',\n",
    "                                  'Longitude1']),\n",
    "                     CurrentMakeDummies(['Manufacturer',\n",
    "                                         'Repairs',\n",
    "                                         'Overloads',\n",
    "                                         'AssetType']),\n",
    "                     ChangeTypes(['Age', 'AssetZip'],\n",
    "                                 [lambda x: float(x.replace(',', '.')),\n",
    "                                  custom_zip_cleaning]),\n",
    "                     Binarize(['VegMgmt',\n",
    "                               'PMLate',\n",
    "                               'WaterExposure',\n",
    "                               'MultipleConnects',\n",
    "                               'Storm']),\n",
    "                     AddressLatLong())\n",
    "transformed = pipe.fit_transform(df)"
   ]
  },
  {
   "cell_type": "code",
   "execution_count": null,
   "metadata": {
    "collapsed": true,
    "scrolled": true
   },
   "outputs": [],
   "source": [
    "transformed['Latitude'].value_counts();"
   ]
  },
  {
   "cell_type": "code",
   "execution_count": null,
   "metadata": {
    "collapsed": true
   },
   "outputs": [],
   "source": []
  }
 ],
 "metadata": {
  "kernelspec": {
   "display_name": "Python 3",
   "language": "python",
   "name": "python3"
  },
  "language_info": {
   "codemirror_mode": {
    "name": "ipython",
    "version": 3
   },
   "file_extension": ".py",
   "mimetype": "text/x-python",
   "name": "python",
   "nbconvert_exporter": "python",
   "pygments_lexer": "ipython3",
   "version": "3.6.4"
  }
 },
 "nbformat": 4,
 "nbformat_minor": 2
}
