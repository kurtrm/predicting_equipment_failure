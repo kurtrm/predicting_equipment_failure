{
 "cells": [
  {
   "cell_type": "code",
   "execution_count": 1,
   "metadata": {
    "collapsed": true
   },
   "outputs": [],
   "source": [
    "import numpy as np\n",
    "import scipy.stats as scs\n",
    "import matplotlib.pyplot as plt\n",
    "import pandas as pd\n",
    "%matplotlib inline\n",
    "from IPython.core.interactiveshell import InteractiveShell\n",
    "InteractiveShell.ast_node_interactivity = 'all'"
   ]
  },
  {
   "cell_type": "code",
   "execution_count": 2,
   "metadata": {
    "collapsed": true
   },
   "outputs": [],
   "source": [
    "df = pd.read_csv('/mnt/c/Users/kurtrm/Downloads/bigml_5acff779eba31d156f0000fa.csv')"
   ]
  },
  {
   "cell_type": "code",
   "execution_count": 6,
   "metadata": {},
   "outputs": [
    {
     "data": {
      "text/plain": [
       "No     8703\n",
       "Yes      81\n",
       "Name: Failure, dtype: int64"
      ]
     },
     "execution_count": 6,
     "metadata": {},
     "output_type": "execute_result"
    }
   ],
   "source": [
    "df['Failure'].value_counts()"
   ]
  },
  {
   "cell_type": "code",
   "execution_count": 13,
   "metadata": {
    "collapsed": true
   },
   "outputs": [],
   "source": [
    "measures = [f'Measure{i}' for i in range(1, 16)]"
   ]
  },
  {
   "cell_type": "code",
   "execution_count": 14,
   "metadata": {},
   "outputs": [
    {
     "data": {
      "text/plain": [
       "Index(['Date', 'Temperature', 'Humidity', 'Operator', 'Measure1', 'Measure2',\n",
       "       'Measure3', 'Measure4', 'Measure5', 'Measure6', 'Measure7', 'Measure8',\n",
       "       'Measure9', 'Measure10', 'Measure11', 'Measure12', 'Measure13',\n",
       "       'Measure14', 'Measure15', 'Hours Since Previous Failure', 'Failure',\n",
       "       '﻿Date.year', '﻿Date.month', '﻿Date.day-of-month', '﻿Date.day-of-week',\n",
       "       '﻿Date.hour', '﻿Date.minute', '﻿Date.second'],\n",
       "      dtype='object')"
      ]
     },
     "execution_count": 14,
     "metadata": {},
     "output_type": "execute_result"
    }
   ],
   "source": [
    "df.columns"
   ]
  },
  {
   "cell_type": "code",
   "execution_count": 15,
   "metadata": {},
   "outputs": [
    {
     "data": {
      "text/plain": [
       "['Measure1',\n",
       " 'Measure2',\n",
       " 'Measure3',\n",
       " 'Measure4',\n",
       " 'Measure5',\n",
       " 'Measure6',\n",
       " 'Measure7',\n",
       " 'Measure8',\n",
       " 'Measure9',\n",
       " 'Measure10',\n",
       " 'Measure11',\n",
       " 'Measure12',\n",
       " 'Measure13',\n",
       " 'Measure14',\n",
       " 'Measure15']"
      ]
     },
     "execution_count": 15,
     "metadata": {},
     "output_type": "execute_result"
    }
   ],
   "source": [
    "measures"
   ]
  },
  {
   "cell_type": "code",
   "execution_count": 19,
   "metadata": {
    "scrolled": true
   },
   "outputs": [
    {
     "name": "stdout",
     "output_type": "stream",
     "text": [
      "<class 'pandas.core.frame.DataFrame'>\n",
      "RangeIndex: 8784 entries, 0 to 8783\n",
      "Data columns (total 15 columns):\n",
      "Measure1     8784 non-null int64\n",
      "Measure2     8784 non-null int64\n",
      "Measure3     8784 non-null int64\n",
      "Measure4     8784 non-null int64\n",
      "Measure5     8784 non-null int64\n",
      "Measure6     8784 non-null int64\n",
      "Measure7     8784 non-null int64\n",
      "Measure8     8784 non-null int64\n",
      "Measure9     8784 non-null int64\n",
      "Measure10    8784 non-null int64\n",
      "Measure11    8784 non-null int64\n",
      "Measure12    8784 non-null int64\n",
      "Measure13    8784 non-null int64\n",
      "Measure14    8784 non-null int64\n",
      "Measure15    8784 non-null int64\n",
      "dtypes: int64(15)\n",
      "memory usage: 1.0 MB\n"
     ]
    }
   ],
   "source": [
    "df[measures].info()"
   ]
  },
  {
   "cell_type": "code",
   "execution_count": 18,
   "metadata": {},
   "outputs": [
    {
     "data": {
      "text/html": [
       "<div>\n",
       "<style>\n",
       "    .dataframe thead tr:only-child th {\n",
       "        text-align: right;\n",
       "    }\n",
       "\n",
       "    .dataframe thead th {\n",
       "        text-align: left;\n",
       "    }\n",
       "\n",
       "    .dataframe tbody tr th {\n",
       "        vertical-align: top;\n",
       "    }\n",
       "</style>\n",
       "<table border=\"1\" class=\"dataframe\">\n",
       "  <thead>\n",
       "    <tr style=\"text-align: right;\">\n",
       "      <th></th>\n",
       "      <th>Measure1</th>\n",
       "      <th>Measure2</th>\n",
       "      <th>Measure3</th>\n",
       "      <th>Measure4</th>\n",
       "      <th>Measure5</th>\n",
       "      <th>Measure6</th>\n",
       "      <th>Measure7</th>\n",
       "      <th>Measure8</th>\n",
       "      <th>Measure9</th>\n",
       "      <th>Measure10</th>\n",
       "      <th>Measure11</th>\n",
       "      <th>Measure12</th>\n",
       "      <th>Measure13</th>\n",
       "      <th>Measure14</th>\n",
       "      <th>Measure15</th>\n",
       "    </tr>\n",
       "  </thead>\n",
       "  <tbody>\n",
       "    <tr>\n",
       "      <th>0</th>\n",
       "      <td>291</td>\n",
       "      <td>1</td>\n",
       "      <td>1</td>\n",
       "      <td>1041</td>\n",
       "      <td>846</td>\n",
       "      <td>334</td>\n",
       "      <td>706</td>\n",
       "      <td>1086</td>\n",
       "      <td>256</td>\n",
       "      <td>1295</td>\n",
       "      <td>766</td>\n",
       "      <td>968</td>\n",
       "      <td>1185</td>\n",
       "      <td>1355</td>\n",
       "      <td>1842</td>\n",
       "    </tr>\n",
       "    <tr>\n",
       "      <th>1</th>\n",
       "      <td>1180</td>\n",
       "      <td>1</td>\n",
       "      <td>1</td>\n",
       "      <td>1915</td>\n",
       "      <td>1194</td>\n",
       "      <td>637</td>\n",
       "      <td>1093</td>\n",
       "      <td>524</td>\n",
       "      <td>919</td>\n",
       "      <td>245</td>\n",
       "      <td>403</td>\n",
       "      <td>723</td>\n",
       "      <td>1446</td>\n",
       "      <td>719</td>\n",
       "      <td>748</td>\n",
       "    </tr>\n",
       "    <tr>\n",
       "      <th>2</th>\n",
       "      <td>1406</td>\n",
       "      <td>1</td>\n",
       "      <td>1</td>\n",
       "      <td>511</td>\n",
       "      <td>1577</td>\n",
       "      <td>1121</td>\n",
       "      <td>1948</td>\n",
       "      <td>1882</td>\n",
       "      <td>1301</td>\n",
       "      <td>273</td>\n",
       "      <td>1927</td>\n",
       "      <td>1123</td>\n",
       "      <td>717</td>\n",
       "      <td>1518</td>\n",
       "      <td>1689</td>\n",
       "    </tr>\n",
       "    <tr>\n",
       "      <th>3</th>\n",
       "      <td>550</td>\n",
       "      <td>1</td>\n",
       "      <td>1</td>\n",
       "      <td>1754</td>\n",
       "      <td>1834</td>\n",
       "      <td>1413</td>\n",
       "      <td>1151</td>\n",
       "      <td>945</td>\n",
       "      <td>1312</td>\n",
       "      <td>1494</td>\n",
       "      <td>1755</td>\n",
       "      <td>1434</td>\n",
       "      <td>502</td>\n",
       "      <td>1336</td>\n",
       "      <td>711</td>\n",
       "    </tr>\n",
       "    <tr>\n",
       "      <th>4</th>\n",
       "      <td>1928</td>\n",
       "      <td>1</td>\n",
       "      <td>2</td>\n",
       "      <td>1326</td>\n",
       "      <td>1082</td>\n",
       "      <td>233</td>\n",
       "      <td>1441</td>\n",
       "      <td>1736</td>\n",
       "      <td>1033</td>\n",
       "      <td>1549</td>\n",
       "      <td>802</td>\n",
       "      <td>1819</td>\n",
       "      <td>1616</td>\n",
       "      <td>1507</td>\n",
       "      <td>507</td>\n",
       "    </tr>\n",
       "  </tbody>\n",
       "</table>\n",
       "</div>"
      ],
      "text/plain": [
       "   Measure1  Measure2  Measure3  Measure4  Measure5  Measure6  Measure7  \\\n",
       "0       291         1         1      1041       846       334       706   \n",
       "1      1180         1         1      1915      1194       637      1093   \n",
       "2      1406         1         1       511      1577      1121      1948   \n",
       "3       550         1         1      1754      1834      1413      1151   \n",
       "4      1928         1         2      1326      1082       233      1441   \n",
       "\n",
       "   Measure8  Measure9  Measure10  Measure11  Measure12  Measure13  Measure14  \\\n",
       "0      1086       256       1295        766        968       1185       1355   \n",
       "1       524       919        245        403        723       1446        719   \n",
       "2      1882      1301        273       1927       1123        717       1518   \n",
       "3       945      1312       1494       1755       1434        502       1336   \n",
       "4      1736      1033       1549        802       1819       1616       1507   \n",
       "\n",
       "   Measure15  \n",
       "0       1842  \n",
       "1        748  \n",
       "2       1689  \n",
       "3        711  \n",
       "4        507  "
      ]
     },
     "execution_count": 18,
     "metadata": {},
     "output_type": "execute_result"
    }
   ],
   "source": [
    "df[measures].head()"
   ]
  },
  {
   "cell_type": "code",
   "execution_count": 20,
   "metadata": {
    "collapsed": true
   },
   "outputs": [],
   "source": [
    "fake_categories = ['discharge_pressure', 'suction_pressure', 'differential_pressure', 'rotor_temperature', 'packing_leakage_rate',\n",
    "                   'axial_bearing_temp', 'horizontal_bearing_temp', 'frequency', 'noise', 'voltage', 'current', 'speed',\n",
    "                   'system_pressure', 'suction_fluid_temperature', 'discharge_fluid_temperature']"
   ]
  },
  {
   "cell_type": "code",
   "execution_count": null,
   "metadata": {
    "collapsed": true
   },
   "outputs": [],
   "source": []
  }
 ],
 "metadata": {
  "kernelspec": {
   "display_name": "Python 3",
   "language": "python",
   "name": "python3"
  },
  "language_info": {
   "codemirror_mode": {
    "name": "ipython",
    "version": 3
   },
   "file_extension": ".py",
   "mimetype": "text/x-python",
   "name": "python",
   "nbconvert_exporter": "python",
   "pygments_lexer": "ipython3",
   "version": "3.6.4"
  }
 },
 "nbformat": 4,
 "nbformat_minor": 2
}
