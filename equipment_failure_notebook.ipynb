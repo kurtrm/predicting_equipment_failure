{
 "cells": [
  {
   "cell_type": "code",
   "execution_count": 1,
   "metadata": {
    "collapsed": true
   },
   "outputs": [],
   "source": [
    "import numpy as np\n",
    "import scipy.stats as scs\n",
    "import matplotlib.pyplot as plt\n",
    "import pandas as pd\n",
    "%matplotlib inline\n",
    "from IPython.core.interactiveshell import InteractiveShell\n",
    "InteractiveShell.ast_node_interactivity = 'all'"
   ]
  },
  {
   "cell_type": "code",
   "execution_count": 24,
   "metadata": {
    "collapsed": true
   },
   "outputs": [],
   "source": [
    "raw_df = pd.read_csv('/mnt/c/Users/kurtrm/Downloads/bigml_5acff779eba31d156f0000fa.csv')"
   ]
  },
  {
   "cell_type": "code",
   "execution_count": 25,
   "metadata": {},
   "outputs": [
    {
     "data": {
      "text/plain": [
       "No     8703\n",
       "Yes      81\n",
       "Name: Failure, dtype: int64"
      ]
     },
     "execution_count": 25,
     "metadata": {},
     "output_type": "execute_result"
    }
   ],
   "source": [
    "raw_df['Failure'].value_counts()"
   ]
  },
  {
   "cell_type": "code",
   "execution_count": 26,
   "metadata": {},
   "outputs": [
    {
     "data": {
      "text/plain": [
       "Index(['Date', 'Temperature', 'Humidity', 'Operator', 'Measure1', 'Measure2',\n",
       "       'Measure3', 'Measure4', 'Measure5', 'Measure6', 'Measure7', 'Measure8',\n",
       "       'Measure9', 'Measure10', 'Measure11', 'Measure12', 'Measure13',\n",
       "       'Measure14', 'Measure15', 'Hours Since Previous Failure', 'Failure',\n",
       "       '﻿Date.year', '﻿Date.month', '﻿Date.day-of-month', '﻿Date.day-of-week',\n",
       "       '﻿Date.hour', '﻿Date.minute', '﻿Date.second'],\n",
       "      dtype='object')"
      ]
     },
     "execution_count": 26,
     "metadata": {},
     "output_type": "execute_result"
    }
   ],
   "source": [
    "raw_df.columns"
   ]
  },
  {
   "cell_type": "markdown",
   "metadata": {},
   "source": [
    "Fifteen columns have generic names. In the spirit of creativity, I renamed these columns to readings that we may actually see on equipment logs, though their values may be unrealistic to what we could expect of these readings. "
   ]
  },
  {
   "cell_type": "code",
   "execution_count": 27,
   "metadata": {
    "scrolled": true
   },
   "outputs": [
    {
     "name": "stdout",
     "output_type": "stream",
     "text": [
      "<class 'pandas.core.frame.DataFrame'>\n",
      "RangeIndex: 8784 entries, 0 to 8783\n",
      "Data columns (total 15 columns):\n",
      "Measure1     8784 non-null int64\n",
      "Measure2     8784 non-null int64\n",
      "Measure3     8784 non-null int64\n",
      "Measure4     8784 non-null int64\n",
      "Measure5     8784 non-null int64\n",
      "Measure6     8784 non-null int64\n",
      "Measure7     8784 non-null int64\n",
      "Measure8     8784 non-null int64\n",
      "Measure9     8784 non-null int64\n",
      "Measure10    8784 non-null int64\n",
      "Measure11    8784 non-null int64\n",
      "Measure12    8784 non-null int64\n",
      "Measure13    8784 non-null int64\n",
      "Measure14    8784 non-null int64\n",
      "Measure15    8784 non-null int64\n",
      "dtypes: int64(15)\n",
      "memory usage: 1.0 MB\n"
     ]
    }
   ],
   "source": [
    "raw_df[[f'Measure{i}' for i in range(1, 16)]].info()"
   ]
  },
  {
   "cell_type": "code",
   "execution_count": 20,
   "metadata": {
    "collapsed": true
   },
   "outputs": [],
   "source": [
    "fake_categories = ['discharge_pressure', 'suction_pressure', 'differential_pressure', 'rotor_temperature', 'packing_leakage_rate',\n",
    "                   'axial_bearing_temp', 'horizontal_bearing_temp', 'frequency', 'noise', 'voltage', 'current', 'speed',\n",
    "                   'system_pressure', 'suction_fluid_temperature', 'discharge_fluid_temperature']"
   ]
  },
  {
   "cell_type": "code",
   "execution_count": 34,
   "metadata": {},
   "outputs": [],
   "source": [
    "replacements = {key: value for key, value in zip([f'Measure{i}' for i in range(1, 16)], fake_categories)}\n",
    "new_columns = [name if name not in replacements else replacements[name] for name in raw_df.columns]"
   ]
  },
  {
   "cell_type": "code",
   "execution_count": 38,
   "metadata": {},
   "outputs": [
    {
     "data": {
      "text/plain": [
       "['Date',\n",
       " 'Temperature',\n",
       " 'Humidity',\n",
       " 'Operator',\n",
       " 'discharge_pressure',\n",
       " 'suction_pressure',\n",
       " 'differential_pressure',\n",
       " 'rotor_temperature',\n",
       " 'packing_leakage_rate',\n",
       " 'axial_bearing_temp',\n",
       " 'horizontal_bearing_temp',\n",
       " 'frequency',\n",
       " 'noise',\n",
       " 'voltage',\n",
       " 'current',\n",
       " 'speed',\n",
       " 'system_pressure',\n",
       " 'suction_fluid_temperature',\n",
       " 'discharge_fluid_temperature',\n",
       " 'Hours Since Previous Failure',\n",
       " 'Failure',\n",
       " '\\ufeffDate.year',\n",
       " '\\ufeffDate.month',\n",
       " '\\ufeffDate.day-of-month',\n",
       " '\\ufeffDate.day-of-week',\n",
       " '\\ufeffDate.hour',\n",
       " '\\ufeffDate.minute',\n",
       " '\\ufeffDate.second']"
      ]
     },
     "execution_count": 38,
     "metadata": {},
     "output_type": "execute_result"
    }
   ],
   "source": [
    "new_columns"
   ]
  },
  {
   "cell_type": "markdown",
   "metadata": {},
   "source": [
    "There are some odd strings in the 'Date.' categories. I'll clean those up."
   ]
  },
  {
   "cell_type": "code",
   "execution_count": 39,
   "metadata": {},
   "outputs": [
    {
     "data": {
      "text/plain": [
       "0       2016-01-01 00:00:00\n",
       "1       2016-01-01 01:00:00\n",
       "2       2016-01-01 02:00:00\n",
       "3       2016-01-01 03:00:00\n",
       "4       2016-01-01 04:00:00\n",
       "5       2016-01-01 05:00:00\n",
       "6       2016-01-01 06:00:00\n",
       "7       2016-01-01 07:00:00\n",
       "8       2016-01-01 08:00:00\n",
       "9       2016-01-01 09:00:00\n",
       "10      2016-01-01 10:00:00\n",
       "11      2016-01-01 11:00:00\n",
       "12      2016-01-01 12:00:00\n",
       "13      2016-01-01 13:00:00\n",
       "14      2016-01-01 14:00:00\n",
       "15      2016-01-01 15:00:00\n",
       "16      2016-01-01 16:00:00\n",
       "17      2016-01-01 17:00:00\n",
       "18      2016-01-01 18:00:00\n",
       "19      2016-01-01 19:00:00\n",
       "20      2016-01-01 20:00:00\n",
       "21      2016-01-01 21:00:00\n",
       "22      2016-01-01 22:00:00\n",
       "23      2016-01-01 23:00:00\n",
       "24      2016-01-02 00:00:00\n",
       "25      2016-01-02 01:00:00\n",
       "26      2016-01-02 02:00:00\n",
       "27      2016-01-02 03:00:00\n",
       "28      2016-01-02 04:00:00\n",
       "29      2016-01-02 05:00:00\n",
       "               ...         \n",
       "8754    2016-12-30 18:00:00\n",
       "8755    2016-12-30 19:00:00\n",
       "8756    2016-12-30 20:00:00\n",
       "8757    2016-12-30 21:00:00\n",
       "8758    2016-12-30 22:00:00\n",
       "8759    2016-12-30 23:00:00\n",
       "8760    2016-12-31 00:00:00\n",
       "8761    2016-12-31 01:00:00\n",
       "8762    2016-12-31 02:00:00\n",
       "8763    2016-12-31 03:00:00\n",
       "8764    2016-12-31 04:00:00\n",
       "8765    2016-12-31 05:00:00\n",
       "8766    2016-12-31 06:00:00\n",
       "8767    2016-12-31 07:00:00\n",
       "8768    2016-12-31 08:00:00\n",
       "8769    2016-12-31 09:00:00\n",
       "8770    2016-12-31 10:00:00\n",
       "8771    2016-12-31 11:00:00\n",
       "8772    2016-12-31 12:00:00\n",
       "8773    2016-12-31 13:00:00\n",
       "8774    2016-12-31 14:00:00\n",
       "8775    2016-12-31 15:00:00\n",
       "8776    2016-12-31 16:00:00\n",
       "8777    2016-12-31 17:00:00\n",
       "8778    2016-12-31 18:00:00\n",
       "8779    2016-12-31 19:00:00\n",
       "8780    2016-12-31 20:00:00\n",
       "8781    2016-12-31 21:00:00\n",
       "8782    2016-12-31 22:00:00\n",
       "8783    2016-12-31 23:00:00\n",
       "Name: Date, Length: 8784, dtype: object"
      ]
     },
     "execution_count": 39,
     "metadata": {},
     "output_type": "execute_result"
    }
   ],
   "source": [
    "raw_df['Date']"
   ]
  },
  {
   "cell_type": "code",
   "execution_count": null,
   "metadata": {
    "collapsed": true
   },
   "outputs": [],
   "source": []
  }
 ],
 "metadata": {
  "kernelspec": {
   "display_name": "Python 3",
   "language": "python",
   "name": "python3"
  },
  "language_info": {
   "codemirror_mode": {
    "name": "ipython",
    "version": 3
   },
   "file_extension": ".py",
   "mimetype": "text/x-python",
   "name": "python",
   "nbconvert_exporter": "python",
   "pygments_lexer": "ipython3",
   "version": "3.6.4"
  }
 },
 "nbformat": 4,
 "nbformat_minor": 2
}
