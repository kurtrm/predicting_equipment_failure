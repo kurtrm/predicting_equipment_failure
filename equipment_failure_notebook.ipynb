{
 "cells": [
  {
   "cell_type": "code",
   "execution_count": 1,
   "metadata": {
    "collapsed": true
   },
   "outputs": [],
   "source": [
    "import numpy as np\n",
    "import scipy.stats as scs\n",
    "import matplotlib.pyplot as plt\n",
    "import pandas as pd\n",
    "%matplotlib inline\n",
    "from IPython.core.interactiveshell import InteractiveShell\n",
    "InteractiveShell.ast_node_interactivity = 'all'"
   ]
  },
  {
   "cell_type": "code",
   "execution_count": 2,
   "metadata": {},
   "outputs": [
    {
     "name": "stderr",
     "output_type": "stream",
     "text": [
      "/home/kurtrm/anaconda/lib/python3.6/site-packages/sklearn/cross_validation.py:41: DeprecationWarning: This module was deprecated in version 0.18 in favor of the model_selection module into which all the refactored classes and functions are moved. Also note that the interface of the new CV iterators are different from that of this module. This module will be removed in 0.20.\n",
      "  \"This module will be removed in 0.20.\", DeprecationWarning)\n",
      "/home/kurtrm/anaconda/lib/python3.6/site-packages/sklearn/grid_search.py:42: DeprecationWarning: This module was deprecated in version 0.18 in favor of the model_selection module into which all the refactored classes and functions are moved. This module will be removed in 0.20.\n",
      "  DeprecationWarning)\n"
     ]
    }
   ],
   "source": [
    "from sklearn.preprocessing import LabelBinarizer\n",
    "from sklearn.pipeline import Pipeline, FeatureUnion\n",
    "from sklearn.model_selection import train_test_split\n",
    "from sklearn.linear_model import LogisticRegression\n",
    "from sklearn.ensemble import RandomForestClassifier, GradientBoostingClassifier\n",
    "from sklearn.grid_search import GridSearchCV"
   ]
  },
  {
   "cell_type": "code",
   "execution_count": 3,
   "metadata": {
    "collapsed": true
   },
   "outputs": [],
   "source": [
    "raw_df = pd.read_csv('/mnt/c/Users/kurtrm/Downloads/bigml_5acff779eba31d156f0000fa.csv')"
   ]
  },
  {
   "cell_type": "code",
   "execution_count": 4,
   "metadata": {},
   "outputs": [
    {
     "data": {
      "text/plain": [
       "No     8703\n",
       "Yes      81\n",
       "Name: Failure, dtype: int64"
      ]
     },
     "execution_count": 4,
     "metadata": {},
     "output_type": "execute_result"
    }
   ],
   "source": [
    "raw_df['Failure'].value_counts()"
   ]
  },
  {
   "cell_type": "code",
   "execution_count": 5,
   "metadata": {},
   "outputs": [
    {
     "data": {
      "text/plain": [
       "Index(['Date', 'Temperature', 'Humidity', 'Operator', 'Measure1', 'Measure2',\n",
       "       'Measure3', 'Measure4', 'Measure5', 'Measure6', 'Measure7', 'Measure8',\n",
       "       'Measure9', 'Measure10', 'Measure11', 'Measure12', 'Measure13',\n",
       "       'Measure14', 'Measure15', 'Hours Since Previous Failure', 'Failure',\n",
       "       '﻿Date.year', '﻿Date.month', '﻿Date.day-of-month', '﻿Date.day-of-week',\n",
       "       '﻿Date.hour', '﻿Date.minute', '﻿Date.second'],\n",
       "      dtype='object')"
      ]
     },
     "execution_count": 5,
     "metadata": {},
     "output_type": "execute_result"
    }
   ],
   "source": [
    "raw_df.columns"
   ]
  },
  {
   "cell_type": "markdown",
   "metadata": {},
   "source": [
    "Fifteen columns have generic names. In the spirit of creativity, I renamed these columns to readings that we may actually see on equipment logs, though their values may be unrealistic to what we could expect of these readings. "
   ]
  },
  {
   "cell_type": "code",
   "execution_count": 6,
   "metadata": {
    "scrolled": true
   },
   "outputs": [
    {
     "name": "stdout",
     "output_type": "stream",
     "text": [
      "<class 'pandas.core.frame.DataFrame'>\n",
      "RangeIndex: 8784 entries, 0 to 8783\n",
      "Data columns (total 15 columns):\n",
      "Measure1     8784 non-null int64\n",
      "Measure2     8784 non-null int64\n",
      "Measure3     8784 non-null int64\n",
      "Measure4     8784 non-null int64\n",
      "Measure5     8784 non-null int64\n",
      "Measure6     8784 non-null int64\n",
      "Measure7     8784 non-null int64\n",
      "Measure8     8784 non-null int64\n",
      "Measure9     8784 non-null int64\n",
      "Measure10    8784 non-null int64\n",
      "Measure11    8784 non-null int64\n",
      "Measure12    8784 non-null int64\n",
      "Measure13    8784 non-null int64\n",
      "Measure14    8784 non-null int64\n",
      "Measure15    8784 non-null int64\n",
      "dtypes: int64(15)\n",
      "memory usage: 1.0 MB\n"
     ]
    }
   ],
   "source": [
    "raw_df[[f'Measure{i}' for i in range(1, 16)]].info()"
   ]
  },
  {
   "cell_type": "code",
   "execution_count": 7,
   "metadata": {
    "collapsed": true
   },
   "outputs": [],
   "source": [
    "fake_categories = ['discharge_pressure', 'suction_pressure', 'differential_pressure', 'rotor_temperature', 'packing_leakage_rate',\n",
    "                   'axial_bearing_temp', 'horizontal_bearing_temp', 'frequency', 'noise', 'voltage', 'current', 'speed',\n",
    "                   'system_pressure', 'suction_fluid_temperature', 'discharge_fluid_temperature']"
   ]
  },
  {
   "cell_type": "code",
   "execution_count": 8,
   "metadata": {
    "collapsed": true
   },
   "outputs": [],
   "source": [
    "replacements = {key: value for key, value in zip([f'Measure{i}' for i in range(1, 16)], fake_categories)}\n",
    "new_columns = [name if name not in replacements else replacements[name] for name in raw_df.columns]"
   ]
  },
  {
   "cell_type": "code",
   "execution_count": 9,
   "metadata": {},
   "outputs": [
    {
     "data": {
      "text/plain": [
       "['Date',\n",
       " 'Temperature',\n",
       " 'Humidity',\n",
       " 'Operator',\n",
       " 'discharge_pressure',\n",
       " 'suction_pressure',\n",
       " 'differential_pressure',\n",
       " 'rotor_temperature',\n",
       " 'packing_leakage_rate',\n",
       " 'axial_bearing_temp',\n",
       " 'horizontal_bearing_temp',\n",
       " 'frequency',\n",
       " 'noise',\n",
       " 'voltage',\n",
       " 'current',\n",
       " 'speed',\n",
       " 'system_pressure',\n",
       " 'suction_fluid_temperature',\n",
       " 'discharge_fluid_temperature',\n",
       " 'Hours Since Previous Failure',\n",
       " 'Failure',\n",
       " '\\ufeffDate.year',\n",
       " '\\ufeffDate.month',\n",
       " '\\ufeffDate.day-of-month',\n",
       " '\\ufeffDate.day-of-week',\n",
       " '\\ufeffDate.hour',\n",
       " '\\ufeffDate.minute',\n",
       " '\\ufeffDate.second']"
      ]
     },
     "execution_count": 9,
     "metadata": {},
     "output_type": "execute_result"
    }
   ],
   "source": [
    "new_columns"
   ]
  },
  {
   "cell_type": "markdown",
   "metadata": {},
   "source": [
    "There are some odd strings in the 'Date.' categories. I'll clean those up."
   ]
  },
  {
   "cell_type": "code",
   "execution_count": 10,
   "metadata": {
    "collapsed": true
   },
   "outputs": [],
   "source": [
    "new_columns[-7:] = ['year', 'month', 'day-of-month', 'day-of-week', 'hour', 'minute', 'second']"
   ]
  },
  {
   "cell_type": "code",
   "execution_count": 11,
   "metadata": {
    "collapsed": true
   },
   "outputs": [],
   "source": [
    "raw_df.columns = new_columns"
   ]
  },
  {
   "cell_type": "markdown",
   "metadata": {},
   "source": [
    "Next, change the 'Date' column datatype to datetime objects."
   ]
  },
  {
   "cell_type": "code",
   "execution_count": 12,
   "metadata": {
    "collapsed": true
   },
   "outputs": [],
   "source": [
    "raw_df['Date'] = pd.to_datetime(raw_df['Date'])"
   ]
  },
  {
   "cell_type": "code",
   "execution_count": 13,
   "metadata": {
    "collapsed": true
   },
   "outputs": [],
   "source": [
    "one_hot = LabelBinarizer()\n",
    "binary_labels = one_hot.fit_transform(raw_df['Failure'].values)"
   ]
  },
  {
   "cell_type": "code",
   "execution_count": 14,
   "metadata": {
    "collapsed": true
   },
   "outputs": [],
   "source": [
    "raw_df['Failure'] = binary_labels"
   ]
  },
  {
   "cell_type": "code",
   "execution_count": 15,
   "metadata": {},
   "outputs": [
    {
     "data": {
      "text/plain": [
       "Operator2    1952\n",
       "Operator6     976\n",
       "Operator8     976\n",
       "Operator3     976\n",
       "Operator4     976\n",
       "Operator1     976\n",
       "Operator5     976\n",
       "Operator7     976\n",
       "Name: Operator, dtype: int64"
      ]
     },
     "execution_count": 15,
     "metadata": {},
     "output_type": "execute_result"
    }
   ],
   "source": [
    "raw_df.Operator.value_counts()"
   ]
  },
  {
   "cell_type": "code",
   "execution_count": 16,
   "metadata": {
    "collapsed": true
   },
   "outputs": [],
   "source": [
    "operator_dummies = pd.get_dummies(raw_df['Operator'])"
   ]
  },
  {
   "cell_type": "code",
   "execution_count": 17,
   "metadata": {
    "collapsed": true
   },
   "outputs": [],
   "source": [
    "equipment_df = pd.concat([raw_df.drop('Operator', axis=1), operator_dummies], axis=1)"
   ]
  },
  {
   "cell_type": "code",
   "execution_count": 18,
   "metadata": {
    "collapsed": true
   },
   "outputs": [],
   "source": [
    "equipment_df = equipment_df.drop(['minute', 'second'], axis=1)"
   ]
  },
  {
   "cell_type": "code",
   "execution_count": 19,
   "metadata": {},
   "outputs": [
    {
     "data": {
      "text/html": [
       "<div>\n",
       "<style>\n",
       "    .dataframe thead tr:only-child th {\n",
       "        text-align: right;\n",
       "    }\n",
       "\n",
       "    .dataframe thead th {\n",
       "        text-align: left;\n",
       "    }\n",
       "\n",
       "    .dataframe tbody tr th {\n",
       "        vertical-align: top;\n",
       "    }\n",
       "</style>\n",
       "<table border=\"1\" class=\"dataframe\">\n",
       "  <thead>\n",
       "    <tr style=\"text-align: right;\">\n",
       "      <th></th>\n",
       "      <th>Date</th>\n",
       "      <th>Temperature</th>\n",
       "      <th>Humidity</th>\n",
       "      <th>discharge_pressure</th>\n",
       "      <th>suction_pressure</th>\n",
       "      <th>differential_pressure</th>\n",
       "      <th>rotor_temperature</th>\n",
       "      <th>packing_leakage_rate</th>\n",
       "      <th>axial_bearing_temp</th>\n",
       "      <th>horizontal_bearing_temp</th>\n",
       "      <th>...</th>\n",
       "      <th>day-of-week</th>\n",
       "      <th>hour</th>\n",
       "      <th>Operator1</th>\n",
       "      <th>Operator2</th>\n",
       "      <th>Operator3</th>\n",
       "      <th>Operator4</th>\n",
       "      <th>Operator5</th>\n",
       "      <th>Operator6</th>\n",
       "      <th>Operator7</th>\n",
       "      <th>Operator8</th>\n",
       "    </tr>\n",
       "  </thead>\n",
       "  <tbody>\n",
       "    <tr>\n",
       "      <th>0</th>\n",
       "      <td>2016-01-01 00:00:00</td>\n",
       "      <td>67</td>\n",
       "      <td>82</td>\n",
       "      <td>291</td>\n",
       "      <td>1</td>\n",
       "      <td>1</td>\n",
       "      <td>1041</td>\n",
       "      <td>846</td>\n",
       "      <td>334</td>\n",
       "      <td>706</td>\n",
       "      <td>...</td>\n",
       "      <td>5</td>\n",
       "      <td>0</td>\n",
       "      <td>1</td>\n",
       "      <td>0</td>\n",
       "      <td>0</td>\n",
       "      <td>0</td>\n",
       "      <td>0</td>\n",
       "      <td>0</td>\n",
       "      <td>0</td>\n",
       "      <td>0</td>\n",
       "    </tr>\n",
       "    <tr>\n",
       "      <th>1</th>\n",
       "      <td>2016-01-01 01:00:00</td>\n",
       "      <td>68</td>\n",
       "      <td>77</td>\n",
       "      <td>1180</td>\n",
       "      <td>1</td>\n",
       "      <td>1</td>\n",
       "      <td>1915</td>\n",
       "      <td>1194</td>\n",
       "      <td>637</td>\n",
       "      <td>1093</td>\n",
       "      <td>...</td>\n",
       "      <td>5</td>\n",
       "      <td>1</td>\n",
       "      <td>1</td>\n",
       "      <td>0</td>\n",
       "      <td>0</td>\n",
       "      <td>0</td>\n",
       "      <td>0</td>\n",
       "      <td>0</td>\n",
       "      <td>0</td>\n",
       "      <td>0</td>\n",
       "    </tr>\n",
       "    <tr>\n",
       "      <th>2</th>\n",
       "      <td>2016-01-01 02:00:00</td>\n",
       "      <td>64</td>\n",
       "      <td>76</td>\n",
       "      <td>1406</td>\n",
       "      <td>1</td>\n",
       "      <td>1</td>\n",
       "      <td>511</td>\n",
       "      <td>1577</td>\n",
       "      <td>1121</td>\n",
       "      <td>1948</td>\n",
       "      <td>...</td>\n",
       "      <td>5</td>\n",
       "      <td>2</td>\n",
       "      <td>1</td>\n",
       "      <td>0</td>\n",
       "      <td>0</td>\n",
       "      <td>0</td>\n",
       "      <td>0</td>\n",
       "      <td>0</td>\n",
       "      <td>0</td>\n",
       "      <td>0</td>\n",
       "    </tr>\n",
       "    <tr>\n",
       "      <th>3</th>\n",
       "      <td>2016-01-01 03:00:00</td>\n",
       "      <td>63</td>\n",
       "      <td>80</td>\n",
       "      <td>550</td>\n",
       "      <td>1</td>\n",
       "      <td>1</td>\n",
       "      <td>1754</td>\n",
       "      <td>1834</td>\n",
       "      <td>1413</td>\n",
       "      <td>1151</td>\n",
       "      <td>...</td>\n",
       "      <td>5</td>\n",
       "      <td>3</td>\n",
       "      <td>1</td>\n",
       "      <td>0</td>\n",
       "      <td>0</td>\n",
       "      <td>0</td>\n",
       "      <td>0</td>\n",
       "      <td>0</td>\n",
       "      <td>0</td>\n",
       "      <td>0</td>\n",
       "    </tr>\n",
       "    <tr>\n",
       "      <th>4</th>\n",
       "      <td>2016-01-01 04:00:00</td>\n",
       "      <td>65</td>\n",
       "      <td>81</td>\n",
       "      <td>1928</td>\n",
       "      <td>1</td>\n",
       "      <td>2</td>\n",
       "      <td>1326</td>\n",
       "      <td>1082</td>\n",
       "      <td>233</td>\n",
       "      <td>1441</td>\n",
       "      <td>...</td>\n",
       "      <td>5</td>\n",
       "      <td>4</td>\n",
       "      <td>1</td>\n",
       "      <td>0</td>\n",
       "      <td>0</td>\n",
       "      <td>0</td>\n",
       "      <td>0</td>\n",
       "      <td>0</td>\n",
       "      <td>0</td>\n",
       "      <td>0</td>\n",
       "    </tr>\n",
       "  </tbody>\n",
       "</table>\n",
       "<p>5 rows × 33 columns</p>\n",
       "</div>"
      ],
      "text/plain": [
       "                 Date  Temperature  Humidity  discharge_pressure  \\\n",
       "0 2016-01-01 00:00:00           67        82                 291   \n",
       "1 2016-01-01 01:00:00           68        77                1180   \n",
       "2 2016-01-01 02:00:00           64        76                1406   \n",
       "3 2016-01-01 03:00:00           63        80                 550   \n",
       "4 2016-01-01 04:00:00           65        81                1928   \n",
       "\n",
       "   suction_pressure  differential_pressure  rotor_temperature  \\\n",
       "0                 1                      1               1041   \n",
       "1                 1                      1               1915   \n",
       "2                 1                      1                511   \n",
       "3                 1                      1               1754   \n",
       "4                 1                      2               1326   \n",
       "\n",
       "   packing_leakage_rate  axial_bearing_temp  horizontal_bearing_temp  \\\n",
       "0                   846                 334                      706   \n",
       "1                  1194                 637                     1093   \n",
       "2                  1577                1121                     1948   \n",
       "3                  1834                1413                     1151   \n",
       "4                  1082                 233                     1441   \n",
       "\n",
       "     ...      day-of-week  hour  Operator1  Operator2  Operator3  Operator4  \\\n",
       "0    ...                5     0          1          0          0          0   \n",
       "1    ...                5     1          1          0          0          0   \n",
       "2    ...                5     2          1          0          0          0   \n",
       "3    ...                5     3          1          0          0          0   \n",
       "4    ...                5     4          1          0          0          0   \n",
       "\n",
       "   Operator5  Operator6  Operator7  Operator8  \n",
       "0          0          0          0          0  \n",
       "1          0          0          0          0  \n",
       "2          0          0          0          0  \n",
       "3          0          0          0          0  \n",
       "4          0          0          0          0  \n",
       "\n",
       "[5 rows x 33 columns]"
      ]
     },
     "execution_count": 19,
     "metadata": {},
     "output_type": "execute_result"
    }
   ],
   "source": [
    "equipment_df.head()"
   ]
  },
  {
   "cell_type": "code",
   "execution_count": 20,
   "metadata": {
    "collapsed": true
   },
   "outputs": [],
   "source": [
    "week_dummies = pd.get_dummies(equipment_df['day-of-week'])"
   ]
  },
  {
   "cell_type": "code",
   "execution_count": 21,
   "metadata": {
    "collapsed": true
   },
   "outputs": [],
   "source": [
    "equipment_df = pd.concat([equipment_df.drop('day-of-week', axis=1), week_dummies], axis=1)"
   ]
  },
  {
   "cell_type": "code",
   "execution_count": 22,
   "metadata": {
    "scrolled": true
   },
   "outputs": [
    {
     "data": {
      "text/html": [
       "<div>\n",
       "<style>\n",
       "    .dataframe thead tr:only-child th {\n",
       "        text-align: right;\n",
       "    }\n",
       "\n",
       "    .dataframe thead th {\n",
       "        text-align: left;\n",
       "    }\n",
       "\n",
       "    .dataframe tbody tr th {\n",
       "        vertical-align: top;\n",
       "    }\n",
       "</style>\n",
       "<table border=\"1\" class=\"dataframe\">\n",
       "  <thead>\n",
       "    <tr style=\"text-align: right;\">\n",
       "      <th></th>\n",
       "      <th>Date</th>\n",
       "      <th>Temperature</th>\n",
       "      <th>Humidity</th>\n",
       "      <th>discharge_pressure</th>\n",
       "      <th>suction_pressure</th>\n",
       "      <th>differential_pressure</th>\n",
       "      <th>rotor_temperature</th>\n",
       "      <th>packing_leakage_rate</th>\n",
       "      <th>axial_bearing_temp</th>\n",
       "      <th>horizontal_bearing_temp</th>\n",
       "      <th>...</th>\n",
       "      <th>Operator6</th>\n",
       "      <th>Operator7</th>\n",
       "      <th>Operator8</th>\n",
       "      <th>1</th>\n",
       "      <th>2</th>\n",
       "      <th>3</th>\n",
       "      <th>4</th>\n",
       "      <th>5</th>\n",
       "      <th>6</th>\n",
       "      <th>7</th>\n",
       "    </tr>\n",
       "  </thead>\n",
       "  <tbody>\n",
       "    <tr>\n",
       "      <th>0</th>\n",
       "      <td>2016-01-01 00:00:00</td>\n",
       "      <td>67</td>\n",
       "      <td>82</td>\n",
       "      <td>291</td>\n",
       "      <td>1</td>\n",
       "      <td>1</td>\n",
       "      <td>1041</td>\n",
       "      <td>846</td>\n",
       "      <td>334</td>\n",
       "      <td>706</td>\n",
       "      <td>...</td>\n",
       "      <td>0</td>\n",
       "      <td>0</td>\n",
       "      <td>0</td>\n",
       "      <td>0</td>\n",
       "      <td>0</td>\n",
       "      <td>0</td>\n",
       "      <td>0</td>\n",
       "      <td>1</td>\n",
       "      <td>0</td>\n",
       "      <td>0</td>\n",
       "    </tr>\n",
       "    <tr>\n",
       "      <th>1</th>\n",
       "      <td>2016-01-01 01:00:00</td>\n",
       "      <td>68</td>\n",
       "      <td>77</td>\n",
       "      <td>1180</td>\n",
       "      <td>1</td>\n",
       "      <td>1</td>\n",
       "      <td>1915</td>\n",
       "      <td>1194</td>\n",
       "      <td>637</td>\n",
       "      <td>1093</td>\n",
       "      <td>...</td>\n",
       "      <td>0</td>\n",
       "      <td>0</td>\n",
       "      <td>0</td>\n",
       "      <td>0</td>\n",
       "      <td>0</td>\n",
       "      <td>0</td>\n",
       "      <td>0</td>\n",
       "      <td>1</td>\n",
       "      <td>0</td>\n",
       "      <td>0</td>\n",
       "    </tr>\n",
       "    <tr>\n",
       "      <th>2</th>\n",
       "      <td>2016-01-01 02:00:00</td>\n",
       "      <td>64</td>\n",
       "      <td>76</td>\n",
       "      <td>1406</td>\n",
       "      <td>1</td>\n",
       "      <td>1</td>\n",
       "      <td>511</td>\n",
       "      <td>1577</td>\n",
       "      <td>1121</td>\n",
       "      <td>1948</td>\n",
       "      <td>...</td>\n",
       "      <td>0</td>\n",
       "      <td>0</td>\n",
       "      <td>0</td>\n",
       "      <td>0</td>\n",
       "      <td>0</td>\n",
       "      <td>0</td>\n",
       "      <td>0</td>\n",
       "      <td>1</td>\n",
       "      <td>0</td>\n",
       "      <td>0</td>\n",
       "    </tr>\n",
       "    <tr>\n",
       "      <th>3</th>\n",
       "      <td>2016-01-01 03:00:00</td>\n",
       "      <td>63</td>\n",
       "      <td>80</td>\n",
       "      <td>550</td>\n",
       "      <td>1</td>\n",
       "      <td>1</td>\n",
       "      <td>1754</td>\n",
       "      <td>1834</td>\n",
       "      <td>1413</td>\n",
       "      <td>1151</td>\n",
       "      <td>...</td>\n",
       "      <td>0</td>\n",
       "      <td>0</td>\n",
       "      <td>0</td>\n",
       "      <td>0</td>\n",
       "      <td>0</td>\n",
       "      <td>0</td>\n",
       "      <td>0</td>\n",
       "      <td>1</td>\n",
       "      <td>0</td>\n",
       "      <td>0</td>\n",
       "    </tr>\n",
       "    <tr>\n",
       "      <th>4</th>\n",
       "      <td>2016-01-01 04:00:00</td>\n",
       "      <td>65</td>\n",
       "      <td>81</td>\n",
       "      <td>1928</td>\n",
       "      <td>1</td>\n",
       "      <td>2</td>\n",
       "      <td>1326</td>\n",
       "      <td>1082</td>\n",
       "      <td>233</td>\n",
       "      <td>1441</td>\n",
       "      <td>...</td>\n",
       "      <td>0</td>\n",
       "      <td>0</td>\n",
       "      <td>0</td>\n",
       "      <td>0</td>\n",
       "      <td>0</td>\n",
       "      <td>0</td>\n",
       "      <td>0</td>\n",
       "      <td>1</td>\n",
       "      <td>0</td>\n",
       "      <td>0</td>\n",
       "    </tr>\n",
       "  </tbody>\n",
       "</table>\n",
       "<p>5 rows × 39 columns</p>\n",
       "</div>"
      ],
      "text/plain": [
       "                 Date  Temperature  Humidity  discharge_pressure  \\\n",
       "0 2016-01-01 00:00:00           67        82                 291   \n",
       "1 2016-01-01 01:00:00           68        77                1180   \n",
       "2 2016-01-01 02:00:00           64        76                1406   \n",
       "3 2016-01-01 03:00:00           63        80                 550   \n",
       "4 2016-01-01 04:00:00           65        81                1928   \n",
       "\n",
       "   suction_pressure  differential_pressure  rotor_temperature  \\\n",
       "0                 1                      1               1041   \n",
       "1                 1                      1               1915   \n",
       "2                 1                      1                511   \n",
       "3                 1                      1               1754   \n",
       "4                 1                      2               1326   \n",
       "\n",
       "   packing_leakage_rate  axial_bearing_temp  horizontal_bearing_temp ...  \\\n",
       "0                   846                 334                      706 ...   \n",
       "1                  1194                 637                     1093 ...   \n",
       "2                  1577                1121                     1948 ...   \n",
       "3                  1834                1413                     1151 ...   \n",
       "4                  1082                 233                     1441 ...   \n",
       "\n",
       "   Operator6  Operator7  Operator8  1  2  3  4  5  6  7  \n",
       "0          0          0          0  0  0  0  0  1  0  0  \n",
       "1          0          0          0  0  0  0  0  1  0  0  \n",
       "2          0          0          0  0  0  0  0  1  0  0  \n",
       "3          0          0          0  0  0  0  0  1  0  0  \n",
       "4          0          0          0  0  0  0  0  1  0  0  \n",
       "\n",
       "[5 rows x 39 columns]"
      ]
     },
     "execution_count": 22,
     "metadata": {},
     "output_type": "execute_result"
    }
   ],
   "source": [
    "equipment_df.head()"
   ]
  },
  {
   "cell_type": "code",
   "execution_count": 23,
   "metadata": {},
   "outputs": [
    {
     "data": {
      "text/plain": [
       "39"
      ]
     },
     "execution_count": 23,
     "metadata": {},
     "output_type": "execute_result"
    }
   ],
   "source": [
    "len(equipment_df.columns)"
   ]
  },
  {
   "cell_type": "code",
   "execution_count": null,
   "metadata": {
    "collapsed": true
   },
   "outputs": [],
   "source": []
  }
 ],
 "metadata": {
  "kernelspec": {
   "display_name": "Python 3",
   "language": "python",
   "name": "python3"
  },
  "language_info": {
   "codemirror_mode": {
    "name": "ipython",
    "version": 3
   },
   "file_extension": ".py",
   "mimetype": "text/x-python",
   "name": "python",
   "nbconvert_exporter": "python",
   "pygments_lexer": "ipython3",
   "version": "3.6.4"
  }
 },
 "nbformat": 4,
 "nbformat_minor": 2
}
